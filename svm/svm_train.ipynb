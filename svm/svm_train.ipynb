{
 "cells": [
  {
   "cell_type": "code",
   "execution_count": null,
   "metadata": {},
   "outputs": [],
   "source": [
    "# import sys\n",
    "# sys.path.append(\"..\")\n",
    "# from common_utils import DATA_HOME\n",
    "import numpy as np\n",
    "from numpy import linspace\n",
    "import matplotlib.pyplot as plt\n",
    "\n",
    "from svm import *   \n",
    "\n",
    "np.random.seed(10)\n"
   ]
  },
  {
   "cell_type": "code",
   "execution_count": null,
   "metadata": {},
   "outputs": [],
   "source": [
    "# target function \n",
    "W = 3.65\n",
    "B = 0.6\n",
    "num_points = 20"
   ]
  },
  {
   "cell_type": "markdown",
   "metadata": {},
   "source": [
    "### build dataset"
   ]
  },
  {
   "cell_type": "code",
   "execution_count": null,
   "metadata": {},
   "outputs": [],
   "source": [
    "# Generate random points\n",
    "x = np.random.rand(num_points)\n",
    "y = np.random.rand(num_points)\n",
    "labels = []\n",
    "\n",
    "# label the data points\n",
    "for i in range(num_points):\n",
    "    yhat = x[i] * W - B\n",
    "    labels.append(1.) if yhat > y[i] else labels.append(-1.)"
   ]
  },
  {
   "cell_type": "markdown",
   "metadata": {},
   "source": [
    "### Train SVM"
   ]
  },
  {
   "cell_type": "code",
   "execution_count": null,
   "metadata": {},
   "outputs": [],
   "source": [
    "weight, bias = 0., 0.\n",
    "EPOCHS = 100\n",
    "lr = 0.005"
   ]
  },
  {
   "cell_type": "code",
   "execution_count": null,
   "metadata": {},
   "outputs": [],
   "source": [
    "for e in range(EPOCHS):\n",
    "    loss = 0.\n",
    "    for i in range(num_points):\n",
    "        yhat = predict(x[i], weight, bias)\n",
    "        l, dw, db = compute_loss(x[i], yhat, labels[i], weight, lamb=0.0)\n",
    "        loss += l\n",
    "        weight -= dw * lr\n",
    "        bias -= db * lr\n",
    "    print(f\"loss: {loss/num_points}, weight: {weight}, bias: {bias}\")\n"
   ]
  },
  {
   "cell_type": "markdown",
   "metadata": {},
   "source": [
    "### visualize results"
   ]
  },
  {
   "cell_type": "code",
   "execution_count": null,
   "metadata": {},
   "outputs": [],
   "source": [
    "# Set figure size\n",
    "plt.figure(figsize=(3, 3))  \n",
    "\n",
    "# Plot the line\n",
    "x_line = np.linspace(0, 1, 100)\n",
    "plt.plot(x_line, x_line * W - B, color='blue', label='wx + b')\n",
    "plt.plot(x_line, x_line * weight - bias, color='black', label='wx + b')\n",
    "\n",
    "# Plot the data points with colors corresponding to their labels\n",
    "for i in range(num_points):\n",
    "    color = 'red' if labels[i] == 1. else 'green'\n",
    "    plt.scatter(x[i], y[i], color=color)\n",
    "\n",
    "# Plot the points\n",
    "plt.title('Random Points')\n",
    "plt.xlabel('X')\n",
    "plt.ylabel('Y')\n",
    "plt.xlim(0, 1)\n",
    "plt.ylim(0, 1)\n",
    "plt.grid(True)\n",
    "plt.show()"
   ]
  }
 ],
 "metadata": {
  "kernelspec": {
   "display_name": "python-general",
   "language": "python",
   "name": "python3"
  },
  "language_info": {
   "codemirror_mode": {
    "name": "ipython",
    "version": 3
   },
   "file_extension": ".py",
   "mimetype": "text/x-python",
   "name": "python",
   "nbconvert_exporter": "python",
   "pygments_lexer": "ipython3",
   "version": "3.12.2"
  }
 },
 "nbformat": 4,
 "nbformat_minor": 2
}
