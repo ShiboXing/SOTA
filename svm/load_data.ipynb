{
 "cells": [
  {
   "cell_type": "code",
   "execution_count": null,
   "metadata": {},
   "outputs": [],
   "source": [
    "# import sys\n",
    "# sys.path.append(\"..\")\n",
    "# from common_utils import DATA_HOME\n",
    "import pandas as pd\n",
    "import sklearn\n",
    "from sklearn.svm import SVC\n",
    "from sklearn.preprocessing import LabelEncoder\n",
    "from sklearn.preprocessing import StandardScaler\n",
    "from sklearn.model_selection import train_test_split\n",
    "from sklearn.model_selection import GridSearchCV\n",
    "from sklearn.dummy import DummyClassifier\n",
    "from sklearn.metrics import accuracy_score, precision_score, recall_score, f1_score, make_scorer, classification_report, confusion_matrix\n",
    "from collections import Counter\n",
    "# dataset = \"playground-series-s4e2\"\n"
   ]
  },
  {
   "cell_type": "code",
   "execution_count": null,
   "metadata": {},
   "outputs": [],
   "source": [
    "# DATA_HOME\n",
    "train_data = pd.read_csv(\"/Users/anyxling/datasets/playground-series-s4e2/train.csv\", index_col=0)\n",
    "print(train_data.describe())\n",
    "train_data.head()\n",
    "set(train_data[\"CALC\"])"
   ]
  },
  {
   "cell_type": "code",
   "execution_count": null,
   "metadata": {},
   "outputs": [],
   "source": [
    "test_data = pd.read_csv('/Users/anyxling/datasets/playground-series-s4e2/test.csv', index_col=0)\n",
    "print(test_data.describe())\n",
    "test_data.head()\n",
    "test_data[test_data[\"CALC\"]==\"Always\"]"
   ]
  },
  {
   "cell_type": "code",
   "execution_count": null,
   "metadata": {},
   "outputs": [],
   "source": [
    "# split x, y in the train dataset\n",
    "X_train_data, y_train_data = train_data.iloc[:, :-1], train_data.iloc[:, -1]\n",
    "\n",
    "# encode categorical variables for the features in train dataset \n",
    "str_cols_X_train = X_train_data.select_dtypes(include=['object']).columns\n",
    "le_features = LabelEncoder()\n",
    "for col in str_cols_X_train:\n",
    "    X_train_data[col] = le_features.fit_transform(X_train_data[col])\n",
    "    print(col, dict(zip(le_features.classes_, range(len(le_features.classes_)))))\n",
    "X_train_data.head()"
   ]
  },
  {
   "cell_type": "code",
   "execution_count": null,
   "metadata": {},
   "outputs": [],
   "source": [
    "# encode the labels in train data\n",
    "le_labels = LabelEncoder()\n",
    "y_train_data_encoded = le_labels.fit_transform(y_train_data)\n",
    "y_train_data_encoded.shape, X_train_data.shape\n",
    "y_train_data"
   ]
  },
  {
   "cell_type": "code",
   "execution_count": null,
   "metadata": {},
   "outputs": [],
   "source": [
    "# encode categorical variables for the test data \n",
    "str_cols_test = test_data.select_dtypes(include=['object']).columns\n",
    "for col in str_cols_test:\n",
    "    test_data[col] = le_features.fit_transform(test_data[col])\n",
    "    print(col, dict(zip(le_features.classes_, range(len(le_features.classes_)))))\n",
    "test_data.head()"
   ]
  },
  {
   "cell_type": "code",
   "execution_count": null,
   "metadata": {},
   "outputs": [],
   "source": [
    "# scale the features and split it into train, validation, and test dataset\n",
    "sc = StandardScaler()\n",
    "X_train_data_scaled = sc.fit_transform(X_train_data)\n",
    "\n",
    "X_train, X_val_test, y_train, y_val_test = train_test_split(X_train_data_scaled, y_train_data_encoded, test_size=0.1, random_state=42)\n",
    "X_val, X_test, y_val, y_test = train_test_split(X_val_test, y_val_test, test_size=0.5, random_state=42)\n",
    "X_train.shape, X_val.shape, X_test.shape\n",
    "pd.DataFrame(X_train_data_scaled).describe()"
   ]
  },
  {
   "cell_type": "code",
   "execution_count": null,
   "metadata": {},
   "outputs": [],
   "source": [
    "# check if the dataset is imbalanced or not\n",
    "train_class_distribution = Counter(y_train_data_encoded)\n",
    "print(train_class_distribution)"
   ]
  },
  {
   "cell_type": "code",
   "execution_count": null,
   "metadata": {},
   "outputs": [],
   "source": [
    "# use grid search to try out different combinations of parameters \n",
    "param_grid = {\n",
    "    'C': [1, 10, 100],\n",
    "    'kernel': ['linear', 'rbf'],\n",
    "    'gamma': ['scale', 'auto', 1, 0.1]\n",
    "}\n",
    "\n",
    "scoring = {\n",
    "    'accuracy': make_scorer(accuracy_score),\n",
    "    'precision': make_scorer(precision_score, average='macro'),\n",
    "    'recall': make_scorer(recall_score, average='macro')\n",
    "}\n",
    "\n",
    "svm = SVC()\n",
    "grid_search = GridSearchCV(svm, param_grid, scoring=scoring, refit='accuracy', verbose=1, n_jobs=-1)\n",
    "grid_search.fit(X_train, y_train)"
   ]
  },
  {
   "cell_type": "code",
   "execution_count": null,
   "metadata": {},
   "outputs": [],
   "source": [
    "# get the best combination of parameters and its score\n",
    "print(\"Best parameters:\", grid_search.best_params_)\n",
    "print(\"Best score:\", grid_search.best_score_)"
   ]
  },
  {
   "cell_type": "code",
   "execution_count": null,
   "metadata": {},
   "outputs": [],
   "source": [
    "# apply on the validation set \n",
    "best_model = grid_search.best_estimator_\n",
    "val_accuracy = best_model.score(X_val, y_val)\n",
    "print(\"Validation accuracy:\", val_accuracy)"
   ]
  },
  {
   "cell_type": "code",
   "execution_count": null,
   "metadata": {},
   "outputs": [],
   "source": [
    "# compare the validation accuracy with the baseline model\n",
    "dummy_clf = DummyClassifier(strategy='most_frequent') # naive classifier, majority vote\n",
    "dummy_clf.fit(X_train, y_train)\n",
    "y_pred_dummy = dummy_clf.predict(X_test)\n",
    "accuracy_dummy = accuracy_score(y_test, y_pred_dummy)\n",
    "print(\"accuracy score for dummy classifier:\", accuracy_dummy)"
   ]
  },
  {
   "cell_type": "code",
   "execution_count": null,
   "metadata": {},
   "outputs": [],
   "source": [
    "# since the performance's good, apply on the test set\n",
    "test_accuracy = best_model.score(X_test, y_test)\n",
    "test_pred = best_model.predict(X_test)\n",
    "print(\"test accuracy:\", test_accuracy)\n",
    "print(classification_report(y_test, test_pred))\n",
    "confusion_matrix(y_test, test_pred)"
   ]
  },
  {
   "cell_type": "code",
   "execution_count": null,
   "metadata": {},
   "outputs": [],
   "source": [
    "test_data_scaled = sc.fit_transform(test_data)\n",
    "test_pred = best_model.predict(test_data_scaled)\n"
   ]
  },
  {
   "cell_type": "code",
   "execution_count": null,
   "metadata": {},
   "outputs": [],
   "source": [
    "decoded_pred = le_labels.inverse_transform(test_pred)\n",
    "decoded_pred"
   ]
  },
  {
   "cell_type": "code",
   "execution_count": null,
   "metadata": {},
   "outputs": [],
   "source": [
    "sub = pd.DataFrame({\n",
    "    \"id\": test_data['id'],\n",
    "    \"NObeyesdad\": decoded_pred\n",
    "})\n",
    "sub"
   ]
  },
  {
   "cell_type": "code",
   "execution_count": null,
   "metadata": {},
   "outputs": [],
   "source": [
    "sub.to_csv('submission.csv', index=False)"
   ]
  }
 ],
 "metadata": {
  "kernelspec": {
   "display_name": "python-general",
   "language": "python",
   "name": "python3"
  },
  "language_info": {
   "codemirror_mode": {
    "name": "ipython",
    "version": 3
   },
   "file_extension": ".py",
   "mimetype": "text/x-python",
   "name": "python",
   "nbconvert_exporter": "python",
   "pygments_lexer": "ipython3",
   "version": "3.12.2"
  }
 },
 "nbformat": 4,
 "nbformat_minor": 2
}
