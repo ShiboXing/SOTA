{
 "cells": [
  {
   "cell_type": "code",
   "execution_count": null,
   "metadata": {},
   "outputs": [],
   "source": [
    "import sys\n",
    "\n",
    "sys.path.append(\"..\")\n",
    "from common_utils import set_data_home\n",
    "\n",
    "set_data_home(\"~/datasets\")\n",
    "from common_utils import DATA_HOME, join\n",
    "from sales_data import Sales_Dataset\n",
    "import torch\n",
    "import random\n",
    "\n",
    "device = \"cuda\" if torch.cuda.is_available() else \"cpu\"\n",
    "SALE_HOME = join(DATA_HOME, \"sales_data\")\n",
    "MODEL_HOME = join(DATA_HOME, \"sale_model\")\n",
    "\n",
    "torch.manual_seed(42)\n",
    "random.seed(42)\n",
    "\n",
    "saved_iter = 500\n",
    "I, H, B = 528, 528, 4\n",
    "TRANSFORMER_LAYER = 4\n",
    "LSTM_LAYER = 2\n",
    "HEAD = 12\n",
    "SEQ_LEN = 116\n",
    "INFER_DAYS = 16"
   ]
  },
  {
   "cell_type": "code",
   "execution_count": null,
   "metadata": {},
   "outputs": [],
   "source": [
    "from predictor import Predictor\n",
    "\n",
    "model = Predictor(I, H, LSTM_LAYER, TRANSFORMER_LAYER, HEAD, SEQ_LEN).cuda()"
   ]
  },
  {
   "cell_type": "code",
   "execution_count": null,
   "metadata": {},
   "outputs": [],
   "source": [
    "sd = Sales_Dataset(SALE_HOME, seq_len=SEQ_LEN, is_train=False)"
   ]
  },
  {
   "cell_type": "code",
   "execution_count": null,
   "metadata": {},
   "outputs": [],
   "source": [
    "print(sd[1][0].shape, sd[1][1].shape, sd[1][2].shape, sd[1][3])"
   ]
  },
  {
   "cell_type": "markdown",
   "metadata": {},
   "source": [
    "### Perform Inference"
   ]
  },
  {
   "cell_type": "code",
   "execution_count": null,
   "metadata": {},
   "outputs": [],
   "source": [
    "import pandas as pd\n",
    "from datetime import timedelta\n",
    "\n",
    "model.load_state_dict(torch.load(f\"sales_model_{saved_iter}_{B}.pth\"))\n",
    "\n",
    "sales = pd.read_csv(join(SALE_HOME, \"test.csv\"), index_col=0)\n",
    "sales[\"sales\"] = 0.0\n",
    "# base_sales = sd.base_sales.set_index([\"store_nbr\", \"date\"])\n",
    "\n",
    "for X1, X2, base_sales, store_id, di in sd:\n",
    "    X1 = X1.cuda().unsqueeze(0)\n",
    "    X2 = X2.cuda().unsqueeze(0)\n",
    "    base_sales = base_sales[[-1]].cuda().unsqueeze(0)\n",
    "    di = ([di[0]], [di[1]])\n",
    "    yhat1, yhat2 = model(X1, X2, di)\n",
    "\n",
    "    # infer and update input for each store\n",
    "    yhat_sales = Sales_Dataset.batched_ret_2_sales(\n",
    "        base_sales, yhat1[:, [-1], :], yhat2[:, [-1], :]\n",
    "    )\n",
    "    yhat_sales = yhat_sales.squeeze(0, 1)\n",
    "    for i in range(INFER_DAYS):\n",
    "        # compute actual sales\n",
    "        ts = (sd.train_max_date + timedelta(days=i + 1)).strftime(\"%Y-%m-%d\")\n",
    "\n",
    "        # write to each family in the answer dataframe\n",
    "        for j, f in enumerate(sd.families):\n",
    "            sales.loc[\n",
    "                (sales.date == ts)\n",
    "                & (sales.store_nbr == store_id)\n",
    "                & (sales.family == f),\n",
    "                \"sales\",\n",
    "            ] = (\n",
    "                yhat_sales[i * len(sd.families) + j].cpu().item()\n",
    "            )"
   ]
  },
  {
   "cell_type": "markdown",
   "metadata": {},
   "source": [
    "### output the answer"
   ]
  },
  {
   "cell_type": "code",
   "execution_count": null,
   "metadata": {},
   "outputs": [],
   "source": [
    "sales"
   ]
  },
  {
   "cell_type": "code",
   "execution_count": null,
   "metadata": {},
   "outputs": [],
   "source": [
    "sales.drop(columns=[\"store_nbr\", \"date\", \"family\", \"onpromotion\"]).sort_values(\n",
    "    \"id\"\n",
    ").sort_index().to_csv(\"answer.csv\", index=True)"
   ]
  },
  {
   "cell_type": "code",
   "execution_count": null,
   "metadata": {},
   "outputs": [],
   "source": []
  }
 ],
 "metadata": {
  "kernelspec": {
   "display_name": "pydev",
   "language": "python",
   "name": "python3"
  },
  "language_info": {
   "codemirror_mode": {
    "name": "ipython",
    "version": 3
   },
   "file_extension": ".py",
   "mimetype": "text/x-python",
   "name": "python",
   "nbconvert_exporter": "python",
   "pygments_lexer": "ipython3",
   "version": "3.12.4"
  }
 },
 "nbformat": 4,
 "nbformat_minor": 2
}
