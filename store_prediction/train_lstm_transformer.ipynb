{
 "cells": [
  {
   "cell_type": "code",
   "execution_count": 1,
   "metadata": {},
   "outputs": [],
   "source": [
    "import sys, os\n",
    "import random\n",
    "\n",
    "sys.path.append(\"..\")\n",
    "from common_utils import DATA_HOME\n",
    "import torch\n",
    "import numpy as np\n",
    "\n",
    "seed = 42\n",
    "\n",
    "g = torch.Generator()\n",
    "g.manual_seed(seed)\n",
    "np.random.seed(seed)\n",
    "torch.manual_seed(seed)\n",
    "random.seed(seed)\n",
    "\n",
    "from store_prediction.sales_data import Sales_Dataset\n",
    "from torch.utils.data.dataloader import DataLoader"
   ]
  },
  {
   "cell_type": "code",
   "execution_count": 2,
   "metadata": {},
   "outputs": [
    {
     "data": {
      "text/plain": [
       "(42020, 425)"
      ]
     },
     "execution_count": 2,
     "metadata": {},
     "output_type": "execute_result"
    }
   ],
   "source": [
    "SALE_HOME = os.path.join(DATA_HOME, \"sales_data\")\n",
    "\n",
    "I, H, B = 528, 528, 2\n",
    "TRANSFORMER_LAYER = 4\n",
    "LSTM_LAYER = 4\n",
    "HEAD = 12\n",
    "SEQ_LEN = 116\n",
    "INFER_DAYS = 16\n",
    "\n",
    "sd = Sales_Dataset(SALE_HOME, seq_len=SEQ_LEN, device=\"cuda\")\n",
    "test_set, train_set = torch.utils.data.random_split(sd, [0.01, 0.99])\n",
    "train_dl = DataLoader(train_set, shuffle=True, batch_size=B, generator=g)\n",
    "test_dl = DataLoader(test_set, shuffle=True, batch_size=B, generator=g)\n",
    "len(train_dl), len(test_dl)"
   ]
  },
  {
   "cell_type": "code",
   "execution_count": 3,
   "metadata": {},
   "outputs": [
    {
     "name": "stdout",
     "output_type": "stream",
     "text": [
      "42020 425\n",
      "torch.Size([116, 528]) torch.Size([116, 528])\n"
     ]
    }
   ],
   "source": [
    "print(len(train_dl), len(test_dl))\n",
    "# print(sd.O.describe())\n",
    "# print(sd.TS.describe())\n",
    "# print(sd.S.describe())\n",
    "print(sd[0][0].shape, sd[4][0].shape)\n",
    "# print(sd[4][1].shape)\n",
    "# print(sd[4][0], sd[4][1])"
   ]
  },
  {
   "cell_type": "code",
   "execution_count": 4,
   "metadata": {},
   "outputs": [],
   "source": [
    "from torch import optim\n",
    "import matplotlib.pyplot as plt\n",
    "from IPython.display import clear_output\n",
    "from predictor import Predictor\n",
    "\n",
    "model = Predictor(I, H, LSTM_LAYER, TRANSFORMER_LAYER, HEAD, SEQ_LEN).cuda()"
   ]
  },
  {
   "cell_type": "code",
   "execution_count": 5,
   "metadata": {},
   "outputs": [],
   "source": [
    "MSE = torch.nn.MSELoss()\n",
    "\n",
    "\n",
    "def RMSLE(yhat, y):\n",
    "    return torch.sqrt(MSE(torch.log(yhat + 1), torch.log(y + 1)))"
   ]
  },
  {
   "cell_type": "markdown",
   "metadata": {},
   "source": [
    "### PyTorch Model training"
   ]
  },
  {
   "cell_type": "code",
   "execution_count": 6,
   "metadata": {},
   "outputs": [],
   "source": [
    "saved_iter = 0\n",
    "resume_from = f\"sales_model_{saved_iter}_{B}.pth\"\n",
    "\n",
    "if os.path.exists(resume_from):\n",
    "    model.load_state_dict(torch.load(resume_from))\n",
    "    print(f\"{resume_from} model loaded\")\n",
    "else:\n",
    "    saved_iter = 0\n",
    "\n",
    "train_gen = enumerate(train_dl, saved_iter)\n",
    "test_gen = enumerate(test_dl)\n",
    "\n",
    "loss = RMSLE\n",
    "adam = optim.Adam(model.parameters(), lr=0.001)\n",
    "tr_losses, inf_losses = [], []\n",
    "w_means = []\n",
    "\n",
    "\n",
    "fig = plt.figure(figsize=(5, 5))\n",
    "for tr_idx, (X1, X2, y0, y16) in train_gen:\n",
    "    # Train\n",
    "    tr_l, inf_l = 0, 0\n",
    "    yhat1, yhat2 = model(X1, X2)\n",
    "    yhat = Sales_Dataset.batched_ret_2_sales(y0, yhat1, yhat2)\n",
    "    l = loss(yhat, y16)\n",
    "    # update parameters\n",
    "    adam.zero_grad()\n",
    "    l.backward()\n",
    "    adam.step()\n",
    "    tr_l += l.item()\n",
    "\n",
    "    # Validate\n",
    "    try:\n",
    "        inf_idx, (X1, X2, y0, y16) = next(test_gen)\n",
    "    except StopIteration:  # re-initialize test set if exhausted\n",
    "        test_gen = enumerate(test_dl)\n",
    "        inf_idx, (X1, X2, y0, y16) = next(test_gen)\n",
    "\n",
    "    yhat1, yhat2 = model(X1, X2)\n",
    "    yhat = Sales_Dataset.batched_ret_2_sales(y0, yhat1, yhat2)\n",
    "    l = loss(yhat, y16)\n",
    "    inf_l += l.item()\n",
    "    tr_losses.append(tr_l / len(train_dl))\n",
    "    inf_losses.append(inf_l / len(test_dl))\n",
    "    # w_means.append(next(model.parameters())[0].mean().item())\n",
    "    w_means += [yhat1.mean(), yhat2.mean()]\n",
    "    # Log and save\n",
    "    if tr_idx and saved_iter != tr_idx and tr_idx % 100 == 0:\n",
    "        clear_output(wait=True)\n",
    "        plt.plot(\n",
    "            range(saved_iter, saved_iter + len(tr_losses)),\n",
    "            tr_losses,\n",
    "            label=\"train loss\",\n",
    "        )\n",
    "        plt.plot(\n",
    "            range(saved_iter, saved_iter + len(inf_losses)),\n",
    "            inf_losses,\n",
    "            label=\"inf loss\",\n",
    "        )\n",
    "        plt.xlim()\n",
    "        plt.legend()\n",
    "        plt.show()\n",
    "        print(\n",
    "            f\"iteration: {tr_idx} train loss: {tr_l / len(train_dl)} inf loss: {inf_l / len(test_dl)}\"\n",
    "        )\n",
    "\n",
    "        with open(\"tr_loss.txt\", \"w\") as file:\n",
    "            for l in tr_losses:\n",
    "                file.write(f\"{l}\\n\")\n",
    "        with open(\"inf_loss.txt\", \"w\") as file:\n",
    "            for l in inf_losses:\n",
    "                file.write(f\"{l}\\n\")\n",
    "        with open(\"w_means.txt\", \"w\") as file:\n",
    "            for l in w_means:\n",
    "                file.write(f\"{l}\\n\")\n",
    "\n",
    "    if tr_idx and tr_idx % 500 == 0:\n",
    "        torch.save(model.state_dict(), f\"sales_model_{tr_idx}_{B}.pth\")"
   ]
  },
  {
   "cell_type": "code",
   "execution_count": 7,
   "metadata": {},
   "outputs": [
    {
     "name": "stdout",
     "output_type": "stream",
     "text": [
      "> \u001b[0;32m/root/SOTA/store_prediction/predictor.py\u001b[0m(106)\u001b[0;36mapply_rotary_emb\u001b[0;34m()\u001b[0m\n",
      "\u001b[0;32m    104 \u001b[0;31m        \u001b[0mxk_\u001b[0m \u001b[0;34m=\u001b[0m \u001b[0mtorch\u001b[0m\u001b[0;34m.\u001b[0m\u001b[0mview_as_complex\u001b[0m\u001b[0;34m(\u001b[0m\u001b[0mxk\u001b[0m\u001b[0;34m.\u001b[0m\u001b[0mfloat\u001b[0m\u001b[0;34m(\u001b[0m\u001b[0;34m)\u001b[0m\u001b[0;34m.\u001b[0m\u001b[0mreshape\u001b[0m\u001b[0;34m(\u001b[0m\u001b[0;34m*\u001b[0m\u001b[0mxk\u001b[0m\u001b[0;34m.\u001b[0m\u001b[0mshape\u001b[0m\u001b[0;34m[\u001b[0m\u001b[0;34m:\u001b[0m\u001b[0;34m-\u001b[0m\u001b[0;36m1\u001b[0m\u001b[0;34m]\u001b[0m\u001b[0;34m,\u001b[0m \u001b[0;34m-\u001b[0m\u001b[0;36m1\u001b[0m\u001b[0;34m,\u001b[0m \u001b[0;36m2\u001b[0m\u001b[0;34m)\u001b[0m\u001b[0;34m)\u001b[0m\u001b[0;34m\u001b[0m\u001b[0;34m\u001b[0m\u001b[0m\n",
      "\u001b[0m\u001b[0;32m    105 \u001b[0;31m        \u001b[0mfreqs_cis\u001b[0m \u001b[0;34m=\u001b[0m \u001b[0mPredictor\u001b[0m\u001b[0;34m.\u001b[0m\u001b[0mreshape_for_broadcast\u001b[0m\u001b[0;34m(\u001b[0m\u001b[0mfreqs_cis\u001b[0m\u001b[0;34m,\u001b[0m \u001b[0mxq_\u001b[0m\u001b[0;34m)\u001b[0m\u001b[0;34m\u001b[0m\u001b[0;34m\u001b[0m\u001b[0m\n",
      "\u001b[0m\u001b[0;32m--> 106 \u001b[0;31m        \u001b[0mxq_out\u001b[0m \u001b[0;34m=\u001b[0m \u001b[0mtorch\u001b[0m\u001b[0;34m.\u001b[0m\u001b[0mview_as_real\u001b[0m\u001b[0;34m(\u001b[0m\u001b[0mxq_\u001b[0m \u001b[0;34m*\u001b[0m \u001b[0mfreqs_cis\u001b[0m\u001b[0;34m)\u001b[0m\u001b[0;34m.\u001b[0m\u001b[0mflatten\u001b[0m\u001b[0;34m(\u001b[0m\u001b[0;36m2\u001b[0m\u001b[0;34m)\u001b[0m\u001b[0;34m\u001b[0m\u001b[0;34m\u001b[0m\u001b[0m\n",
      "\u001b[0m\u001b[0;32m    107 \u001b[0;31m        \u001b[0mxk_out\u001b[0m \u001b[0;34m=\u001b[0m \u001b[0mtorch\u001b[0m\u001b[0;34m.\u001b[0m\u001b[0mview_as_real\u001b[0m\u001b[0;34m(\u001b[0m\u001b[0mxk_\u001b[0m \u001b[0;34m*\u001b[0m \u001b[0mfreqs_cis\u001b[0m\u001b[0;34m)\u001b[0m\u001b[0;34m.\u001b[0m\u001b[0mflatten\u001b[0m\u001b[0;34m(\u001b[0m\u001b[0;36m2\u001b[0m\u001b[0;34m)\u001b[0m\u001b[0;34m\u001b[0m\u001b[0;34m\u001b[0m\u001b[0m\n",
      "\u001b[0m\u001b[0;32m    108 \u001b[0;31m\u001b[0;34m\u001b[0m\u001b[0m\n",
      "\u001b[0m\n",
      "device(type='cuda', index=0)\n",
      "device(type='cuda', index=0)\n",
      "<class 'predictor.Predictor'>\n",
      "device(type='cuda', index=0)\n",
      "device(type='cpu')\n"
     ]
    }
   ],
   "source": [
    "%debug"
   ]
  },
  {
   "cell_type": "markdown",
   "metadata": {},
   "source": [
    "### display losses"
   ]
  },
  {
   "cell_type": "code",
   "execution_count": null,
   "metadata": {},
   "outputs": [],
   "source": [
    "plt.plot(range(len(tr_losses)), tr_losses, label=\"train loss\")\n",
    "plt.plot(range(len(inf_losses)), inf_losses, label=\"test loss\")\n",
    "plt.legend()\n",
    "plt.show()"
   ]
  },
  {
   "cell_type": "code",
   "execution_count": null,
   "metadata": {},
   "outputs": [],
   "source": []
  }
 ],
 "metadata": {
  "kernelspec": {
   "display_name": "Python 3",
   "language": "python",
   "name": "python3"
  },
  "language_info": {
   "codemirror_mode": {
    "name": "ipython",
    "version": 3
   },
   "file_extension": ".py",
   "mimetype": "text/x-python",
   "name": "python",
   "nbconvert_exporter": "python",
   "pygments_lexer": "ipython3",
   "version": "3.12.4"
  }
 },
 "nbformat": 4,
 "nbformat_minor": 2
}
