{
 "cells": [
  {
   "cell_type": "code",
   "execution_count": null,
   "metadata": {},
   "outputs": [],
   "source": [
    "import numpy as np\n",
    "import matplotlib.pyplot as plt\n",
    "from sklearn.model_selection import train_test_split\n",
    "\n",
    "\n",
    "# Define the curve function\n",
    "def curve_function(x):\n",
    "    return np.sin(x)  # Example curve function, you can replace it with any function\n",
    "\n",
    "\n",
    "# Generate random points along the x-axis\n",
    "num_points = 300\n",
    "x_values = np.linspace(0, 2 * np.pi, num_points)\n",
    "\n",
    "# Add noise to the y-values\n",
    "noise = np.random.normal(\n",
    "    0, 0.1, num_points\n",
    ")  # Adjust the parameters for the desired noise level\n",
    "y_values = curve_function(x_values) + noise\n",
    "\n",
    "# Split the data into training and test sets\n",
    "x_train, x_test, y_train, y_test = train_test_split(\n",
    "    x_values, y_values, test_size=0.5, random_state=42\n",
    ")\n",
    "\n",
    "# Plot the curve\n",
    "plt.figure(figsize=(8, 6))\n",
    "plt.plot(x_train, y_train, \"b.\", label=\"Training Set\")\n",
    "plt.plot(x_test, y_test, \"r.\", label=\"Test Set\")\n",
    "\n",
    "plt.title(\"Training and Test Sets\")\n",
    "plt.xlabel(\"X\")\n",
    "plt.ylabel(\"Y\")\n",
    "plt.legend()\n",
    "plt.grid(True)\n",
    "plt.show()"
   ]
  },
  {
   "cell_type": "code",
   "execution_count": null,
   "metadata": {},
   "outputs": [],
   "source": [
    "X = x_train\n",
    "Y = y_train\n",
    "QX = x_test\n",
    "QY = y_test"
   ]
  },
  {
   "cell_type": "markdown",
   "metadata": {},
   "source": [
    "### Mean Square attention"
   ]
  },
  {
   "cell_type": "code",
   "execution_count": null,
   "metadata": {},
   "outputs": [],
   "source": [
    "def msalpha(q, K):\n",
    "    return (q - K) ** -2\n",
    "\n",
    "\n",
    "def attention(Q, K, V, alpha):\n",
    "    y_hat = []\n",
    "    for q in Q:\n",
    "        y = np.sum(alpha(q, K) / np.sum(alpha(q, K)) * V)\n",
    "        y_hat.append(y)\n",
    "\n",
    "    return y_hat\n",
    "\n",
    "\n",
    "y_hat = attention(QX, X, Y, msalpha)"
   ]
  },
  {
   "cell_type": "code",
   "execution_count": null,
   "metadata": {},
   "outputs": [],
   "source": [
    "# Plot the curve\n",
    "plt.figure(figsize=(8, 6))\n",
    "plt.plot(x_test, y_hat, \"b.\")\n",
    "plt.plot(x_test, y_test, \"r.\")\n",
    "\n",
    "plt.title(\"Training and Test Sets\")\n",
    "plt.xlabel(\"X\")\n",
    "plt.ylabel(\"Y\")\n",
    "plt.legend()\n",
    "plt.grid(True)\n",
    "plt.show()"
   ]
  },
  {
   "cell_type": "markdown",
   "metadata": {},
   "source": [
    "### Gaussian Kernel attention"
   ]
  },
  {
   "cell_type": "code",
   "execution_count": null,
   "metadata": {},
   "outputs": [],
   "source": [
    "def gkalpha(q, K):\n",
    "    return np.exp(-1 / 2 * (q - K) ** 2)\n",
    "\n",
    "\n",
    "y_hat_g = attention(QX, X, Y, gkalpha)"
   ]
  },
  {
   "cell_type": "code",
   "execution_count": null,
   "metadata": {},
   "outputs": [],
   "source": [
    "plt.figure(figsize=(8, 6))\n",
    "plt.plot(x_test, y_hat_g, \"b.\")\n",
    "plt.plot(x_test, y_test, \"r.\")\n",
    "\n",
    "plt.title(\"Training and Test Sets\")\n",
    "plt.xlabel(\"X\")\n",
    "plt.ylabel(\"Y\")\n",
    "plt.legend()\n",
    "plt.grid(True)\n",
    "plt.show()"
   ]
  },
  {
   "cell_type": "code",
   "execution_count": null,
   "metadata": {},
   "outputs": [],
   "source": []
  }
 ],
 "metadata": {
  "kernelspec": {
   "display_name": "Python 3",
   "language": "python",
   "name": "python3"
  },
  "language_info": {
   "codemirror_mode": {
    "name": "ipython",
    "version": 3
   },
   "file_extension": ".py",
   "mimetype": "text/x-python",
   "name": "python",
   "nbconvert_exporter": "python",
   "pygments_lexer": "ipython3",
   "version": "3.12.3"
  }
 },
 "nbformat": 4,
 "nbformat_minor": 2
}
