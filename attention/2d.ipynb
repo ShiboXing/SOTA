{
 "cells": [
  {
   "cell_type": "code",
   "execution_count": null,
   "metadata": {},
   "outputs": [],
   "source": [
    "import numpy as np\n",
    "import matplotlib.pyplot as plt\n",
    "\n",
    "# Define the curve function\n",
    "def curve_function(x):\n",
    "    return np.sin(x)  # Example curve function, you can replace it with any function\n",
    "\n",
    "# Generate random points along the x-axis\n",
    "num_points = 100\n",
    "x_values = np.linspace(0, 2*np.pi, num_points)\n",
    "\n",
    "# Add noise to the y-values\n",
    "noise = np.random.normal(0, 0.1, num_points)  # Adjust the parameters for the desired noise level\n",
    "y_values = curve_function(x_values) + noise\n",
    "\n",
    "# Plot the curve\n",
    "plt.figure(figsize=(8, 6))\n",
    "plt.plot(x_values, y_values, 'b.', label='Random Points with Noise')\n",
    "\n",
    "# Plot the original curve (optional)\n",
    "x_curve = np.linspace(0, 2*np.pi, 1000)\n",
    "plt.plot(x_curve, curve_function(x_curve), 'r-', label='Original Curve')\n",
    "\n",
    "plt.title('Random Points with Noise')\n",
    "plt.xlabel('X')\n",
    "plt.ylabel('Y')\n",
    "plt.legend()\n",
    "plt.grid(True)\n",
    "plt.show()\n"
   ]
  },
  {
   "cell_type": "code",
   "execution_count": null,
   "metadata": {},
   "outputs": [],
   "source": [
    "X = x_values\n",
    "Y = y_values\n",
    "Q = X"
   ]
  },
  {
   "cell_type": "markdown",
   "metadata": {},
   "source": [
    "### dot product attention"
   ]
  },
  {
   "cell_type": "code",
   "execution_count": null,
   "metadata": {},
   "outputs": [],
   "source": []
  },
  {
   "cell_type": "markdown",
   "metadata": {},
   "source": [
    "### Gaussian Kernel attention"
   ]
  },
  {
   "cell_type": "code",
   "execution_count": null,
   "metadata": {},
   "outputs": [],
   "source": []
  }
 ],
 "metadata": {
  "kernelspec": {
   "display_name": "Python 3",
   "language": "python",
   "name": "python3"
  },
  "language_info": {
   "codemirror_mode": {
    "name": "ipython",
    "version": 3
   },
   "file_extension": ".py",
   "mimetype": "text/x-python",
   "name": "python",
   "nbconvert_exporter": "python",
   "pygments_lexer": "ipython3",
   "version": "3.12.3"
  }
 },
 "nbformat": 4,
 "nbformat_minor": 2
}
