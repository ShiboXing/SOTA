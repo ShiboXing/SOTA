{
 "cells": [
  {
   "cell_type": "code",
   "execution_count": 18,
   "metadata": {},
   "outputs": [],
   "source": [
    "import pandas as pd\n",
    "import shutil\n",
    "import os"
   ]
  },
  {
   "cell_type": "code",
   "execution_count": 19,
   "metadata": {},
   "outputs": [],
   "source": [
    "ds_pth = '~/google_oid_v6/'\n",
    "train = pd.read_csv(ds_pth + 'oidv6-train-annotations-bbox.csv')\n",
    "test = pd.read_csv(ds_pth + 'test-annotations-bbox.csv')\n",
    "val = pd.read_csv(ds_pth + 'validation-annotations-bbox.csv')\n",
    "labels = pd.read_csv(ds_pth + 'class-descriptions-boxable.csv')"
   ]
  },
  {
   "cell_type": "markdown",
   "metadata": {},
   "source": [
    "### filter classes"
   ]
  },
  {
   "cell_type": "code",
   "execution_count": 20,
   "metadata": {},
   "outputs": [],
   "source": [
    "classes = set(('Person', 'Car', 'Mobile phone'))\n",
    "label_ids = set(labels[labels.iloc[:,1].isin(classes)].iloc[:, 0])\n",
    "train_ids = set(train[train.LabelName.isin(label_ids)]['ImageID'])\n",
    "test_ids = set(test[test.LabelName.isin(label_ids)]['ImageID'])\n",
    "val_ids = set(val[val.LabelName.isin(label_ids)]['ImageID'])"
   ]
  },
  {
   "cell_type": "code",
   "execution_count": 7,
   "metadata": {},
   "outputs": [
    {
     "name": "stdout",
     "output_type": "stream",
     "text": [
      "/m/050k8: 6365\n",
      "/m/0k4j: 248075\n",
      "/m/01g317: 1034721\n",
      "all:  14610229\n"
     ]
    }
   ],
   "source": [
    "for c in label_ids:\n",
    "    print(f'{c}: {len(train[train.LabelName == c])}')\n",
    "print('all: ', len(train + test + val))"
   ]
  },
  {
   "cell_type": "markdown",
   "metadata": {},
   "source": [
    "### generate image ids for download"
   ]
  },
  {
   "cell_type": "code",
   "execution_count": null,
   "metadata": {},
   "outputs": [],
   "source": [
    "f = open(ds_pth + 'download_ids.txt', 'w')\n",
    "for id_ in train_ids:\n",
    "    f.write(f'train/{id_}\\n')\n",
    "for id_ in test_ids:\n",
    "    f.write(f'test/{id_}\\n')\n",
    "for id_ in val_ids:\n",
    "    f.write(f'validation/{id_}\\n')"
   ]
  },
  {
   "cell_type": "markdown",
   "metadata": {},
   "source": [
    "### assign to folders"
   ]
  },
  {
   "cell_type": "code",
   "execution_count": 17,
   "metadata": {},
   "outputs": [],
   "source": [
    "for _id in train_ids:\n",
    "    shutil.move(ds_pth + 'IMAGES/' + _id + '.jpg', ds_pth + 'IMAGES/TRAIN/' + _id + '.jpg')\n",
    "for _id in test_ids:\n",
    "    shutil.move(ds_pth + 'IMAGES/' + _id + '.jpg', ds_pth + 'IMAGES/TEST/' + _id + '.jpg')\n",
    "for f in os.listdir(ds_pth + 'IMAGES/'):\n",
    "    if f.endswith('.jpg'):\n",
    "        shutil.move(ds_pth + 'IMAGES/' + f, ds_pth + 'IMAGES/VAL/' + f)"
   ]
  },
  {
   "cell_type": "code",
   "execution_count": 28,
   "metadata": {},
   "outputs": [],
   "source": [
    "for t in ('TRAIN', 'TEST', 'VAL'):\n",
    "    if not os.path.exists(ds_pth + 'IMAGES/' + t + '/DATA'):\n",
    "        os.mkdir(ds_pth + 'IMAGES/' + t + '/DATA')\n",
    "    for f in os.listdir():\n",
    "        if f.endswith('.jpg'):\n",
    "            shutil.move(f'{ds_pth}IMAGES/{t}/{f}', f'{ds_pth}IMAGES/{t}/DATA/{f}')"
   ]
  },
  {
   "cell_type": "code",
   "execution_count": null,
   "metadata": {},
   "outputs": [],
   "source": []
  }
 ],
 "metadata": {
  "kernelspec": {
   "display_name": "Python 3",
   "language": "python",
   "name": "python3"
  },
  "language_info": {
   "codemirror_mode": {
    "name": "ipython",
    "version": 3
   },
   "file_extension": ".py",
   "mimetype": "text/x-python",
   "name": "python",
   "nbconvert_exporter": "python",
   "pygments_lexer": "ipython3",
   "version": "3.7.6"
  },
  "varInspector": {
   "cols": {
    "lenName": 16,
    "lenType": 16,
    "lenVar": 40
   },
   "kernels_config": {
    "python": {
     "delete_cmd_postfix": "",
     "delete_cmd_prefix": "del ",
     "library": "var_list.py",
     "varRefreshCmd": "print(var_dic_list())"
    },
    "r": {
     "delete_cmd_postfix": ") ",
     "delete_cmd_prefix": "rm(",
     "library": "var_list.r",
     "varRefreshCmd": "cat(var_dic_list()) "
    }
   },
   "types_to_exclude": [
    "module",
    "function",
    "builtin_function_or_method",
    "instance",
    "_Feature"
   ],
   "window_display": false
  }
 },
 "nbformat": 4,
 "nbformat_minor": 4
}
