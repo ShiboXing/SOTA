{
 "cells": [
  {
   "cell_type": "code",
   "execution_count": null,
   "metadata": {},
   "outputs": [],
   "source": [
    "VOC_train_url = \"http://host.robots.ox.ac.uk/pascal/VOC/voc2007/VOCtrainval_06-Nov-2007.tar\"\n",
    "VOC_toolkit_url = \"http://host.robots.ox.ac.uk/pascal/VOC/voc2007/VOCdevkit_08-Jun-2007.tar\"\n",
    "train_tar = \"VOCtrainval_06-Nov-2007.tar\"\n",
    "toolkit_tar = \"VOCdevkit_08-Jun-2007.tar\""
   ]
  },
  {
   "cell_type": "code",
   "execution_count": null,
   "metadata": {},
   "outputs": [],
   "source": [
    "import sys\n",
    "sys.path.append(\"..\")\n",
    "from common_utils import DATA_HOME\n",
    "from subprocess import run\n",
    "import os, platform\n",
    "\n",
    "if not os.path.exists(f\"{DATA_HOME}/VOCdevkit\"):\n",
    "    if not os.path.exists(f\"{DATA_HOME}/{train_tar}\"):\n",
    "        if platform.system() == \"Windows\":\n",
    "            run(f\"powershell cd {DATA_HOME}; Invoke-WebRequest -Uri {VOC_train_url} -OutFile {train_tar}\", shell=True, check=True)\n",
    "            run(f\"powershell cd {DATA_HOME}; Invoke-WebRequest -Uri {VOC_toolkit_url} -OutFile {toolkit_tar}\", shell=True, check=True)\n",
    "        else:\n",
    "            run(f\"cd {DATA_HOME} && curl -L {VOC_train_url} -o {train_tar}\", shell=True, check=True)\n",
    "            run(f\"cd {DATA_HOME} && curl -L {VOC_toolkit_url} -o {toolkit_tar}\", shell=True, check=True)\n",
    "            \n",
    "    if platform.system() == \"Windows\":\n",
    "        run(f\"powershell cd {DATA_HOME}; tar -xvf {train_tar}\", shell=True, check=True)\n",
    "        run(f\"powershell cd {DATA_HOME}; tar -xvf {toolkit_tar}\", shell=True, check=True)\n",
    "    else:\n",
    "        run(f\"cd {DATA_HOME} && tar -xvf {train_tar}\", shell=True, check=True)\n",
    "        run(f\"cd {DATA_HOME} && tar -xvf {toolkit_tar}\", shell=True, check=True)\n",
    "    \n"
   ]
  },
  {
   "cell_type": "code",
   "execution_count": null,
   "metadata": {},
   "outputs": [],
   "source": []
  }
 ],
 "metadata": {
  "kernelspec": {
   "display_name": "Python 3",
   "language": "python",
   "name": "python3"
  },
  "language_info": {
   "codemirror_mode": {
    "name": "ipython",
    "version": 3
   },
   "file_extension": ".py",
   "mimetype": "text/x-python",
   "name": "python",
   "nbconvert_exporter": "python",
   "pygments_lexer": "ipython3",
   "version": "3.11.3"
  },
  "varInspector": {
   "cols": {
    "lenName": 16,
    "lenType": 16,
    "lenVar": 40
   },
   "kernels_config": {
    "python": {
     "delete_cmd_postfix": "",
     "delete_cmd_prefix": "del ",
     "library": "var_list.py",
     "varRefreshCmd": "print(var_dic_list())"
    },
    "r": {
     "delete_cmd_postfix": ") ",
     "delete_cmd_prefix": "rm(",
     "library": "var_list.r",
     "varRefreshCmd": "cat(var_dic_list()) "
    }
   },
   "types_to_exclude": [
    "module",
    "function",
    "builtin_function_or_method",
    "instance",
    "_Feature"
   ],
   "window_display": false
  }
 },
 "nbformat": 4,
 "nbformat_minor": 4
}
