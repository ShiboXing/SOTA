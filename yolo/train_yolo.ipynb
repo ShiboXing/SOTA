{
 "cells": [
  {
   "cell_type": "code",
   "execution_count": null,
   "metadata": {},
   "outputs": [],
   "source": [
    "import sys\n",
    "sys.path.insert(0, \"..\")"
   ]
  },
  {
   "cell_type": "code",
   "execution_count": null,
   "metadata": {},
   "outputs": [],
   "source": [
    "from yolo.models import YOLOv1\n",
    "from yolo.data.VOC_Dataset import VOC_Dataset\n",
    "from utils.img_process import show_bbox\n",
    "\n",
    "# output: 7 * 7 * 30\n",
    "# S * S * ((x, y, w, h, confidence) * B=2 + C=20)\n",
    "_voc_root = \"/home/ubuntu/VOC2007/VOCdevkit/VOC2007/\"\n",
    "voc_ds = VOC_Dataset(_voc_root)\n",
    "\n",
    "# bboxes = get_bboxes(bbox_pth)\n",
    "# for b in bboxes:\n",
    "#     show_bbox(\"/home/ubuntu/VOC2007/VOCdevkit/VOC2007/JPEGImages/000048.jpg\", b)"
   ]
  },
  {
   "cell_type": "code",
   "execution_count": null,
   "metadata": {},
   "outputs": [],
   "source": [
    "import torch\n",
    "\n",
    "test = torch.randn(3, 448, 448).unsqueeze(0)\n",
    "yolo = YOLOv1()\n",
    "res = yolo(test)"
   ]
  }
 ],
 "metadata": {
  "kernelspec": {
   "display_name": "pytorch",
   "language": "python",
   "name": "python3"
  },
  "language_info": {
   "codemirror_mode": {
    "name": "ipython",
    "version": 3
   },
   "file_extension": ".py",
   "mimetype": "text/x-python",
   "name": "python",
   "nbconvert_exporter": "python",
   "pygments_lexer": "ipython3",
   "version": "3.9.15"
  },
  "vscode": {
   "interpreter": {
    "hash": "2d58e898dde0263bc564c6968b04150abacfd33eed9b19aaa8e45c040360e146"
   }
  }
 },
 "nbformat": 4,
 "nbformat_minor": 2
}
