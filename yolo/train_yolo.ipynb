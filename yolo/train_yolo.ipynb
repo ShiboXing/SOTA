{
 "cells": [
  {
   "cell_type": "code",
   "execution_count": 6,
   "metadata": {},
   "outputs": [
    {
     "data": {
      "text/plain": [
       "<torch._C.Generator at 0x1ef9422a8b0>"
      ]
     },
     "execution_count": 6,
     "metadata": {},
     "output_type": "execute_result"
    }
   ],
   "source": [
    "import sys, os\n",
    "sys.path.append(\"..\")\n",
    "from yolo.models import YOLOv1\n",
    "from yolo.data.VOC_Dataset import VOC_Dataset\n",
    "from data import DATA_HOME\n",
    "\n",
    "from ipdb import set_trace\n",
    "from torch.utils.data import DataLoader\n",
    "from numpy import array\n",
    "from multiprocessing import cpu_count\n",
    "import random \n",
    "import torch\n",
    "\n",
    "if torch.cuda.is_available():\n",
    "    device = torch.device(\"cuda\")\n",
    "else:\n",
    "    device = torch.device(\"cpu\")\n",
    "\n",
    "random.seed(1)\n",
    "torch.manual_seed(1)"
   ]
  },
  {
   "cell_type": "code",
   "execution_count": 7,
   "metadata": {},
   "outputs": [
    {
     "name": "stdout",
     "output_type": "stream",
     "text": [
      "class dict:  {'bus': 0, 'chair': 1, 'person': 2, 'sofa': 3, 'diningtable': 4, 'motorbike': 5, 'aeroplane': 6, 'dog': 7, 'bird': 8, 'train': 9, 'horse': 10, 'car': 11, 'cow': 12, 'bicycle': 13, 'sheep': 14, 'pottedplant': 15, 'boat': 16, 'tvmonitor': 17, 'bottle': 18, 'cat': 19}\n"
     ]
    }
   ],
   "source": [
    "import platform\n",
    "\n",
    "_voc_root = f\"{DATA_HOME}\\VOCdevkit\\VOC2007\"\n",
    "voc_ds = VOC_Dataset(_voc_root)\n",
    "\n",
    "def collate_fn(data):\n",
    "    # output: 7 * 7 * 30\n",
    "    # S * S * ((x, y, w, h, confidence) * B=2 + C=20)\n",
    "    # make img batch and label batch\n",
    "    imgs, labels, classes = zip(*data)\n",
    "    # inhomegenous shape label, since each image has different number of objects\n",
    "    # label's dimension: (Batch size, # of objects in each image, 4 coords)\n",
    "    return torch.tensor(array(imgs), dtype=torch.float), labels, classes\n",
    "    \n",
    "if platform.system() == \"Windows\":\n",
    "    loader = DataLoader(voc_ds, batch_size=4, pin_memory=True, shuffle=True, collate_fn=collate_fn)\n",
    "else:\n",
    "    loader = DataLoader(voc_ds, batch_size=4, pin_memory=True, shuffle=True, num_workers=4, collate_fn=collate_fn)"
   ]
  },
  {
   "cell_type": "code",
   "execution_count": 8,
   "metadata": {},
   "outputs": [],
   "source": [
    "\n",
    "test = torch.randn(3, 448, 448).unsqueeze(0).to(device=device)\n",
    "yolo = YOLOv1().to(device=device)\n",
    "\n",
    "S = 7 # num of rows/cols\n",
    "C = 20 # num of classes\n",
    "B = 2 # num of bounding boxes\n",
    "\n",
    "lamba_coord = 5\n",
    "lamba_noobj = 0.5\n",
    "\n",
    "\n",
    "def IOU(output, label):\n",
    "    \"\"\"Calculate the intersection over union of two sets rectangles\n",
    "\n",
    "    Keyword arguments\n",
    "    both output and label are (x, y, w, h)\n",
    "    \"\"\"\n",
    "    \n",
    "    output = (\n",
    "        output[0] - output[2] / 2,\n",
    "        output[1] - output[3] / 2,\n",
    "        output[0] + output[2] / 2,\n",
    "        output[1] + output[3] / 2,\n",
    "    )\n",
    "\n",
    "    label = (\n",
    "        label[0] - label[2] / 2,\n",
    "        label[1] - label[3] / 2,\n",
    "        label[0] + label[2] / 2,\n",
    "        label[1] + label[3] / 2,\n",
    "    )\n",
    "\n",
    "    x_inter = min(output[2], label[2]) - max(output[0], label[0])\n",
    "    y_inter = min(output[3], label[3]) - max(output[1], label[1])\n",
    "\n",
    "    if x_inter <= 0.0 or y_inter <= 0.0:\n",
    "        return 0.0\n",
    "\n",
    "    intersection = x_inter * y_inter\n",
    "\n",
    "    overlapped_union = (output[2] - output[0]) * (output[3] - output[1]) + (label[2] - label[0]) * (\n",
    "        label[3] - label[1]\n",
    "    )\n",
    "    \n",
    "    return intersection / (overlapped_union - intersection)\n",
    "\n",
    "# sanity checks of IOU\n",
    "coords = (0.25, 0.25, 0.5, 0.5)\n",
    "y_coords1 = (0.5, 0.575, 0.5, 0.35)\n",
    "y_coords2 = (0.575, 0.5, 0.35, 0.5)\n",
    "y_coords3 = (0.25, 0.25, 0.5, 0.5)\n",
    "y_coords4 = (0.25, 0, 0.5, 0)\n",
    "y_coords5 = (0.625, 0.375, 0.25, 0.75)\n",
    "y_coords6 = (0.2, 0.25, 0.2, 0.3)\n",
    "\n",
    "def float_eqs(a, b, decimal_pt):\n",
    "    eps = 10 ** (-decimal_pt)\n",
    "    return abs(a-b) < eps\n",
    "\n",
    "assert float_eqs(IOU(coords, y_coords1), 0.025 / (0.5*0.5 + 0.5*0.35 - 0.025), 5)\n",
    "assert float_eqs(IOU(coords, y_coords2), 0.025 / (0.5*0.5 + 0.5*0.35 - 0.025), 5)\n",
    "assert float_eqs(IOU(coords, y_coords3), 1, 5)\n",
    "assert float_eqs(IOU(coords, y_coords4), 0, 5)\n",
    "assert float_eqs(IOU(coords, y_coords5), 0, 5)\n",
    "assert float_eqs(IOU(coords, y_coords6), 0.06 / (0.5*0.5), 5)"
   ]
  },
  {
   "cell_type": "code",
   "execution_count": 36,
   "metadata": {},
   "outputs": [],
   "source": [
    "from collections import defaultdict as dd\n",
    "\n",
    "def yolo_loss(res_mat: torch.tensor, label_mat: list, class_mat: list):\n",
    "    \"\"\"calcalate batch yolo loss, @param res_mat: (batch_size, B*5+C, S, S)\"\"\"\n",
    "    loss = torch.tensor(0.).to(device=device)\n",
    "    \n",
    "    # calculate loss for every bounding box in every cell\n",
    "    for b, batch in enumerate(res_mat):\n",
    "        # assign labels bbox to cell indices\n",
    "        stride = 1. / S\n",
    "        label_inds = dd(list)\n",
    "        label_class = {}\n",
    "        for idx, (x, y, w, h) in enumerate(label_mat[b]):\n",
    "            xi, yi = int(x // stride), int(y // stride)\n",
    "            label_inds[(xi, yi)].append((x, y, w, h))\n",
    "            label_class[(x, y, w, h)] = class_mat[b][idx]\n",
    "        \n",
    "        print(\"label inds\", label_inds, b, batch.shape)\n",
    "        # iterate cell and calculate loss\n",
    "        for i in range(batch.shape[1]):\n",
    "            for j in range(batch.shape[2]):\n",
    "                cell = batch[i, j]\n",
    "                for x, y, w, h in label_inds[i, j]:\n",
    "                    for k in range(0, B*2, 5):\n",
    "                        x_, y_, w_, h_, c_ = cell[k:k+5]\n",
    "                        w_, h_ = torch.max(torch.tensor(0.), w_), torch.max(torch.tensor(0.), h_)\n",
    "                        loss += (x-x_) ** 2 + (y-y_) ** 2 # yolo loss term 1\n",
    "                        loss += (w ** 0.5 - w_ ** 0.5)**2 + (h ** 0.5 - h_ ** 0.5)**2 # yolo loss term 2\n",
    "                        loss += (IOU((x, y, w, h), (x_, y_, w_, h_)) - c_) ** 2\n",
    "                        # c_label_embed = torch.tensor([0.] * B)\n",
    "                        # c_label_embed[c] = 1\n",
    "                        # c_output_embed = torch.tensor([0.] * B)\n",
    "                        # c_output_embed[c] = 1\n",
    "                        # loss += c_embed[]\n",
    "                        # print(\"labels:k \", x, y, w, h)\n",
    "                        # print(\"output: \", x_, y_, w_, h_, c_) \n",
    "        \n",
    "    return loss\n",
    "    # print(\"ret: \", res_mat.shape)\n",
    "    "
   ]
  },
  {
   "cell_type": "code",
   "execution_count": 38,
   "metadata": {},
   "outputs": [
    {
     "name": "stdout",
     "output_type": "stream",
     "text": [
      "torch.Size([4, 30, 7, 7]) 1 [5]\n",
      "label inds defaultdict(<class 'list'>, {(0, 0): [(0.002688172043010753, 0.028, 0.8709677419354839, 1.0)]}) 0 torch.Size([30, 7, 7])\n",
      "labels:k  0.002688172043010753 0.028 0.8709677419354839 1.0\n",
      "output:  tensor(0.0073, device='cuda:0', grad_fn=<UnbindBackward0>) tensor(-0.0003, device='cuda:0', grad_fn=<UnbindBackward0>) tensor(0.0052, device='cuda:0', grad_fn=<MaximumBackward0>) tensor(0., device='cuda:0', grad_fn=<MaximumBackward0>) tensor(0.0083, device='cuda:0', grad_fn=<UnbindBackward0>)\n",
      "loss:  tensor(1.7420, device='cuda:0', grad_fn=<AddBackward0>)\n",
      "label inds defaultdict(<class 'list'>, {(0, 0): [(0.0030120481927710845, 0.094, 0.5753012048192772, 0.632)], (3, 3): [(0.49096385542168675, 0.532, 0.6686746987951807, 0.72)]}) 1 torch.Size([30, 7, 7])\n",
      "labels:k  0.0030120481927710845 0.094 0.5753012048192772 0.632\n",
      "output:  tensor(0.0073, device='cuda:0', grad_fn=<UnbindBackward0>) tensor(-0.0003, device='cuda:0', grad_fn=<UnbindBackward0>) tensor(0.0052, device='cuda:0', grad_fn=<MaximumBackward0>) tensor(0., device='cuda:0', grad_fn=<MaximumBackward0>) tensor(0.0083, device='cuda:0', grad_fn=<UnbindBackward0>)\n",
      "loss:  tensor(2.8538, device='cuda:0', grad_fn=<AddBackward0>)\n",
      "labels:k  0.49096385542168675 0.532 0.6686746987951807 0.72\n",
      "output:  tensor(0.0093, device='cuda:0', grad_fn=<UnbindBackward0>) tensor(0.0046, device='cuda:0', grad_fn=<UnbindBackward0>) tensor(0.0066, device='cuda:0', grad_fn=<MaximumBackward0>) tensor(0., device='cuda:0', grad_fn=<MaximumBackward0>) tensor(0.0002, device='cuda:0', grad_fn=<UnbindBackward0>)\n",
      "loss:  tensor(4.6266, device='cuda:0', grad_fn=<AddBackward0>)\n",
      "label inds defaultdict(<class 'list'>, {(1, 0): [(0.278, 0.008, 0.682, 0.8906666666666667)]}) 2 torch.Size([30, 7, 7])\n",
      "labels:k  0.278 0.008 0.682 0.8906666666666667\n",
      "output:  tensor(0.0031, device='cuda:0', grad_fn=<UnbindBackward0>) tensor(0.0100, device='cuda:0', grad_fn=<UnbindBackward0>) tensor(0., device='cuda:0', grad_fn=<MaximumBackward0>) tensor(0., device='cuda:0', grad_fn=<MaximumBackward0>) tensor(-0.0004, device='cuda:0', grad_fn=<UnbindBackward0>)\n",
      "loss:  tensor(6.2749, device='cuda:0', grad_fn=<AddBackward0>)\n",
      "label inds defaultdict(<class 'list'>, {(1, 0): [(0.168, 0.13855421686746988, 0.9, 0.8945783132530121)]}) 3 torch.Size([30, 7, 7])\n",
      "labels:k  0.168 0.13855421686746988 0.9 0.8945783132530121\n",
      "output:  tensor(0.0031, device='cuda:0', grad_fn=<UnbindBackward0>) tensor(0.0100, device='cuda:0', grad_fn=<UnbindBackward0>) tensor(0., device='cuda:0', grad_fn=<MaximumBackward0>) tensor(0., device='cuda:0', grad_fn=<MaximumBackward0>) tensor(-0.0004, device='cuda:0', grad_fn=<UnbindBackward0>)\n",
      "loss:  tensor(8.1132, device='cuda:0', grad_fn=<AddBackward0>)\n",
      "loss:  tensor(8.1132, device='cuda:0', grad_fn=<AddBackward0>)\n"
     ]
    }
   ],
   "source": [
    "from PIL import Image, ImageDraw\n",
    "\n",
    "cnt = 0\n",
    "for _id, sample in enumerate(loader):\n",
    "    batch, labels, classes = sample\n",
    "    res = yolo(batch.to(device=device))\n",
    "    print(res.shape, len(labels[2]), classes[2])\n",
    "    loss = yolo_loss(res, labels, classes)\n",
    "\n",
    "    # showing the image with labels\n",
    "    # res_img = Image.fromarray((batch[0] * 255).permute(1, 2, 0).byte().numpy())\n",
    "    # draw = ImageDraw.Draw(res_img)\n",
    "    # for pc in labels[0]:\n",
    "    #     draw.rectangle((448*pc[0], 448*pc[1], 448*pc[2], 448*pc[3]), outline=\"red\")\n",
    "    # res_img.show()\n",
    "    print(\"loss: \", loss)\n",
    "    break\n",
    "    "
   ]
  },
  {
   "cell_type": "code",
   "execution_count": null,
   "metadata": {},
   "outputs": [],
   "source": []
  }
 ],
 "metadata": {
  "kernelspec": {
   "display_name": "base",
   "language": "python",
   "name": "python3"
  },
  "language_info": {
   "codemirror_mode": {
    "name": "ipython",
    "version": 3
   },
   "file_extension": ".py",
   "mimetype": "text/x-python",
   "name": "python",
   "nbconvert_exporter": "python",
   "pygments_lexer": "ipython3",
   "version": "3.11.3"
  },
  "vscode": {
   "interpreter": {
    "hash": "d4d1e4263499bec80672ea0156c357c1ee493ec2b1c70f0acce89fc37c4a6abe"
   }
  }
 },
 "nbformat": 4,
 "nbformat_minor": 2
}
