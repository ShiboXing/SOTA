{
 "cells": [
  {
   "cell_type": "code",
   "execution_count": 1,
   "metadata": {},
   "outputs": [],
   "source": [
    "import sys\n",
    "sys.path.insert(0, \"..\")"
   ]
  },
  {
   "cell_type": "code",
   "execution_count": 2,
   "metadata": {},
   "outputs": [
    {
     "name": "stdout",
     "output_type": "stream",
     "text": [
      "(500, 375)\n",
      "(448, 448, 3) [(0.526, 0.5626666666666666, 0.648, 0.904), (0.33, 0.704, 0.506, 0.992), (0.01, 0.6506666666666666, 0.134, 0.9973333333333333), (0.482, 0.5173333333333333, 0.59, 0.7973333333333333), (0.554, 0.496, 0.624, 0.5866666666666667)] [[263, 211, 324, 339], [165, 264, 253, 372], [5, 244, 67, 374], [241, 194, 295, 299], [277, 186, 312, 220]]\n"
     ]
    }
   ],
   "source": [
    "from yolo.models import YOLOv1\n",
    "from yolo.data.VOC_Dataset import VOC_Dataset\n",
    "from torch.utils.data import DataLoader\n",
    "from utils.img_process import show_bbox\n",
    "\n",
    "# output: 7 * 7 * 30\n",
    "# S * S * ((x, y, w, h, confidence) * B=2 + C=20)\n",
    "_voc_root = \"/home/ubuntu/VOC2007/VOCdevkit/VOC2007/\"\n",
    "voc_ds = VOC_Dataset(_voc_root)\n",
    "loader = DataLoader(voc_ds, batch_size=4, pin_memory=True)\n"
   ]
  },
  {
   "cell_type": "code",
   "execution_count": null,
   "metadata": {},
   "outputs": [],
   "source": [
    "import torch\n",
    "\n",
    "test = torch.randn(3, 448, 448).unsqueeze(0)\n",
    "yolo = YOLOv1()\n",
    "res = yolo(test)"
   ]
  },
  {
   "cell_type": "code",
   "execution_count": null,
   "metadata": {},
   "outputs": [],
   "source": []
  }
 ],
 "metadata": {
  "kernelspec": {
   "display_name": "pytorch",
   "language": "python",
   "name": "python3"
  },
  "language_info": {
   "codemirror_mode": {
    "name": "ipython",
    "version": 3
   },
   "file_extension": ".py",
   "mimetype": "text/x-python",
   "name": "python",
   "nbconvert_exporter": "python",
   "pygments_lexer": "ipython3",
   "version": "3.9.15"
  },
  "vscode": {
   "interpreter": {
    "hash": "2d58e898dde0263bc564c6968b04150abacfd33eed9b19aaa8e45c040360e146"
   }
  }
 },
 "nbformat": 4,
 "nbformat_minor": 2
}
