{
 "cells": [
  {
   "cell_type": "code",
   "execution_count": null,
   "metadata": {},
   "outputs": [],
   "source": [
    "import sys\n",
    "sys.path.insert(0, \"..\")\n",
    "sys.path"
   ]
  },
  {
   "cell_type": "code",
   "execution_count": null,
   "metadata": {},
   "outputs": [],
   "source": [
    "from yolo.models import YOLOv1\n",
    "from yolo.utils.voc_preprocess import get_bboxes\n",
    "from utils.img_process import show_bbox\n",
    "\n",
    "import torch\n",
    "\n",
    "if __name__ == \"__main__\":\n",
    "    test = torch.randn(3, 448, 448).unsqueeze(0)\n",
    "    yolo = YOLOv1()\n",
    "    res = yolo(test)\n",
    "\n",
    "    # output: 7 * 7 * 30\n",
    "    # S * S * ((x, y, w, h, confidence) * B=2 + C=20)\n",
    "    bbox_pth = \"/home/ubuntu/VOC2007/VOCdevkit/VOC2007/Annotations/000048.xml\"\n",
    "    bboxes = get_bboxes(bbox_pth)\n",
    "    for b in bboxes:\n",
    "        show_bbox(\"/home/ubuntu/VOC2007/VOCdevkit/VOC2007/JPEGImages/000048.jpg\", b)"
   ]
  },
  {
   "cell_type": "code",
   "execution_count": null,
   "metadata": {},
   "outputs": [],
   "source": []
  }
 ],
 "metadata": {
  "kernelspec": {
   "display_name": "pytorch",
   "language": "python",
   "name": "python3"
  },
  "language_info": {
   "codemirror_mode": {
    "name": "ipython",
    "version": 3
   },
   "file_extension": ".py",
   "mimetype": "text/x-python",
   "name": "python",
   "nbconvert_exporter": "python",
   "pygments_lexer": "ipython3",
   "version": "3.9.15"
  },
  "orig_nbformat": 4,
  "vscode": {
   "interpreter": {
    "hash": "2d58e898dde0263bc564c6968b04150abacfd33eed9b19aaa8e45c040360e146"
   }
  }
 },
 "nbformat": 4,
 "nbformat_minor": 2
}
