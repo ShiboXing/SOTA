{
 "cells": [
  {
   "cell_type": "code",
   "execution_count": 10,
   "metadata": {},
   "outputs": [],
   "source": [
    "import sys\n",
    "sys.path.insert(0, \"..\")\n",
    "from ipdb import set_trace"
   ]
  },
  {
   "cell_type": "code",
   "execution_count": 11,
   "metadata": {},
   "outputs": [],
   "source": [
    "from yolo.models import YOLOv1\n",
    "from yolo.data.VOC_Dataset import VOC_Dataset\n",
    "from utils.img_process import show_bbox\n",
    "from torch.utils.data import DataLoader\n",
    "from numpy import array\n",
    "import torch\n",
    "\n",
    "# output: 7 * 7 * 30\n",
    "# S * S * ((x, y, w, h, confidence) * B=2 + C=20)\n",
    "_voc_root = \"/home/ubuntu/VOC2007/VOCdevkit/VOC2007/\"\n",
    "voc_ds = VOC_Dataset(_voc_root)\n",
    "\n",
    "def collate_fn(data):\n",
    "    # make img batch and label batch\n",
    "    imgs, labels = zip(*data)\n",
    "\n",
    "    # inhomegenous shape label, since each image has different number of objects\n",
    "    # label (Batch size, # of objects in each image, 4 coords)\n",
    "    return torch.tensor(array(imgs), dtype=torch.float), list(labels)\n",
    "\n",
    "loader = DataLoader(voc_ds, batch_size=4, pin_memory=True, shuffle=True, num_workers=4, collate_fn=collate_fn)\n"
   ]
  },
  {
   "cell_type": "code",
   "execution_count": 12,
   "metadata": {},
   "outputs": [
    {
     "name": "stdout",
     "output_type": "stream",
     "text": [
      "0.062499999999999986\n",
      "0.062499999999999986\n",
      "1.0\n",
      "0.0\n",
      "0.0\n"
     ]
    }
   ],
   "source": [
    "import torch\n",
    "\n",
    "test = torch.randn(3, 448, 448).unsqueeze(0).cuda()\n",
    "yolo = YOLOv1().cuda()\n",
    "\n",
    "\n",
    "lamba_coord = 5\n",
    "lamba_noobj = 0.5\n",
    "\n",
    "\n",
    "def IOU(coords, y_coords):\n",
    "    \"\"\"Calculate the intersection over union of two sets rectangles\n",
    "\n",
    "    Keyword arguments\n",
    "    coords -- output rect, with pct coordinates (x, y, w, h)\n",
    "    y_coords -- label rect, with pct coordinates (xmin, ymin, xmax, ymax)\"\"\"\n",
    "    xmin, ymin, xmax, ymax = (\n",
    "        coords[0] - coords[2] / 2,\n",
    "        coords[1] - coords[3] / 2,\n",
    "        coords[0] + coords[2] / 2,\n",
    "        coords[1] + coords[3] / 2,\n",
    "    )\n",
    "\n",
    "    x_inter = min(xmax, y_coords[2]) - max(xmin, y_coords[0])\n",
    "    y_inter = min(ymax, y_coords[3]) - max(ymin, y_coords[1])\n",
    "\n",
    "    if x_inter <= 0.0 or y_inter <= 0.0:\n",
    "        return 0.0\n",
    "\n",
    "    intersection = x_inter * y_inter\n",
    "\n",
    "    overlapped_union = (xmax - xmin) * (ymax - ymin) + (y_coords[2] - y_coords[0]) * (\n",
    "        y_coords[3] - y_coords[1]\n",
    "    )\n",
    "    \n",
    "    return intersection / (overlapped_union - intersection)\n",
    "\n",
    "coords = (0.25, 0.25, 0.5, 0.5)\n",
    "y_coords1 = (0.25, 0.4, 0.75, 0.75)\n",
    "y_coords2 = (0.4, 0.25, 0.75, 0.75)\n",
    "y_coords3 = (0, 0, 0.5, 0.5)\n",
    "y_coords4 = (0, 0, 0.5, 0)\n",
    "y_coords5 = (0.5, 0, 0.75, 0.75)\n",
    "\n",
    "\n",
    "print(IOU(coords, y_coords1))\n",
    "print(IOU(coords, y_coords2))\n",
    "print(IOU(coords, y_coords3))\n",
    "print(IOU(coords, y_coords4))\n",
    "print(IOU(coords, y_coords5))\n"
   ]
  },
  {
   "cell_type": "code",
   "execution_count": 15,
   "metadata": {},
   "outputs": [
    {
     "name": "stdout",
     "output_type": "stream",
     "text": [
      "torch.Size([4, 3, 448, 448])\n",
      "torch.Size([4, 30, 7, 7])\n"
     ]
    }
   ],
   "source": [
    "for _id, sample in enumerate(loader):\n",
    "    print(sample[0].shape)\n",
    "    res = yolo(sample[0].cuda())\n",
    "    print(res.shape)\n",
    "    break\n",
    "    "
   ]
  },
  {
   "cell_type": "code",
   "execution_count": null,
   "metadata": {},
   "outputs": [],
   "source": []
  }
 ],
 "metadata": {
  "kernelspec": {
   "display_name": "base",
   "language": "python",
   "name": "python3"
  },
  "language_info": {
   "codemirror_mode": {
    "name": "ipython",
    "version": 3
   },
   "file_extension": ".py",
   "mimetype": "text/x-python",
   "name": "python",
   "nbconvert_exporter": "python",
   "pygments_lexer": "ipython3",
   "version": "3.10.6 | packaged by conda-forge | (main, Aug 22 2022, 20:36:39) [GCC 10.4.0]"
  },
  "vscode": {
   "interpreter": {
    "hash": "d4d1e4263499bec80672ea0156c357c1ee493ec2b1c70f0acce89fc37c4a6abe"
   }
  }
 },
 "nbformat": 4,
 "nbformat_minor": 2
}
