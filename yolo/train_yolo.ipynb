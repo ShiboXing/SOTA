{
 "cells": [
  {
   "cell_type": "code",
   "execution_count": null,
   "metadata": {},
   "outputs": [],
   "source": [
    "import sys\n",
    "sys.path.insert(0, \"..\")"
   ]
  },
  {
   "cell_type": "code",
   "execution_count": null,
   "metadata": {},
   "outputs": [],
   "source": [
    "from yolo.models import YOLOv1\n",
    "\n",
    "import torch\n",
    "import xml.etree.ElementTree as ET\n",
    "\n",
    "if __name__ == \"__main__\":\n",
    "    test = torch.randn(3, 448, 448).unsqueeze(0)\n",
    "    yolo = YOLOv1()\n",
    "    res = yolo(test)\n",
    "\n",
    "    # output: 7 * 7 * 30\n",
    "    # S * S * ((x, y, w, h, confidence) * B=2 + C=20)\n",
    "    bbox_pth = \"/home/ubuntu/VOC2007/VOCdevkit/VOC2007/Annotations/000048.xml\"\n",
    "    tree = ET.parse(bbox_pth)\n",
    "    objs = tree.findall(\".//object\")\n",
    "    bbox = objs[0].findall(\".//bndbox/*\")\n",
    "    dims = [int(n.text) for n in bbox]\n",
    "\n",
    "\n",
    "    from utils import show_bbox\n",
    "    show_bbox(\"/home/ubuntu/VOC2007/VOCdevkit/VOC2007/JPEGImages/000048.jpg\", dims)"
   ]
  },
  {
   "cell_type": "code",
   "execution_count": null,
   "metadata": {},
   "outputs": [],
   "source": []
  }
 ],
 "metadata": {
  "kernelspec": {
   "display_name": "pytorch",
   "language": "python",
   "name": "python3"
  },
  "language_info": {
   "codemirror_mode": {
    "name": "ipython",
    "version": 3
   },
   "file_extension": ".py",
   "mimetype": "text/x-python",
   "name": "python",
   "nbconvert_exporter": "python",
   "pygments_lexer": "ipython3",
   "version": "3.9.15"
  },
  "orig_nbformat": 4,
  "vscode": {
   "interpreter": {
    "hash": "2d58e898dde0263bc564c6968b04150abacfd33eed9b19aaa8e45c040360e146"
   }
  }
 },
 "nbformat": 4,
 "nbformat_minor": 2
}
