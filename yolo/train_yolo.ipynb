{
 "cells": [
  {
   "cell_type": "code",
   "execution_count": 1,
   "metadata": {},
   "outputs": [
    {
     "data": {
      "text/plain": [
       "<torch._C.Generator at 0x1a5d6f316d0>"
      ]
     },
     "execution_count": 1,
     "metadata": {},
     "output_type": "execute_result"
    }
   ],
   "source": [
    "import sys, os\n",
    "sys.path.append(\"..\")\n",
    "from yolo.models import YOLOv1\n",
    "from yolo.data.VOC_Dataset import VOC_Dataset\n",
    "from data import DATA_HOME\n",
    "\n",
    "from ipdb import set_trace\n",
    "from torch.utils.data import DataLoader\n",
    "from numpy import array\n",
    "from multiprocessing import cpu_count\n",
    "import random \n",
    "import torch\n",
    "import pandas as pd\n",
    "\n",
    "if torch.cuda.is_available():\n",
    "    device = torch.device(\"cuda\")\n",
    "else:\n",
    "    device = torch.device(\"cpu\")\n",
    "\n",
    "random.seed(1)\n",
    "torch.manual_seed(1)"
   ]
  },
  {
   "cell_type": "code",
   "execution_count": 2,
   "metadata": {},
   "outputs": [
    {
     "name": "stdout",
     "output_type": "stream",
     "text": [
      "class dict:  {'tvmonitor': 0, 'horse': 1, 'person': 2, 'sheep': 3, 'sofa': 4, 'dog': 5, 'cat': 6, 'bird': 7, 'boat': 8, 'train': 9, 'cow': 10, 'bicycle': 11, 'car': 12, 'motorbike': 13, 'diningtable': 14, 'aeroplane': 15, 'bottle': 16, 'bus': 17, 'pottedplant': 18, 'chair': 19}\n"
     ]
    }
   ],
   "source": [
    "import platform\n",
    "\n",
    "_voc_root = f\"{DATA_HOME}\\VOCdevkit\\VOC2007\"\n",
    "voc_ds = VOC_Dataset(_voc_root)\n",
    "BS = 2\n",
    "\n",
    "def collate_fn(data):\n",
    "    # output: 7 * 7 * 30\n",
    "    # S * S * ((x, y, w, h, confidence) * B=2 + C=20)\n",
    "    # make img batch and label batch\n",
    "    imgs, labels, classes = zip(*data)\n",
    "    # inhomegenous shape label, since each image has different number of objects\n",
    "    # label's dimension: (Batch size, # of objects in each image, 4 coords)\n",
    "    return torch.tensor(array(imgs), dtype=torch.float), labels, classes\n",
    "    \n",
    "if platform.system() == \"Windows\":\n",
    "    loader = DataLoader(voc_ds, batch_size=BS, pin_memory=True, shuffle=True, collate_fn=collate_fn)\n",
    "else:\n",
    "    loader = DataLoader(voc_ds, batch_size=BS, pin_memory=True, shuffle=True, num_workers=4, collate_fn=collate_fn)"
   ]
  },
  {
   "cell_type": "code",
   "execution_count": 3,
   "metadata": {},
   "outputs": [],
   "source": [
    "\n",
    "test = torch.randn(3, 448, 448).unsqueeze(0).to(device=device)\n",
    "yolo = YOLOv1().to(device=device)\n",
    "\n",
    "S = 7 # num of rows/cols\n",
    "C = 20 # num of classes\n",
    "B = 2 # num of bounding boxes\n",
    "\n",
    "lamba_coord = 5\n",
    "lamba_noobj = 0.5\n",
    "\n",
    "\n",
    "def IOU(output, label):\n",
    "    \"\"\"Calculate the intersection over union of two sets rectangles\n",
    "\n",
    "    Keyword arguments\n",
    "    both output and label are (x, y, w, h)\n",
    "    \"\"\"\n",
    "    \n",
    "    output = (\n",
    "        output[0] - output[2] / 2,\n",
    "        output[1] - output[3] / 2,\n",
    "        output[0] + output[2] / 2,\n",
    "        output[1] + output[3] / 2,\n",
    "    )\n",
    "\n",
    "    label = (\n",
    "        label[0] - label[2] / 2,\n",
    "        label[1] - label[3] / 2,\n",
    "        label[0] + label[2] / 2,\n",
    "        label[1] + label[3] / 2,\n",
    "    )\n",
    "\n",
    "    x_inter = min(output[2], label[2]) - max(output[0], label[0])\n",
    "    y_inter = min(output[3], label[3]) - max(output[1], label[1])\n",
    "\n",
    "    if x_inter <= 0.0 or y_inter <= 0.0:\n",
    "        return 0.0\n",
    "\n",
    "    intersection = x_inter * y_inter\n",
    "\n",
    "    overlapped_union = (output[2] - output[0]) * (output[3] - output[1]) + (label[2] - label[0]) * (\n",
    "        label[3] - label[1]\n",
    "    )\n",
    "    \n",
    "    return intersection / (overlapped_union - intersection)\n",
    "\n",
    "# sanity checks of IOU\n",
    "coords = (0.25, 0.25, 0.5, 0.5)\n",
    "y_coords1 = (0.5, 0.575, 0.5, 0.35)\n",
    "y_coords2 = (0.575, 0.5, 0.35, 0.5)\n",
    "y_coords3 = (0.25, 0.25, 0.5, 0.5)\n",
    "y_coords4 = (0.25, 0, 0.5, 0)\n",
    "y_coords5 = (0.625, 0.375, 0.25, 0.75)\n",
    "y_coords6 = (0.2, 0.25, 0.2, 0.3)\n",
    "\n",
    "def float_eqs(a, b, decimal_pt):\n",
    "    eps = 10 ** (-decimal_pt)\n",
    "    return abs(a-b) < eps\n",
    "\n",
    "assert float_eqs(IOU(coords, y_coords1), 0.025 / (0.5*0.5 + 0.5*0.35 - 0.025), 5)\n",
    "assert float_eqs(IOU(coords, y_coords2), 0.025 / (0.5*0.5 + 0.5*0.35 - 0.025), 5)\n",
    "assert float_eqs(IOU(coords, y_coords3), 1, 5)\n",
    "assert float_eqs(IOU(coords, y_coords4), 0, 5)\n",
    "assert float_eqs(IOU(coords, y_coords5), 0, 5)\n",
    "assert float_eqs(IOU(coords, y_coords6), 0.06 / (0.5*0.5), 5)"
   ]
  },
  {
   "cell_type": "code",
   "execution_count": 4,
   "metadata": {},
   "outputs": [],
   "source": [
    "from collections import defaultdict as dd\n",
    "\n",
    "def yolo_loss(res_mat: torch.tensor, label_mat: list, class_mat: list, loss_df: pd.DataFrame):\n",
    "    \"\"\"calcalate batch yolo loss, @param res_mat: (batch_size, B*5+C, S, S)\"\"\"\n",
    "    loss1 = torch.tensor(0.).to(device=device)\n",
    "    loss2 = torch.tensor(0.).to(device=device)\n",
    "    loss3 = torch.tensor(0.).to(device=device)\n",
    "    loss4 = torch.tensor(0.).to(device=device)\n",
    "    loss5 = torch.tensor(0.).to(device=device)\n",
    "    # calculate loss for every bounding box in every cell\n",
    "    for b, batch in enumerate(res_mat):\n",
    "        # assign labels bbox to cell indices\n",
    "        stride = 1. / S\n",
    "        label_inds = dd(list)\n",
    "        label_class = {}\n",
    "        for idx, (x, y, w, h) in enumerate(label_mat[b]):\n",
    "            xi, yi = int(x // stride), int(y // stride)\n",
    "            label_inds[(xi, yi)].append((x, y, w, h))\n",
    "            label_class[(x, y, w, h)] = class_mat[b][idx]\n",
    "        \n",
    "        # print(\"label class\", label_class, b, batch.shape)\n",
    "        # iterate cell and calculate loss\n",
    "        for i in range(batch.shape[1]):\n",
    "            for j in range(batch.shape[2]):\n",
    "                cell = batch[:, i, j]\n",
    "\n",
    "                if (i, j) in label_inds:\n",
    "                    yprobs = torch.tensor([0.] * C).to(device=device)\n",
    "                    for x, y, w, h in label_inds[i, j]:\n",
    "                        for k in range(0, B*5, 5):\n",
    "                            x_, y_, w_, h_, c_ = cell[k:k+5]\n",
    "                            w_, h_ = torch.max(torch.tensor(0.), w_), torch.max(torch.tensor(0.), h_)\n",
    "                            loss1 += lamba_coord * ((x-x_) ** 2 + (y-y_) ** 2) # yolo loss term 1\n",
    "                            loss2 += lamba_coord * ((w ** 0.5 - w_ ** 0.5)**2 + (h ** 0.5 - h_ ** 0.5)**2) # yolo loss term 2\n",
    "                            loss3 += (IOU((x, y, w, h), (x_, y_, w_, h_)) - c_) ** 2 # yolo loss term 3\n",
    "                        yprobs[label_class[x, y, w, h]] = 1.  \n",
    "                    loss5 += ((yprobs - cell[-C:]) ** 2).sum() # yolo loss term 5\n",
    "                else:\n",
    "                    for k in range(4, B*5, 5):\n",
    "                        _c = cell[k]\n",
    "                        loss4 += _c ** 2 * lamba_noobj # yolo loss term 4\n",
    "                \n",
    "    loss_df = pd.concat((loss_df, pd.DataFrame([[loss1.item(), loss2.item(), loss3.item(), loss4.item(), loss5.item()]], columns=loss_df.columns)), ignore_index=True)\n",
    "    return loss1 + loss2 + loss3 + loss4 + loss5, loss_df\n",
    "    # print(\"ret: \", res_mat.shape)\n",
    "    "
   ]
  },
  {
   "cell_type": "code",
   "execution_count": 5,
   "metadata": {},
   "outputs": [
    {
     "name": "stdout",
     "output_type": "stream",
     "text": [
      "loss  tensor(53261604., device='cuda:0', grad_fn=<AddBackward0>)\n",
      "loss_df:                l1             l2            l3            l4            l5\n",
      "0   1.512125e+01      72.968254  3.670801e-04  4.212008e-03  4.996444e+00\n",
      "1   9.126223e+00      22.795790  1.553733e-01  3.399194e+00  3.812247e+00\n",
      "2   2.521520e+04     755.873901  4.338281e+04  8.040717e+05  4.756982e+04\n",
      "3   1.953280e+07   59025.980469  7.816253e+04  4.978614e+05  5.286294e+06\n",
      "4   3.639271e+06   29252.677734  6.690439e+05  5.122735e+06  3.488575e+06\n",
      "5   2.126396e+08   55399.375000  5.119426e+06  1.680946e+08  6.677778e+07\n",
      "6   2.737854e+06   12545.119141  5.709083e+04  5.627468e+05  5.884946e+06\n",
      "7   1.435919e+10  104290.179688  2.992184e+06  2.687736e+08  2.503299e+09\n",
      "8   5.302098e+06    1459.469238  7.573911e+04  3.184729e+05  4.896940e+06\n",
      "9   1.411747e+06    6714.286621  7.669520e+03  7.019363e+04  2.127099e+06\n",
      "10  3.816635e+07    3794.571777  2.083822e+05  7.198918e+05  1.416318e+07\n"
     ]
    },
    {
     "data": {
      "image/png": "[encoded data removed]",
      "text/plain": [
       "<Figure size 640x480 with 1 Axes>"
      ]
     },
     "metadata": {},
     "output_type": "display_data"
    },
    {
     "ename": "RuntimeError",
     "evalue": "Parent directory C:\\Users\\sxing/YOLO_MODELS does not exist.",
     "output_type": "error",
     "traceback": [
      "\u001b[1;31m---------------------------------------------------------------------------\u001b[0m",
      "\u001b[1;31mRuntimeError\u001b[0m                              Traceback (most recent call last)",
      "Cell \u001b[1;32mIn[5], line 46\u001b[0m\n\u001b[0;32m     38\u001b[0m \u001b[39mif\u001b[39;00m _id \u001b[39mand\u001b[39;00m _id \u001b[39m%\u001b[39m \u001b[39m10\u001b[39m \u001b[39m==\u001b[39m \u001b[39m0\u001b[39m:\n\u001b[0;32m     39\u001b[0m     checkpoint \u001b[39m=\u001b[39m {\n\u001b[0;32m     40\u001b[0m         \u001b[39m'\u001b[39m\u001b[39mmodel\u001b[39m\u001b[39m'\u001b[39m: yolo\u001b[39m.\u001b[39mstate_dict(),\n\u001b[0;32m     41\u001b[0m         \u001b[39m'\u001b[39m\u001b[39moptimizer\u001b[39m\u001b[39m'\u001b[39m: optimizer\u001b[39m.\u001b[39mstate_dict(),\n\u001b[1;32m   (...)\u001b[0m\n\u001b[0;32m     44\u001b[0m         \u001b[39m# 'val_loss': val_loss\u001b[39;00m\n\u001b[0;32m     45\u001b[0m     }\n\u001b[1;32m---> 46\u001b[0m     torch\u001b[39m.\u001b[39;49msave(checkpoint, \u001b[39mf\u001b[39;49m\u001b[39m\"\u001b[39;49m\u001b[39m{\u001b[39;49;00msave_dir\u001b[39m}\u001b[39;49;00m\u001b[39m/yolov1_\u001b[39;49m\u001b[39m{\u001b[39;49;00m_id\u001b[39m}\u001b[39;49;00m\u001b[39m.pth\u001b[39;49m\u001b[39m\"\u001b[39;49m)\n\u001b[0;32m     47\u001b[0m \u001b[39m# showing the image with labels\u001b[39;00m\n\u001b[0;32m     48\u001b[0m \u001b[39m# res_img = Image.fromarray((batch[0] * 255).permute(1, 2, 0).byte().numpy())\u001b[39;00m\n\u001b[0;32m     49\u001b[0m \u001b[39m# draw = ImageDraw.Draw(res_img)\u001b[39;00m\n\u001b[0;32m     50\u001b[0m \u001b[39m# for pc in labels[0]:\u001b[39;00m\n\u001b[0;32m     51\u001b[0m \u001b[39m#     draw.rectangle((448*pc[0], 448*pc[1], 448*pc[2], 448*pc[3]), outline=\"red\")\u001b[39;00m\n\u001b[0;32m     52\u001b[0m \u001b[39m# res_img.show()\u001b[39;00m\n",
      "File \u001b[1;32m~\\AppData\\Local\\Packages\\PythonSoftwareFoundation.Python.3.11_qbz5n2kfra8p0\\LocalCache\\local-packages\\Python311\\site-packages\\torch\\serialization.py:440\u001b[0m, in \u001b[0;36msave\u001b[1;34m(obj, f, pickle_module, pickle_protocol, _use_new_zipfile_serialization)\u001b[0m\n\u001b[0;32m    437\u001b[0m _check_save_filelike(f)\n\u001b[0;32m    439\u001b[0m \u001b[39mif\u001b[39;00m _use_new_zipfile_serialization:\n\u001b[1;32m--> 440\u001b[0m     \u001b[39mwith\u001b[39;00m _open_zipfile_writer(f) \u001b[39mas\u001b[39;00m opened_zipfile:\n\u001b[0;32m    441\u001b[0m         _save(obj, opened_zipfile, pickle_module, pickle_protocol)\n\u001b[0;32m    442\u001b[0m         \u001b[39mreturn\u001b[39;00m\n",
      "File \u001b[1;32m~\\AppData\\Local\\Packages\\PythonSoftwareFoundation.Python.3.11_qbz5n2kfra8p0\\LocalCache\\local-packages\\Python311\\site-packages\\torch\\serialization.py:315\u001b[0m, in \u001b[0;36m_open_zipfile_writer\u001b[1;34m(name_or_buffer)\u001b[0m\n\u001b[0;32m    313\u001b[0m \u001b[39melse\u001b[39;00m:\n\u001b[0;32m    314\u001b[0m     container \u001b[39m=\u001b[39m _open_zipfile_writer_buffer\n\u001b[1;32m--> 315\u001b[0m \u001b[39mreturn\u001b[39;00m container(name_or_buffer)\n",
      "File \u001b[1;32m~\\AppData\\Local\\Packages\\PythonSoftwareFoundation.Python.3.11_qbz5n2kfra8p0\\LocalCache\\local-packages\\Python311\\site-packages\\torch\\serialization.py:288\u001b[0m, in \u001b[0;36m_open_zipfile_writer_file.__init__\u001b[1;34m(self, name)\u001b[0m\n\u001b[0;32m    287\u001b[0m \u001b[39mdef\u001b[39;00m \u001b[39m__init__\u001b[39m(\u001b[39mself\u001b[39m, name) \u001b[39m-\u001b[39m\u001b[39m>\u001b[39m \u001b[39mNone\u001b[39;00m:\n\u001b[1;32m--> 288\u001b[0m     \u001b[39msuper\u001b[39m()\u001b[39m.\u001b[39m\u001b[39m__init__\u001b[39m(torch\u001b[39m.\u001b[39;49m_C\u001b[39m.\u001b[39;49mPyTorchFileWriter(\u001b[39mstr\u001b[39;49m(name)))\n",
      "\u001b[1;31mRuntimeError\u001b[0m: Parent directory C:\\Users\\sxing/YOLO_MODELS does not exist."
     ]
    }
   ],
   "source": [
    "from PIL import Image, ImageDraw\n",
    "from sys import modules\n",
    "import torch.optim as optim\n",
    "import matplotlib.pyplot as plt\n",
    "\n",
    "optimizer = optim.Adam(yolo.parameters())\n",
    "torch.cuda.empty_cache()\n",
    "\n",
    "if 'google.colab' in sys.modules:\n",
    "    save_dir = os.environ[\"GDRIVE_MOUNT_DIR\"]\n",
    "else:\n",
    "    save_dir = os.path.expanduser(\"~/YOLO_MODELS\")\n",
    "loss_df = pd.DataFrame(columns=[\"l1\", \"l2\", \"l3\", \"l4\", \"l5\"])\n",
    "for _id, sample in enumerate(loader):\n",
    "    \n",
    "    # forward-propagate\n",
    "    batch, labels, classes = sample\n",
    "    res = yolo(batch.to(device=device))\n",
    "    # print(res.shape, len(labels[2]), classes[2])\n",
    "    loss, loss_df = yolo_loss(res, labels, classes, loss_df)\n",
    "\n",
    "    # back-propagate\n",
    "    optimizer.zero_grad()\n",
    "    loss.backward()\n",
    "    optimizer.step()\n",
    "\n",
    "    # record\n",
    "    if _id and _id % 10 == 0:\n",
    "        print(\"loss \", loss)\n",
    "        print(\"loss_df: \", loss_df)\n",
    "        for col in loss_df.columns:\n",
    "            plt.plot(loss_df[col], label=col)\n",
    "        plt.xlabel(\"iteration\")\n",
    "        plt.ylabel(\"values\")\n",
    "        plt.legend()\n",
    "        plt.grid(True)\n",
    "        plt.show()\n",
    "    if _id and _id % 10 == 0:\n",
    "        checkpoint = {\n",
    "            'model': yolo.state_dict(),\n",
    "            'optimizer': optimizer.state_dict(),\n",
    "            'iteration': _id,\n",
    "            'train_loss': loss,\n",
    "            # 'val_loss': val_loss\n",
    "        }\n",
    "        torch.save(checkpoint, f\"{save_dir}/yolov1_{_id}.pth\")\n",
    "    # showing the image with labels\n",
    "    # res_img = Image.fromarray((batch[0] * 255).permute(1, 2, 0).byte().numpy())\n",
    "    # draw = ImageDraw.Draw(res_img)\n",
    "    # for pc in labels[0]:\n",
    "    #     draw.rectangle((448*pc[0], 448*pc[1], 448*pc[2], 448*pc[3]), outline=\"red\")\n",
    "    # res_img.show()\n",
    "\n",
    "    \n",
    "    "
   ]
  },
  {
   "cell_type": "code",
   "execution_count": null,
   "metadata": {},
   "outputs": [],
   "source": []
  }
 ],
 "metadata": {
  "kernelspec": {
   "display_name": "base",
   "language": "python",
   "name": "python3"
  },
  "language_info": {
   "codemirror_mode": {
    "name": "ipython",
    "version": 3
   },
   "file_extension": ".py",
   "mimetype": "text/x-python",
   "name": "python",
   "nbconvert_exporter": "python",
   "pygments_lexer": "ipython3",
   "version": "3.11.3"
  },
  "vscode": {
   "interpreter": {
    "hash": "d4d1e4263499bec80672ea0156c357c1ee493ec2b1c70f0acce89fc37c4a6abe"
   }
  }
 },
 "nbformat": 4,
 "nbformat_minor": 2
}
