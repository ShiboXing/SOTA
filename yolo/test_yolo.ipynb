{
 "cells": [
  {
   "cell_type": "code",
   "execution_count": 7,
   "metadata": {},
   "outputs": [],
   "source": [
    "import os\n",
    "import torch\n",
    "\n",
    "save_dir = os.path.expanduser(os.environ[\"YOLO_MODELS\"])\n",
    "checkpoint_pth = max([f for f in os.listdir(save_dir) if f.endswith(\".pth\")])"
   ]
  },
  {
   "cell_type": "code",
   "execution_count": 8,
   "metadata": {},
   "outputs": [
    {
     "data": {
      "text/plain": [
       "<torch._C.Generator at 0x1dec0754ed0>"
      ]
     },
     "execution_count": 8,
     "metadata": {},
     "output_type": "execute_result"
    }
   ],
   "source": [
    "from models import YOLOv1\n",
    "from data.VOC_Dataset import VOC_Dataset\n",
    "from data import DATA_HOME\n",
    "\n",
    "from ipdb import set_trace\n",
    "from torch.utils.data import DataLoader\n",
    "from numpy import array\n",
    "from multiprocessing import cpu_count\n",
    "import random \n",
    "import torch\n",
    "\n",
    "if torch.cuda.is_available():\n",
    "    device = torch.device(\"cuda\")\n",
    "else:\n",
    "    device = torch.device(\"cpu\")\n",
    "\n",
    "random.seed(1)\n",
    "torch.manual_seed(1)"
   ]
  },
  {
   "cell_type": "code",
   "execution_count": 9,
   "metadata": {},
   "outputs": [
    {
     "name": "stdout",
     "output_type": "stream",
     "text": [
      "class dict:  {'aeroplane': 0, 'dog': 1, 'motorbike': 2, 'bicycle': 3, 'train': 4, 'bottle': 5, 'cat': 6, 'bus': 7, 'sofa': 8, 'sheep': 9, 'horse': 10, 'boat': 11, 'car': 12, 'diningtable': 13, 'person': 14, 'chair': 15, 'cow': 16, 'tvmonitor': 17, 'bird': 18, 'pottedplant': 19}\n"
     ]
    }
   ],
   "source": [
    "import platform\n",
    "\n",
    "_voc_root = f\"{DATA_HOME}/VOCdevkit/VOC2007\"\n",
    "voc_ds = VOC_Dataset(_voc_root)\n",
    "BS = 1\n",
    "\n",
    "def collate_fn(data):\n",
    "    # output: 7 * 7 * 30\n",
    "    # S * S * ((x, y, w, h, confidence) * B=2 + C=20)\n",
    "    # make img batch and label batch\n",
    "    imgs, labels, classes = zip(*data)\n",
    "    # inhomegenous shape label, since each image has different number of objects\n",
    "    # label's dimension: (Batch size, # of objects in each image, 4 coords)\n",
    "    return torch.tensor(array(imgs), dtype=torch.float), labels, classes\n",
    "    \n",
    "if platform.system() == \"Windows\":\n",
    "    loader = DataLoader(voc_ds, batch_size=BS, pin_memory=True, shuffle=True, collate_fn=collate_fn)\n",
    "else:\n",
    "    loader = DataLoader(voc_ds, batch_size=BS, pin_memory=True, shuffle=True, num_workers=4, collate_fn=collate_fn)"
   ]
  },
  {
   "cell_type": "code",
   "execution_count": 10,
   "metadata": {},
   "outputs": [],
   "source": [
    "yolo = YOLOv1().to(device=device)\n",
    "\n",
    "S = 7 # num of rows/cols\n",
    "C = 20 # num of classes\n",
    "B = 2 # num of bounding boxes\n",
    "\n",
    "lamba_coord = 5\n",
    "lamba_noobj = 0.5"
   ]
  },
  {
   "cell_type": "code",
   "execution_count": 11,
   "metadata": {},
   "outputs": [
    {
     "name": "stdout",
     "output_type": "stream",
     "text": [
      "> \u001b[1;32mc:\\users\\sxing\\appdata\\local\\temp\\ipykernel_18736\\556098898.py\u001b[0m(9)\u001b[0;36m<module>\u001b[1;34m()\u001b[0m\n",
      "\n",
      "(tensor(0.0001, device='cuda:0'), tensor(0.0093, device='cuda:0'))\n",
      "tensor([[[-8.2754e-03, -1.4265e-02, -7.2528e-03,  ..., -3.9033e-03,\n",
      "          -1.9112e-03, -4.0799e-03],\n",
      "         [-1.3321e-02, -9.6641e-03, -4.7833e-03,  ...,  4.2233e-03,\n",
      "          -1.2514e-02, -1.0486e-02],\n",
      "         [-5.9658e-03, -4.2881e-03,  3.4645e-03,  ..., -1.1782e-02,\n",
      "           1.1092e-02, -5.4682e-03],\n",
      "         ...,\n",
      "         [-9.9226e-03,  1.2294e-02, -3.5797e-03,  ...,  2.2819e-03,\n",
      "          -1.2040e-02, -1.2504e-02],\n",
      "         [ 7.6564e-03, -4.0314e-03,  4.4564e-03,  ...,  1.2894e-02,\n",
      "           4.0858e-03, -1.3988e-02],\n",
      "         [-7.0184e-04, -1.3607e-02,  5.1405e-03,  ...,  1.2943e-02,\n",
      "           9.5065e-03, -1.2328e-02]],\n",
      "\n",
      "        [[-1.8444e-03,  2.2893e-03,  7.7076e-03,  ...,  5.5042e-03,\n",
      "           1.7919e-03,  1.6850e-02],\n",
      "         [ 1.3506e-02,  1.1065e-02, -2.6055e-03,  ..., -1.1958e-02,\n",
      "          -6.6144e-03,  1.3427e-02],\n",
      "         [ 5.3584e-03,  4.8059e-03, -1.0205e-03,  ...,  4.2647e-03,\n",
      "          -7.0203e-03, -5.9054e-03],\n",
      "         ...,\n",
      "         [ 3.4716e-03,  7.4950e-03,  5.2312e-04,  ...,  5.3074e-04,\n",
      "          -1.5268e-02, -1.2211e-02],\n",
      "         [ 5.6590e-03, -7.3039e-03, -1.3100e-02,  ..., -1.3647e-02,\n",
      "          -1.1679e-02,  1.3599e-02],\n",
      "         [ 1.7799e-03,  4.4571e-03,  8.6989e-03,  ...,  1.6560e-03,\n",
      "          -3.7590e-03,  1.4681e-02]],\n",
      "\n",
      "        [[-2.4549e-03,  1.4924e-03, -7.7495e-03,  ..., -8.8747e-03,\n",
      "           2.6069e-03, -5.6765e-03],\n",
      "         [-1.4784e-02, -6.3327e-03, -2.9339e-03,  ...,  1.3968e-02,\n",
      "          -6.8280e-03, -4.3458e-03],\n",
      "         [ 9.3393e-03, -9.7302e-03,  3.9614e-03,  ...,  1.3198e-02,\n",
      "           1.0133e-02,  1.9304e-03],\n",
      "         ...,\n",
      "         [ 1.3594e-03, -1.3395e-02, -1.3576e-02,  ...,  6.9023e-03,\n",
      "           1.3257e-02, -1.6396e-02],\n",
      "         [ 4.0170e-03,  8.9328e-03,  7.0872e-03,  ..., -8.4435e-03,\n",
      "          -4.0214e-03, -1.7888e-02],\n",
      "         [-5.5335e-03,  1.8882e-03, -8.5728e-03,  ..., -4.7238e-03,\n",
      "          -1.3084e-03, -7.6297e-03]],\n",
      "\n",
      "        ...,\n",
      "\n",
      "        [[-6.0683e-03,  4.5841e-03,  9.0774e-03,  ..., -1.0570e-02,\n",
      "           1.7848e-02, -1.9731e-02],\n",
      "         [ 1.3747e-02,  5.3653e-03,  1.3813e-03,  ..., -3.5351e-03,\n",
      "           1.3193e-02,  1.5385e-02],\n",
      "         [-4.2106e-03,  3.8209e-03,  1.1809e-02,  ..., -1.1116e-03,\n",
      "          -2.8343e-03,  2.7204e-03],\n",
      "         ...,\n",
      "         [-1.4598e-02, -1.1051e-02, -4.5644e-03,  ...,  1.6855e-02,\n",
      "           1.3664e-03,  3.0434e-03],\n",
      "         [ 1.3867e-02,  1.5967e-02, -7.7344e-03,  ...,  1.1086e-02,\n",
      "           1.0823e-02,  8.0170e-03],\n",
      "         [ 1.5299e-02,  7.2004e-03,  4.0134e-03,  ..., -2.1004e-03,\n",
      "          -4.4515e-03, -4.2700e-03]],\n",
      "\n",
      "        [[-4.0070e-04,  5.4099e-03, -2.1149e-03,  ...,  1.0648e-02,\n",
      "          -5.3244e-03,  1.3399e-02],\n",
      "         [ 1.0564e-02, -4.6882e-03,  8.6710e-03,  ..., -9.4027e-03,\n",
      "           1.1711e-02,  1.1675e-02],\n",
      "         [ 1.7408e-02,  7.6150e-03, -8.8991e-03,  ..., -4.6705e-03,\n",
      "           1.1325e-02, -4.9121e-03],\n",
      "         ...,\n",
      "         [-1.2632e-03,  1.2899e-02, -8.0609e-03,  ..., -8.7079e-03,\n",
      "           5.7615e-05, -6.0133e-03],\n",
      "         [-1.1842e-02, -1.3821e-02, -2.5156e-03,  ...,  9.4144e-04,\n",
      "           2.6938e-03, -1.5558e-02],\n",
      "         [ 5.2764e-03, -8.5735e-03, -3.9024e-03,  ..., -1.0301e-02,\n",
      "          -5.1058e-03, -1.2234e-02]],\n",
      "\n",
      "        [[ 1.0566e-03, -9.4131e-03, -2.4795e-03,  ..., -8.2100e-03,\n",
      "           8.2961e-03,  1.4476e-02],\n",
      "         [ 1.6764e-03, -9.9715e-03, -1.2961e-02,  ..., -1.4497e-02,\n",
      "           1.2938e-03,  1.0676e-02],\n",
      "         [ 3.0563e-03, -2.4100e-03,  1.3203e-02,  ...,  1.3964e-03,\n",
      "           7.0846e-03,  1.0816e-02],\n",
      "         ...,\n",
      "         [ 7.9916e-03,  1.5163e-02, -1.5382e-03,  ..., -1.0930e-02,\n",
      "          -1.8354e-02,  7.2105e-03],\n",
      "         [-1.3549e-02,  1.0312e-04,  1.3711e-02,  ...,  1.1156e-03,\n",
      "          -3.1001e-03, -9.8847e-03],\n",
      "         [ 8.9668e-03,  6.0113e-03,  1.3929e-02,  ..., -8.4898e-03,\n",
      "          -6.5356e-04, -6.8841e-03]]], device='cuda:0')\n"
     ]
    }
   ],
   "source": [
    "from utils.display import display_image_bbox\n",
    "from utils.metrics import xywh_2_xxyy\n",
    "import numpy as np\n",
    "\n",
    "with torch.no_grad():\n",
    "    for _, (batch, labels, classes) in enumerate(loader):\n",
    "        res = yolo(batch.to(device=device)).squeeze(0)\n",
    "        set_trace()\n",
    "        boxes = []\n",
    "        for i in range(res.shape[1]):\n",
    "            for j in range(res.shape[2]):\n",
    "                cell1 = res[:, i, j][:5]\n",
    "                cell2 = res[:, i, j][5:10]\n",
    "                boxes.append(cell1.detach().cpu().numpy())\n",
    "                boxes.append(cell2.detach().cpu().numpy())\n",
    "                \n",
    "\n",
    "        boxes = list(map(xywh_2_xxyy, boxes))\n",
    "\n",
    "        boxes = [np.maximum(.0, np.array(b)) * 100 for b in boxes]\n",
    "        boxes = [(min(b[0], b[2]), min(b[1], b[3]), b[2], b[3]) for b in boxes]\n",
    "        display_image_bbox(batch[0], boxes)"
   ]
  },
  {
   "cell_type": "code",
   "execution_count": null,
   "metadata": {},
   "outputs": [],
   "source": [
    "import os\n",
    "import pandas as pd\n",
    "import matplotlib.pyplot as plt\n",
    "loss_dir = os.path.expanduser(\"~/Downloads\")\n",
    "for fname in [\"/train_loss_latest.csv\", \"/val_loss_latest.csv\"]:\n",
    "    loss_df = pd.read_csv(loss_dir + fname, index_col=0)\n",
    "    print(\"loss_df: \", loss_df)\n",
    "    for col in loss_df.columns:\n",
    "        if col == \"l1\" or col == \"l2\":\n",
    "            plt.plot(loss_df[col], label=col)\n",
    "    plt.xlabel(\"iteration\")\n",
    "    plt.ylabel(\"values\")\n",
    "    plt.legend()\n",
    "    plt.grid(True)\n",
    "    plt.show()"
   ]
  },
  {
   "cell_type": "code",
   "execution_count": null,
   "metadata": {},
   "outputs": [],
   "source": []
  }
 ],
 "metadata": {
  "kernelspec": {
   "display_name": "Python 3",
   "language": "python",
   "name": "python3"
  },
  "language_info": {
   "codemirror_mode": {
    "name": "ipython",
    "version": 3
   },
   "file_extension": ".py",
   "mimetype": "text/x-python",
   "name": "python",
   "nbconvert_exporter": "python",
   "pygments_lexer": "ipython3",
   "version": "3.11.3"
  }
 },
 "nbformat": 4,
 "nbformat_minor": 2
}
