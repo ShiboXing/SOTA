{
 "cells": [
  {
   "cell_type": "code",
   "execution_count": null,
   "metadata": {},
   "outputs": [],
   "source": [
    "import os, sys\n",
    "sys.path.append(\"..\")\n",
    "from ipdb import set_trace\n",
    "\n",
    "MODEL_HOME = \"~/Downloads\"\n",
    "save_dir = os.path.expanduser(MODEL_HOME)\n",
    "checkpoint_pth = save_dir + \"/\" + max([f for f in os.listdir(save_dir) if f.endswith(\".pth\")])"
   ]
  },
  {
   "cell_type": "code",
   "execution_count": null,
   "metadata": {},
   "outputs": [],
   "source": [
    "from models import YOLOv1\n",
    "from data.VOC_Dataset import VOC_Dataset\n",
    "from common_utils import DATA_HOME\n",
    "\n",
    "from ipdb import set_trace\n",
    "from torch.utils.data import DataLoader\n",
    "from numpy import array\n",
    "from multiprocessing import cpu_count\n",
    "import random \n",
    "import torch\n",
    "\n",
    "if torch.cuda.is_available():\n",
    "    device = torch.device(\"cuda\")\n",
    "else:\n",
    "    device = torch.device(\"cpu\")\n",
    "\n",
    "random.seed(1)\n",
    "torch.manual_seed(1)"
   ]
  },
  {
   "cell_type": "code",
   "execution_count": null,
   "metadata": {},
   "outputs": [],
   "source": [
    "import platform\n",
    "\n",
    "_voc_root = f\"{DATA_HOME}/VOCdevkit/VOC2007\"\n",
    "voc_ds = VOC_Dataset(_voc_root)\n",
    "BS = 1\n",
    "class_dict =  {'aeroplane': 0, 'bicycle': 1, 'bird': 2, 'boat': 3, 'bottle': 4, 'bus': 5, 'car': 6, 'cat': 7, 'chair': 8, 'cow': 9, 'diningtable': 10, 'dog': 11, 'horse': 12, 'motorbike': 13, 'person': 14, 'pottedplant': 15, 'sheep': 16, 'sofa': 17, 'train': 18, 'tvmonitor': 19}\n",
    "class_dict = {v:k for k, v in class_dict.items()}\n",
    "\n",
    "def collate_fn(data):\n",
    "    # output: 7 * 7 * 30\n",
    "    # S * S * ((x, y, w, h, confidence) * B=2 + C=20)\n",
    "    # make img batch and label batch\n",
    "    imgs, labels, classes = zip(*data)\n",
    "    # inhomegenous shape label, since each image has different number of objects\n",
    "    # label's dimension: (Batch size, # of objects in each image, 4 coords)\n",
    "    return torch.tensor(array(imgs), dtype=torch.float), labels, classes\n",
    "    \n",
    "if platform.system() == \"Windows\":\n",
    "    loader = DataLoader(voc_ds, batch_size=BS, pin_memory=True, shuffle=True, collate_fn=collate_fn)\n",
    "else:\n",
    "    loader = DataLoader(voc_ds, batch_size=BS, pin_memory=True, shuffle=True, num_workers=4, collate_fn=collate_fn)"
   ]
  },
  {
   "cell_type": "code",
   "execution_count": null,
   "metadata": {},
   "outputs": [],
   "source": [
    "yolo = YOLOv1().to(device=device)\n",
    "yolo.load_state_dict(torch.load(checkpoint_pth)[\"model\"])\n",
    "# set_trace()\n",
    "S = 7 # num of rows/cols\n",
    "C = 20 # num of classes\n",
    "B = 2 # num of bounding boxes"
   ]
  },
  {
   "cell_type": "code",
   "execution_count": null,
   "metadata": {},
   "outputs": [],
   "source": [
    "from utils.display import display_image_bbox\n",
    "from utils.metrics import xywh_2_xxyy, IOU\n",
    "import numpy as np\n",
    "conf = []\n",
    "with torch.no_grad():\n",
    "    for _, (batch, labels, classes) in enumerate(loader):\n",
    "        if _ == 300:\n",
    "            break\n",
    "        res = yolo(batch.to(device=device)).squeeze(0)\n",
    "        # set_trace()\n",
    "        boxes = []\n",
    "        labels_map = {}\n",
    "        for i in range(res.shape[1]):\n",
    "            for j in range(res.shape[2]):\n",
    "                cell1 = res[:, i, j][:5]\n",
    "                cell2 = res[:, i, j][5:10]\n",
    "                boxes.append(cell1.detach().cpu().numpy())\n",
    "                boxes.append(cell2.detach().cpu().numpy())\n",
    "                labels_map[(i, j)] = res[:, i, j][-20:]\n",
    "\n",
    "        # non-max suppression\n",
    "        lo = 0\n",
    "        while lo < len(boxes):\n",
    "            del_inds = set()\n",
    "            conf.append(boxes[lo][4])\n",
    "            if boxes[lo][4] < 0.01:\n",
    "                del_inds.add(lo) \n",
    "            for j in range(lo+1, len(boxes)):\n",
    "                if IOU(boxes[lo], boxes[j]) > 0.1:\n",
    "                    if boxes[lo][4] > boxes[j][4]:\n",
    "                        del_inds.add(j)\n",
    "                    else:\n",
    "                        del_inds.add(lo)\n",
    "            boxes = np.delete(boxes, list(del_inds), axis=0)\n",
    "            if lo in del_inds:\n",
    "                lo = 0\n",
    "            else:\n",
    "                lo += 1\n",
    "\n",
    "        # assign labels\n",
    "        titles = []\n",
    "        for x, y, _, _, _ in boxes:\n",
    "            x_ind, y_ind = min(6, int(x * 7)), min(6, int(y * 7))\n",
    "            class_arr = labels_map[(x_ind, y_ind)]\n",
    "            _, max_class = max((value, index) for index, value in enumerate(class_arr))\n",
    "            titles.append(class_dict[max_class])\n",
    "        boxes = list(map(xywh_2_xxyy, boxes))\n",
    "        \n",
    "        # display prediction\n",
    "        display_image_bbox(batch[0], boxes, titles)\n",
    "\n",
    "        # display labels\n",
    "        y_classes = [class_dict[c] for c in classes[0]]\n",
    "        labels[0] = list(map(xywh_2_xxyy, labels[0]))\n",
    "        display_image_bbox(batch[0], labels[0], y_classes)"
   ]
  },
  {
   "cell_type": "code",
   "execution_count": null,
   "metadata": {},
   "outputs": [],
   "source": [
    "# show confidence distribution\n",
    "conf = np.array(conf)\n",
    "conf.std(), conf.mean(), conf.min(), conf.max()"
   ]
  },
  {
   "attachments": {},
   "cell_type": "markdown",
   "metadata": {},
   "source": [
    "### show loss curves\n"
   ]
  },
  {
   "cell_type": "code",
   "execution_count": null,
   "metadata": {},
   "outputs": [],
   "source": [
    "import os\n",
    "import pandas as pd\n",
    "import matplotlib.pyplot as plt\n",
    "\n",
    "MODEL_HOME = \"~/Downloads\"\n",
    "loss_dir = os.path.expanduser(MODEL_HOME)\n",
    "for fname in [\"/train_loss_latest.csv\", \"/val_loss_latest.csv\"]:\n",
    "    loss_df = pd.read_csv(loss_dir + fname, index_col=0)\n",
    "    print(\"loss_df: \", loss_df)\n",
    "    for col in loss_df.columns:\n",
    "        # if col == \"l1\" or col == \"l2\": #or col == \"l5\":\n",
    "        plt.plot(loss_df[col], label=col)\n",
    "    plt.xlabel(\"iteration\")\n",
    "    plt.ylabel(\"values\")\n",
    "    plt.legend()\n",
    "    plt.grid(True)\n",
    "    plt.show()"
   ]
  },
  {
   "cell_type": "code",
   "execution_count": null,
   "metadata": {},
   "outputs": [],
   "source": []
  }
 ],
 "metadata": {
  "kernelspec": {
   "display_name": "Python 3",
   "language": "python",
   "name": "python3"
  },
  "language_info": {
   "codemirror_mode": {
    "name": "ipython",
    "version": 3
   },
   "file_extension": ".py",
   "mimetype": "text/x-python",
   "name": "python",
   "nbconvert_exporter": "python",
   "pygments_lexer": "ipython3",
   "version": "3.11.3"
  }
 },
 "nbformat": 4,
 "nbformat_minor": 2
}
