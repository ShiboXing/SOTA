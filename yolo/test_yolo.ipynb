{
 "cells": [
  {
   "cell_type": "code",
   "execution_count": 1,
   "metadata": {},
   "outputs": [],
   "source": [
    "import os\n",
    "import torch\n",
    "\n",
    "save_dir = os.path.expanduser(os.environ[\"YOLO_MODELS\"])\n",
    "checkpoint_pth = max([f for f in os.listdir(save_dir) if f.endswith(\".pth\")])"
   ]
  },
  {
   "cell_type": "code",
   "execution_count": 2,
   "metadata": {},
   "outputs": [
    {
     "data": {
      "text/plain": [
       "<torch._C.Generator at 0x177feb54e50>"
      ]
     },
     "execution_count": 2,
     "metadata": {},
     "output_type": "execute_result"
    }
   ],
   "source": [
    "from models import YOLOv1\n",
    "from data.VOC_Dataset import VOC_Dataset\n",
    "from data import DATA_HOME\n",
    "\n",
    "from ipdb import set_trace\n",
    "from torch.utils.data import DataLoader\n",
    "from numpy import array\n",
    "from multiprocessing import cpu_count\n",
    "import random \n",
    "import torch\n",
    "import pandas as pd\n",
    "\n",
    "if torch.cuda.is_available():\n",
    "    device = torch.device(\"cuda\")\n",
    "else:\n",
    "    device = torch.device(\"cpu\")\n",
    "\n",
    "random.seed(1)\n",
    "torch.manual_seed(1)"
   ]
  },
  {
   "cell_type": "code",
   "execution_count": 3,
   "metadata": {},
   "outputs": [
    {
     "name": "stdout",
     "output_type": "stream",
     "text": [
      "class dict:  {'bird': 0, 'sofa': 1, 'horse': 2, 'pottedplant': 3, 'bicycle': 4, 'motorbike': 5, 'boat': 6, 'aeroplane': 7, 'bottle': 8, 'bus': 9, 'person': 10, 'dog': 11, 'cow': 12, 'cat': 13, 'sheep': 14, 'car': 15, 'chair': 16, 'tvmonitor': 17, 'diningtable': 18, 'train': 19}\n"
     ]
    }
   ],
   "source": [
    "import platform\n",
    "\n",
    "_voc_root = f\"{DATA_HOME}/VOCdevkit/VOC2007\"\n",
    "voc_ds = VOC_Dataset(_voc_root)\n",
    "BS = 1\n",
    "\n",
    "def collate_fn(data):\n",
    "    # output: 7 * 7 * 30\n",
    "    # S * S * ((x, y, w, h, confidence) * B=2 + C=20)\n",
    "    # make img batch and label batch\n",
    "    imgs, labels, classes = zip(*data)\n",
    "    # inhomegenous shape label, since each image has different number of objects\n",
    "    # label's dimension: (Batch size, # of objects in each image, 4 coords)\n",
    "    return torch.tensor(array(imgs), dtype=torch.float), labels, classes\n",
    "    \n",
    "if platform.system() == \"Windows\":\n",
    "    loader = DataLoader(voc_ds, batch_size=BS, pin_memory=True, shuffle=True, collate_fn=collate_fn)\n",
    "else:\n",
    "    loader = DataLoader(voc_ds, batch_size=BS, pin_memory=True, shuffle=True, num_workers=4, collate_fn=collate_fn)"
   ]
  },
  {
   "cell_type": "code",
   "execution_count": 4,
   "metadata": {},
   "outputs": [],
   "source": [
    "yolo = YOLOv1().to(device=device)\n",
    "\n",
    "S = 7 # num of rows/cols\n",
    "C = 20 # num of classes\n",
    "B = 2 # num of bounding boxes\n",
    "\n",
    "lamba_coord = 5\n",
    "lamba_noobj = 0.5"
   ]
  },
  {
   "cell_type": "code",
   "execution_count": 16,
   "metadata": {},
   "outputs": [
    {
     "ename": "KeyboardInterrupt",
     "evalue": "",
     "output_type": "error",
     "traceback": [
      "\u001b[1;31m---------------------------------------------------------------------------\u001b[0m",
      "\u001b[1;31mKeyboardInterrupt\u001b[0m                         Traceback (most recent call last)",
      "Cell \u001b[1;32mIn[16], line 21\u001b[0m\n\u001b[0;32m     19\u001b[0m boxes \u001b[39m=\u001b[39m [np\u001b[39m.\u001b[39mmaximum(\u001b[39m.0\u001b[39m, np\u001b[39m.\u001b[39marray(b)) \u001b[39m*\u001b[39m \u001b[39m100\u001b[39m \u001b[39mfor\u001b[39;00m b \u001b[39min\u001b[39;00m boxes]\n\u001b[0;32m     20\u001b[0m boxes \u001b[39m=\u001b[39m [(\u001b[39mmin\u001b[39m(b[\u001b[39m0\u001b[39m], b[\u001b[39m2\u001b[39m]), \u001b[39mmin\u001b[39m(b[\u001b[39m1\u001b[39m], b[\u001b[39m3\u001b[39m]), b[\u001b[39m2\u001b[39m], b[\u001b[39m3\u001b[39m]) \u001b[39mfor\u001b[39;00m b \u001b[39min\u001b[39;00m boxes]\n\u001b[1;32m---> 21\u001b[0m display_image_bbox(batch[\u001b[39m0\u001b[39;49m], boxes)\n",
      "File \u001b[1;32mc:\\Users\\sxing\\Trading-detes\\SOTA\\yolo\\utils\\display.py:8\u001b[0m, in \u001b[0;36mdisplay_image_bbox\u001b[1;34m(img, labels)\u001b[0m\n\u001b[0;32m      6\u001b[0m \u001b[39mfor\u001b[39;00m pc \u001b[39min\u001b[39;00m labels:\n\u001b[0;32m      7\u001b[0m     draw\u001b[39m.\u001b[39mrectangle((\u001b[39m448\u001b[39m\u001b[39m*\u001b[39mpc[\u001b[39m0\u001b[39m], \u001b[39m448\u001b[39m\u001b[39m*\u001b[39mpc[\u001b[39m1\u001b[39m], \u001b[39m448\u001b[39m\u001b[39m*\u001b[39mpc[\u001b[39m2\u001b[39m], \u001b[39m448\u001b[39m\u001b[39m*\u001b[39mpc[\u001b[39m3\u001b[39m]), outline\u001b[39m=\u001b[39m\u001b[39m\"\u001b[39m\u001b[39mred\u001b[39m\u001b[39m\"\u001b[39m)\n\u001b[1;32m----> 8\u001b[0m res_img\u001b[39m.\u001b[39;49mshow()\n",
      "File \u001b[1;32m~\\AppData\\Local\\Packages\\PythonSoftwareFoundation.Python.3.11_qbz5n2kfra8p0\\LocalCache\\local-packages\\Python311\\site-packages\\PIL\\Image.py:2486\u001b[0m, in \u001b[0;36mImage.show\u001b[1;34m(self, title)\u001b[0m\n\u001b[0;32m   2466\u001b[0m \u001b[39mdef\u001b[39;00m \u001b[39mshow\u001b[39m(\u001b[39mself\u001b[39m, title\u001b[39m=\u001b[39m\u001b[39mNone\u001b[39;00m):\n\u001b[0;32m   2467\u001b[0m \u001b[39m    \u001b[39m\u001b[39m\"\"\"\u001b[39;00m\n\u001b[0;32m   2468\u001b[0m \u001b[39m    Displays this image. This method is mainly intended for debugging purposes.\u001b[39;00m\n\u001b[0;32m   2469\u001b[0m \n\u001b[1;32m   (...)\u001b[0m\n\u001b[0;32m   2483\u001b[0m \u001b[39m    :param title: Optional title to use for the image window, where possible.\u001b[39;00m\n\u001b[0;32m   2484\u001b[0m \u001b[39m    \"\"\"\u001b[39;00m\n\u001b[1;32m-> 2486\u001b[0m     _show(\u001b[39mself\u001b[39;49m, title\u001b[39m=\u001b[39;49mtitle)\n",
      "File \u001b[1;32m~\\AppData\\Local\\Packages\\PythonSoftwareFoundation.Python.3.11_qbz5n2kfra8p0\\LocalCache\\local-packages\\Python311\\site-packages\\PIL\\Image.py:3524\u001b[0m, in \u001b[0;36m_show\u001b[1;34m(image, **options)\u001b[0m\n\u001b[0;32m   3521\u001b[0m \u001b[39mdef\u001b[39;00m \u001b[39m_show\u001b[39m(image, \u001b[39m*\u001b[39m\u001b[39m*\u001b[39moptions):\n\u001b[0;32m   3522\u001b[0m     \u001b[39mfrom\u001b[39;00m \u001b[39m.\u001b[39;00m \u001b[39mimport\u001b[39;00m ImageShow\n\u001b[1;32m-> 3524\u001b[0m     ImageShow\u001b[39m.\u001b[39;49mshow(image, \u001b[39m*\u001b[39;49m\u001b[39m*\u001b[39;49moptions)\n",
      "File \u001b[1;32m~\\AppData\\Local\\Packages\\PythonSoftwareFoundation.Python.3.11_qbz5n2kfra8p0\\LocalCache\\local-packages\\Python311\\site-packages\\PIL\\ImageShow.py:62\u001b[0m, in \u001b[0;36mshow\u001b[1;34m(image, title, **options)\u001b[0m\n\u001b[0;32m     53\u001b[0m \u001b[39m\u001b[39m\u001b[39mr\u001b[39m\u001b[39m\"\"\"\u001b[39;00m\n\u001b[0;32m     54\u001b[0m \u001b[39mDisplay a given image.\u001b[39;00m\n\u001b[0;32m     55\u001b[0m \n\u001b[1;32m   (...)\u001b[0m\n\u001b[0;32m     59\u001b[0m \u001b[39m:returns: ``True`` if a suitable viewer was found, ``False`` otherwise.\u001b[39;00m\n\u001b[0;32m     60\u001b[0m \u001b[39m\"\"\"\u001b[39;00m\n\u001b[0;32m     61\u001b[0m \u001b[39mfor\u001b[39;00m viewer \u001b[39min\u001b[39;00m _viewers:\n\u001b[1;32m---> 62\u001b[0m     \u001b[39mif\u001b[39;00m viewer\u001b[39m.\u001b[39;49mshow(image, title\u001b[39m=\u001b[39;49mtitle, \u001b[39m*\u001b[39;49m\u001b[39m*\u001b[39;49moptions):\n\u001b[0;32m     63\u001b[0m         \u001b[39mreturn\u001b[39;00m \u001b[39mTrue\u001b[39;00m\n\u001b[0;32m     64\u001b[0m \u001b[39mreturn\u001b[39;00m \u001b[39mFalse\u001b[39;00m\n",
      "File \u001b[1;32m~\\AppData\\Local\\Packages\\PythonSoftwareFoundation.Python.3.11_qbz5n2kfra8p0\\LocalCache\\local-packages\\Python311\\site-packages\\PIL\\ImageShow.py:86\u001b[0m, in \u001b[0;36mViewer.show\u001b[1;34m(self, image, **options)\u001b[0m\n\u001b[0;32m     83\u001b[0m     \u001b[39mif\u001b[39;00m image\u001b[39m.\u001b[39mmode \u001b[39m!=\u001b[39m base:\n\u001b[0;32m     84\u001b[0m         image \u001b[39m=\u001b[39m image\u001b[39m.\u001b[39mconvert(base)\n\u001b[1;32m---> 86\u001b[0m \u001b[39mreturn\u001b[39;00m \u001b[39mself\u001b[39;49m\u001b[39m.\u001b[39;49mshow_image(image, \u001b[39m*\u001b[39;49m\u001b[39m*\u001b[39;49moptions)\n",
      "File \u001b[1;32m~\\AppData\\Local\\Packages\\PythonSoftwareFoundation.Python.3.11_qbz5n2kfra8p0\\LocalCache\\local-packages\\Python311\\site-packages\\PIL\\ImageShow.py:112\u001b[0m, in \u001b[0;36mViewer.show_image\u001b[1;34m(self, image, **options)\u001b[0m\n\u001b[0;32m    110\u001b[0m \u001b[39mdef\u001b[39;00m \u001b[39mshow_image\u001b[39m(\u001b[39mself\u001b[39m, image, \u001b[39m*\u001b[39m\u001b[39m*\u001b[39moptions):\n\u001b[0;32m    111\u001b[0m \u001b[39m    \u001b[39m\u001b[39m\"\"\"Display the given image.\"\"\"\u001b[39;00m\n\u001b[1;32m--> 112\u001b[0m     \u001b[39mreturn\u001b[39;00m \u001b[39mself\u001b[39;49m\u001b[39m.\u001b[39;49mshow_file(\u001b[39mself\u001b[39;49m\u001b[39m.\u001b[39;49msave_image(image), \u001b[39m*\u001b[39;49m\u001b[39m*\u001b[39;49moptions)\n",
      "File \u001b[1;32m~\\AppData\\Local\\Packages\\PythonSoftwareFoundation.Python.3.11_qbz5n2kfra8p0\\LocalCache\\local-packages\\Python311\\site-packages\\PIL\\ImageShow.py:129\u001b[0m, in \u001b[0;36mViewer.show_file\u001b[1;34m(self, path, **options)\u001b[0m\n\u001b[0;32m    127\u001b[0m         msg \u001b[39m=\u001b[39m \u001b[39m\"\u001b[39m\u001b[39mMissing required argument: \u001b[39m\u001b[39m'\u001b[39m\u001b[39mpath\u001b[39m\u001b[39m'\u001b[39m\u001b[39m\"\u001b[39m\n\u001b[0;32m    128\u001b[0m         \u001b[39mraise\u001b[39;00m \u001b[39mTypeError\u001b[39;00m(msg)\n\u001b[1;32m--> 129\u001b[0m os\u001b[39m.\u001b[39msystem(\u001b[39mself\u001b[39m\u001b[39m.\u001b[39mget_command(path, \u001b[39m*\u001b[39m\u001b[39m*\u001b[39moptions))  \u001b[39m# nosec\u001b[39;00m\n\u001b[0;32m    130\u001b[0m \u001b[39mreturn\u001b[39;00m \u001b[39m1\u001b[39m\n",
      "\u001b[1;31mKeyboardInterrupt\u001b[0m: "
     ]
    }
   ],
   "source": [
    "from utils.display import display_image_bbox\n",
    "from utils.metrics import xywh_2_xxyy\n",
    "import numpy as np\n",
    " \n",
    "for _, (batch, labels, classes) in enumerate(loader):\n",
    "    res = yolo(batch.to(device=device)).squeeze(0)\n",
    "\n",
    "    boxes = []\n",
    "    for i in range(res.shape[1]):\n",
    "        for j in range(res.shape[2]):\n",
    "            cell1 = res[:, i, j][:5]\n",
    "            cell2 = res[:, i, j][5:10]\n",
    "            boxes.append(cell1.detach().cpu().numpy())\n",
    "            boxes.append(cell2.detach().cpu().numpy())\n",
    "            \n",
    "\n",
    "    boxes = list(map(xywh_2_xxyy, boxes))\n",
    "\n",
    "    boxes = [np.maximum(.0, np.array(b)) * 100 for b in boxes]\n",
    "    boxes = [(min(b[0], b[2]), min(b[1], b[3]), b[2], b[3]) for b in boxes]\n",
    "    display_image_bbox(batch[0], boxes)"
   ]
  },
  {
   "cell_type": "code",
   "execution_count": 14,
   "metadata": {},
   "outputs": [
    {
     "data": {
      "text/plain": [
       "[(0.0, 0.0, 0.0, 0.0),\n",
       " (0.0, 0.0011984677985310555, 0.0, 0.016103041358292103),\n",
       " (0.0, 0.0013368073850870132, 0.0, 0.0013368073850870132),\n",
       " (0.0, 0.0, 0.0, 0.0005452549085021019),\n",
       " (0.0, 0.0003921561874449253, 0.0, 0.008811444509774446),\n",
       " (0.004697038501035422, 0.0, 0.005304809019435197, 0.0064894878305494785),\n",
       " (0.0, 0.0, 0.0, 0.0),\n",
       " (0.0, 0.0, 0.0, 0.0),\n",
       " (0.0, 0.0025238554226234555, 0.0, 0.0025238554226234555),\n",
       " (0.0, 0.00046626804396510124, 0.0, 0.00046626804396510124),\n",
       " (0.0, 0.0, 0.0, 0.0),\n",
       " (0.003984119510278106, 0.0, 0.003984119510278106, 0.0),\n",
       " (0.0, 0.009853772819042206, 0.0, 0.025569375604391098),\n",
       " (0.011115462519228458, 0.0, 0.014973520301282406, 0.0),\n",
       " (0.0, 0.009450451470911503, 0.0, 0.009450451470911503),\n",
       " (0.010699090780690312, 0.0, 0.010699090780690312, 0.0),\n",
       " (0.0, 0.0051350046414881945, 0.0, 0.0051350046414881945),\n",
       " (0.0, 0.0043311528861522675, 0.0, 0.020089993253350258),\n",
       " (0.0, 0.0, 0.0, 0.005611903732642531),\n",
       " (0.0, 0.009622039273381233, 0.0, 0.009622039273381233),\n",
       " (0.0, 0.003907802980393171, 0.0, 0.003907802980393171),\n",
       " (0.0, 0.0, 0.003470418509095907, 0.0),\n",
       " (0.001648138277232647, 0.0, 0.014444940723478794, 0.0),\n",
       " (0.0, 0.0, 0.0, 0.0),\n",
       " (0.0, 0.0, 0.0, 0.0),\n",
       " (0.0, 0.008878201246261597, 0.003562189871445298, 0.008878201246261597),\n",
       " (0.0, 0.011557247256860137, 0.0, 0.015014862874522805),\n",
       " (0.005301587050780654, 0.0, 0.01307018124498427, 0.0),\n",
       " (0.0, 0.004333395278081298, 0.0, 0.004333395278081298),\n",
       " (0.0, 0.0, 0.0, 0.006147363688796759),\n",
       " (0.0, 0.0, 0.0, 0.006912360433489084),\n",
       " (0.0, 0.0021604192443192005, 0.0, 0.0021604192443192005),\n",
       " (0.0016185772838070989, 0.0, 0.003428832977078855, 0.0),\n",
       " (0.0, 0.0, 0.0, 0.0),\n",
       " (0.0, 0.0043615736067295074, 0.0, 0.0043615736067295074),\n",
       " (0.0127290696837008,\n",
       "  0.004406984895467758,\n",
       "  0.02516446402296424,\n",
       "  0.004406984895467758),\n",
       " (0.0, 0.0, 0.0, 0.0),\n",
       " (0.004875596147030592,\n",
       "  0.006436006864532828,\n",
       "  0.011399789247661829,\n",
       "  0.006436006864532828),\n",
       " (0.011550410650670528, 0.0, 0.0197748439386487, 0.0),\n",
       " (0.00019126528059132397, 0.0, 0.0008708890236448497, 0.0),\n",
       " (0.0, 0.0, 0.0, 0.0),\n",
       " (0.0, 0.013693153043277562, 0.0, 0.016548058832995594),\n",
       " (0.017457068199291825, 0.0, 0.019994962727651, 0.0015728408470749855),\n",
       " (0.0008902236586436629,\n",
       "  0.007721468340605497,\n",
       "  0.0008902236586436629,\n",
       "  0.007721468340605497),\n",
       " (0.0, 0.0, 0.0, 0.0022765756584703922),\n",
       " (0.0, 0.0009794048964977264, 0.008487800601869822, 0.0009794048964977264),\n",
       " (0.00031492882408201694,\n",
       "  0.0017420158255845308,\n",
       "  0.004474611254408956,\n",
       "  0.0017420158255845308),\n",
       " (0.0, 0.0, 0.0, 0.0),\n",
       " (0.002442498691380024, 0.0, 0.002442498691380024, 0.0),\n",
       " (0.0, 0.0, 0.0, 0.011970949592068791),\n",
       " (0.0, 0.012076261918991804, 0.0, 0.01999630080536008),\n",
       " (0.0, 0.0, 0.0, 0.0),\n",
       " (0.0, 0.0, 0.0, 0.0),\n",
       " (0.0, 0.0, 0.008910045842640102, 0.0),\n",
       " (0.0, 0.0, 0.0, 0.007204907946288586),\n",
       " (0.0, 0.0, 0.006683018058538437, 0.0),\n",
       " (0.0, 0.0, 0.0, 0.0),\n",
       " (0.0, 0.0066345506347715855, 0.0, 0.0066345506347715855),\n",
       " (0.007038520649075508,\n",
       "  0.004140530480071902,\n",
       "  0.007038520649075508,\n",
       "  0.010563775198534131),\n",
       " (0.0, 0.0, 0.0, 0.009817115496844053),\n",
       " (0.0, 0.0, 0.0, 0.001815232215449214),\n",
       " (0.00798769760876894, 0.0, 0.0199195658788085, 0.0),\n",
       " (0.004498499911278486,\n",
       "  0.0010148845613002777,\n",
       "  0.007216271478682756,\n",
       "  0.018824366852641106),\n",
       " (0.0027947495691478252,\n",
       "  0.0021392954513430595,\n",
       "  0.0027947495691478252,\n",
       "  0.019456720910966396),\n",
       " (0.0, 0.0, 0.008024805691093206, 0.0),\n",
       " (0.0, 0.0, 0.0, 0.0),\n",
       " (0.0, 0.0, 0.0, 0.0),\n",
       " (0.011637199902907014, 0.0, 0.017855880549177527, 0.0),\n",
       " (0.0, 0.0, 0.0, 0.0),\n",
       " (0.0, 0.0, 0.009200448403134942, 0.0),\n",
       " (0.005183275177842006,\n",
       "  0.004499340895563364,\n",
       "  0.005981822178000584,\n",
       "  0.004499340895563364),\n",
       " (0.008677939185872674,\n",
       "  0.009254487231373787,\n",
       "  0.008677939185872674,\n",
       "  0.014666005969047546),\n",
       " (0.0, 0.0, 0.0, 0.0),\n",
       " (0.0, 0.0, 0.0, 0.0),\n",
       " (0.0034313593059778214, 0.0, 0.007702413946390152, 0.0),\n",
       " (0.0, 0.0, 0.00037480704486370087, 0.0),\n",
       " (0.0, 0.002048003487288952, 0.0, 0.002048003487288952),\n",
       " (0.0, 0.006276589119806886, 0.00897284410893917, 0.009929930558428168),\n",
       " (0.01025236165151, 0.0, 0.01025236165151, 0.0),\n",
       " (0.0, 0.0, 0.0, 0.0),\n",
       " (0.0, 0.0, 0.0, 0.0),\n",
       " (0.0036422694101929665, 0.0, 0.013225582428276539, 0.0),\n",
       " (0.0, 0.006526396609842777, 0.0, 0.006526396609842777),\n",
       " (0.007881354540586472, 0.0, 0.007881354540586472, 0.006096843630075455),\n",
       " (0.0, 0.0007713624509051442, 0.0, 0.0007713624509051442),\n",
       " (0.004159505711868405,\n",
       "  0.0007057646289467812,\n",
       "  0.004159505711868405,\n",
       "  0.012786504812538624),\n",
       " (0.0, 0.0018701739609241486, 0.0, 0.0018701739609241486),\n",
       " (0.0, 0.0035514961928129196, 0.008224972058087587, 0.01371680572628975),\n",
       " (0.0, 0.01022403803654015, 0.0, 0.017007727874442935),\n",
       " (0.0, 0.00794529914855957, 0.0, 0.00794529914855957),\n",
       " (0.0, 0.0, 0.0, 0.0),\n",
       " (0.0, 0.0052824439480900764, 0.0005946611054241657, 0.0052824439480900764),\n",
       " (0.012925062561407685, 0.0, 0.012925062561407685, 0.005188609007745981),\n",
       " (0.014419289218494669,\n",
       "  0.011291184928268194,\n",
       "  0.014419289218494669,\n",
       "  0.013181196991354227),\n",
       " (0.008763336343690753, 0.0, 0.008763336343690753, 0.0027178553864359856),\n",
       " (0.0, 0.0, 0.0, 0.0),\n",
       " (0.0, 0.011302028084173799, 0.0, 0.017906889086589217),\n",
       " (0.008446482941508293, 0.0, 0.008446482941508293, 0.0)]"
      ]
     },
     "execution_count": 14,
     "metadata": {},
     "output_type": "execute_result"
    }
   ],
   "source": [
    "boxes"
   ]
  },
  {
   "cell_type": "code",
   "execution_count": null,
   "metadata": {},
   "outputs": [],
   "source": []
  }
 ],
 "metadata": {
  "kernelspec": {
   "display_name": "Python 3",
   "language": "python",
   "name": "python3"
  },
  "language_info": {
   "codemirror_mode": {
    "name": "ipython",
    "version": 3
   },
   "file_extension": ".py",
   "mimetype": "text/x-python",
   "name": "python",
   "nbconvert_exporter": "python",
   "pygments_lexer": "ipython3",
   "version": "3.11.3"
  },
  "orig_nbformat": 4
 },
 "nbformat": 4,
 "nbformat_minor": 2
}
