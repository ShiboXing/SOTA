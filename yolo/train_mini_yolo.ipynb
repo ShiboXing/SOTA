{
 "cells": [
  {
   "cell_type": "code",
   "execution_count": null,
   "metadata": {},
   "outputs": [],
   "source": [
    "import pandas as pd\n",
    "import torch\n",
    "from torch import nn\n",
    "from ipdb import set_trace\n",
    "import torchvision as tv\n",
    "import matplotlib.pyplot as plt\n",
    "from torch.utils.data import DataLoader as DL\n",
    "from utils.OID_Dataset import OID_Dataset as DS"
   ]
  },
  {
   "cell_type": "markdown",
   "metadata": {},
   "source": [
    "### load data"
   ]
  },
  {
   "cell_type": "code",
   "execution_count": null,
   "metadata": {},
   "outputs": [],
   "source": [
    "__ds_root__ = \"../google_oid_v6\"\n",
    "__train_f__ = \"oidv6-train-annotations-bbox.csv\"\n",
    "__test_f__ = \"../google_oid_v6/ANNOT/test-annotations-bbox.csv\"\n",
    "__val_f__ = \"../google_oid_v6/ANNOT/validation-annotations-bbox.csv\"\n",
    "\n",
    "ind = 0\n",
    "\n",
    "classes = set((\"Person\", \"Car\", \"Mobile phone\"))\n",
    "labels = pd.read_csv(f\"{__ds_root__}/ANNOT/class-descriptions-boxable.csv\")\n",
    "label_ids = set(labels[labels.iloc[:, 1].isin(classes)].iloc[:, 0])"
   ]
  },
  {
   "cell_type": "code",
   "execution_count": null,
   "metadata": {},
   "outputs": [],
   "source": [
    "# use custom collate, variable # of boxes in each image\n",
    "def var_collate(batch):\n",
    "    data = [item[0] for item in batch]\n",
    "    target = [item[1] for item in batch]\n",
    "\n",
    "    return torch.stack(data, dim=0), target\n",
    "\n",
    "\n",
    "oid_ds = DS(__ds_root__, __train_f__, label_ids)\n",
    "train_load = DL(\n",
    "    dataset=oid_ds, batch_size=4, shuffle=True, num_workers=4, collate_fn=var_collate\n",
    ")"
   ]
  },
  {
   "cell_type": "code",
   "execution_count": null,
   "metadata": {},
   "outputs": [],
   "source": [
    "class VGG(nn.Module):\n",
    "    def __init__(self, c=64):\n",
    "        super(VGG, self).__init__()\n",
    "\n",
    "        self.conv1 = nn.Sequential(\n",
    "            nn.Conv2d(3, c, 3, stride=1, padding=1),\n",
    "            nn.ReLU(),\n",
    "            nn.Conv2d(c, c, 3, stride=1, padding=1),\n",
    "            nn.ReLU(),\n",
    "            nn.MaxPool2d(2, stride=2, padding=0),\n",
    "        )\n",
    "\n",
    "        self.conv2 = nn.Sequential(\n",
    "            nn.Conv2d(c, c * 2, 3, stride=1, padding=1),\n",
    "            nn.ReLU(),\n",
    "            nn.Conv2d(c * 2, c * 2, 3, stride=1, padding=1),\n",
    "            nn.ReLU(),\n",
    "            nn.MaxPool2d(2, stride=2, padding=0),\n",
    "        )\n",
    "\n",
    "        self.conv3 = nn.Sequential(\n",
    "            nn.Conv2d(c * 2, c * 4, 3, stride=1, padding=1),\n",
    "            nn.ReLU(),\n",
    "            nn.Conv2d(c * 4, c * 4, 3, stride=1, padding=1),\n",
    "            nn.ReLU(),\n",
    "            nn.Conv2d(c * 4, c * 4, 3, stride=1, padding=1),\n",
    "            nn.ReLU(),\n",
    "            nn.MaxPool2d(2, stride=2, padding=0),\n",
    "        )\n",
    "\n",
    "        self.conv4 = nn.Sequential(\n",
    "            nn.Conv2d(c * 4, c * 8, 3, stride=1, padding=1),\n",
    "            nn.ReLU(),\n",
    "            nn.Conv2d(c * 8, c * 8, 3, stride=1, padding=1),\n",
    "            nn.ReLU(),\n",
    "            nn.Conv2d(c * 8, c * 8, 3, stride=1, padding=1),\n",
    "            nn.ReLU(),\n",
    "            nn.MaxPool2d(2, stride=2, padding=0),\n",
    "        )\n",
    "\n",
    "        self.conv5 = nn.Sequential(\n",
    "            nn.Conv2d(c * 8, c * 8, 3, stride=1, padding=1),\n",
    "            nn.ReLU(),\n",
    "            nn.Conv2d(c * 8, c * 8, 3, stride=1, padding=1),\n",
    "            nn.ReLU(),\n",
    "            nn.Conv2d(c * 8, c * 8, 3, stride=1, padding=1),\n",
    "            nn.ReLU(),\n",
    "            nn.MaxPool2d(2, stride=2, padding=0),\n",
    "        )\n",
    "\n",
    "        self.conn = nn.Sequential(\n",
    "            nn.Linear(7 * 7 * 512, 4096),\n",
    "            nn.LeakyReLU(negative_slope=0.1),\n",
    "            nn.Dropout(),\n",
    "            nn.Linear(4096, 1470),\n",
    "        )\n",
    "\n",
    "    def forward(self, img):\n",
    "        # conv layers\n",
    "        h = self.conv1(img)\n",
    "        h = self.conv2(h)\n",
    "        h = self.conv3(h)\n",
    "        h = self.conv4(h)\n",
    "        h = self.conv5(h)\n",
    "        # output through FC\n",
    "        h = h.reshape(h.shape[0], -1)\n",
    "        h = self.conn(h)\n",
    "        h = h.reshape(h.shape[0], 30, 7, 7)\n",
    "\n",
    "        return h\n",
    "\n",
    "\n",
    "class RPN(nn.Module):\n",
    "    def __init__(self, c=512, ratio=[1.0, 2.0, 0.5]):\n",
    "        super(RPN, self).__init__()\n",
    "\n",
    "    #         self.feat = nn.Conv2d(c, c/2, 3, stride=1, padding=1)\n",
    "    #         self.objness = nn.Conv2d()\n",
    "    def forward(self, feat):\n",
    "        pass"
   ]
  },
  {
   "cell_type": "code",
   "execution_count": null,
   "metadata": {},
   "outputs": [],
   "source": [
    "conv_net = VGG().cuda(ind)\n",
    "yolo_net = YOLO_FC().cuda(ind)\n",
    "\n",
    "for img, y in train_load:\n",
    "    img = img.cuda(ind)\n",
    "    feat = conv_net(img)\n",
    "    set_trace()"
   ]
  },
  {
   "cell_type": "code",
   "execution_count": null,
   "metadata": {},
   "outputs": [],
   "source": [
    "%debug"
   ]
  },
  {
   "cell_type": "code",
   "execution_count": null,
   "metadata": {},
   "outputs": [],
   "source": []
  },
  {
   "cell_type": "code",
   "execution_count": null,
   "metadata": {},
   "outputs": [],
   "source": []
  }
 ],
 "metadata": {
  "kernelspec": {
   "display_name": "Python 3",
   "language": "python",
   "name": "python3"
  },
  "language_info": {
   "codemirror_mode": {
    "name": "ipython",
    "version": 3
   },
   "file_extension": ".py",
   "mimetype": "text/x-python",
   "name": "python",
   "nbconvert_exporter": "python",
   "pygments_lexer": "ipython3",
   "version": "3.7.6"
  },
  "varInspector": {
   "cols": {
    "lenName": 16,
    "lenType": 16,
    "lenVar": 40
   },
   "kernels_config": {
    "python": {
     "delete_cmd_postfix": "",
     "delete_cmd_prefix": "del ",
     "library": "var_list.py",
     "varRefreshCmd": "print(var_dic_list())"
    },
    "r": {
     "delete_cmd_postfix": ") ",
     "delete_cmd_prefix": "rm(",
     "library": "var_list.r",
     "varRefreshCmd": "cat(var_dic_list()) "
    }
   },
   "types_to_exclude": [
    "module",
    "function",
    "builtin_function_or_method",
    "instance",
    "_Feature"
   ],
   "window_display": false
  }
 },
 "nbformat": 4,
 "nbformat_minor": 4
}
