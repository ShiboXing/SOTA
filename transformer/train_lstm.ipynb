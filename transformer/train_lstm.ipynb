{
 "cells": [
  {
   "cell_type": "code",
   "execution_count": null,
   "metadata": {},
   "outputs": [],
   "source": [
    "import sys\n",
    "\n",
    "sys.path.append(\"..\")\n",
    "from common_utils import set_data_home\n",
    "\n",
    "set_data_home(\"/mnt/d\")\n",
    "from common_utils import DATA_HOME, join\n",
    "from lstm.sales_data import Sales_Dataset\n",
    "from torch.utils.data.dataloader import DataLoader\n",
    "import torch"
   ]
  },
  {
   "cell_type": "code",
   "execution_count": null,
   "metadata": {},
   "outputs": [],
   "source": [
    "SALE_HOME = join(DATA_HOME, \"sales_data\")\n",
    "MODEL_PTH = join(join(DATA_HOME, \"sale_model\"), \"sale_model_transformer.pth\")\n",
    "\n",
    "sd = Sales_Dataset(SALE_HOME)\n",
    "test_set, train_set = torch.utils.data.random_split(sd, [0.2, 0.8])\n",
    "train_dl = DataLoader(train_set, shuffle=True, batch_size=1)\n",
    "test_dl = DataLoader(test_set, shuffle=True, batch_size=1)\n",
    "len(train_dl), len(test_dl)\n",
    "\n",
    "# print(sd.O.describe())\n",
    "# print(sd.TR.describe())\n",
    "# print(sd.TS.describe())\n",
    "# print(sd.S.describe())\n",
    "# print(sd[4][0].shape)\n",
    "# print(sd[4][1].shape)\n",
    "# print(sd[4][0], sd[4][1])"
   ]
  },
  {
   "cell_type": "code",
   "execution_count": null,
   "metadata": {},
   "outputs": [],
   "source": [
    "from torch.nn import Transformer\n",
    "from torch.nn import MSELoss\n",
    "from torch import optim\n",
    "import matplotlib.pyplot as plt\n",
    "\n",
    "I, H = 72, 33\n",
    "epochs = 100\n",
    "\n",
    "model = Transformer(nhead=8, d_model=72).cuda()\n",
    "mse_loss = MSELoss()\n",
    "\n",
    "\n",
    "# param yhat, y: 3d tensors\n",
    "def loss(yhat, y):\n",
    "    real_yhat, real_y = yhat[:, :, H], y[:, :, H]\n",
    "    return mse_loss(yhat, y)\n",
    "\n",
    "\n",
    "adam = optim.Adam(model.parameters(), lr=0.001)\n",
    "tr_losses, inf_losses = [], []\n",
    "\n",
    "for _ in range(epochs):\n",
    "    tr_l, inf_l = 0, 0\n",
    "    for X, y in train_dl:\n",
    "        # reformat the src, tgt to suffice the transformer's model dimension (hack)\n",
    "        format_X = torch.randn((1, X.shape[1], I))\n",
    "        format_X[:, :, : X.shape[-1]] = X\n",
    "        format_y = torch.randn((1, y.shape[1], I))\n",
    "        format_y[:, :, : y.shape[-1]] = y\n",
    "\n",
    "        # forward\n",
    "        format_X, format_y = format_X.cuda(), format_y.cuda()\n",
    "        yhat = model(format_X, format_y)\n",
    "        l = loss(yhat, format_y)\n",
    "        # backward\n",
    "        adam.zero_grad()\n",
    "        l.backward()\n",
    "        adam.step()\n",
    "        tr_l += l.item()\n",
    "\n",
    "    for X, y in test_dl:\n",
    "        # reformat the src, tgt to suffice the transformer's model dimension (hack)\n",
    "        format_X = torch.randn((1, X.shape[1], I))\n",
    "        format_X[:, :, : X.shape[-1]] = X\n",
    "        format_y = torch.randn((1, y.shape[1], I))\n",
    "        format_y[:, :, : y.shape[-1]] = y\n",
    "\n",
    "        format_X, format_y = format_X.cuda(), format_y.cuda()\n",
    "        yhat = model(format_X, format_y)\n",
    "        l = loss(yhat, format_y)\n",
    "        inf_l += l.item()\n",
    "\n",
    "    tr_losses.append(tr_l / len(train_dl))\n",
    "    inf_losses.append(inf_l / len(test_dl))"
   ]
  },
  {
   "cell_type": "markdown",
   "metadata": {},
   "source": [
    "### display losses"
   ]
  },
  {
   "cell_type": "code",
   "execution_count": null,
   "metadata": {},
   "outputs": [],
   "source": [
    "plt.plot(range(len(tr_losses)), tr_losses, label=\"train loss\")\n",
    "plt.plot(range(epochs), inf_losses, label=\"test loss\")\n",
    "plt.legend()\n",
    "plt.show()"
   ]
  },
  {
   "cell_type": "markdown",
   "metadata": {},
   "source": [
    "### save the model"
   ]
  },
  {
   "cell_type": "code",
   "execution_count": null,
   "metadata": {},
   "outputs": [],
   "source": [
    "torch.save(model.state_dict(), MODEL_PTH)"
   ]
  },
  {
   "cell_type": "code",
   "execution_count": null,
   "metadata": {},
   "outputs": [],
   "source": []
  }
 ],
 "metadata": {
  "kernelspec": {
   "display_name": "Python 3",
   "language": "python",
   "name": "python3"
  },
  "language_info": {
   "codemirror_mode": {
    "name": "ipython",
    "version": 3
   },
   "file_extension": ".py",
   "mimetype": "text/x-python",
   "name": "python",
   "nbconvert_exporter": "python",
   "pygments_lexer": "ipython3",
   "version": "3.11.5"
  }
 },
 "nbformat": 4,
 "nbformat_minor": 2
}
