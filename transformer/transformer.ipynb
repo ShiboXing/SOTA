{
 "cells": [
  {
   "cell_type": "code",
   "execution_count": 1,
   "metadata": {},
   "outputs": [],
   "source": [
    "from torch import nn\n",
    "from attention import MultiHeadAttention, PositionalEncoding, DotProductAttention\n",
    "from transformer import AddNorm, TransformerEncoderBlock, TransformerEncoder, PositionWiseFFN, TransformerDecoderBlock, TransformerDecoder\n",
    "import torch\n"
   ]
  },
  {
   "cell_type": "code",
   "execution_count": 2,
   "metadata": {},
   "outputs": [
    {
     "name": "stdout",
     "output_type": "stream",
     "text": [
      "layer norm: tensor([[-1.0000,  1.0000],\n",
      "        [-1.0000,  1.0000]], grad_fn=<NativeLayerNormBackward0>) \n",
      "batch norm: tensor([[-1.0000, -1.0000],\n",
      "        [ 1.0000,  1.0000]], grad_fn=<NativeBatchNormBackward0>)\n",
      "torch.Size([2, 3, 4])\n",
      "torch.Size([2, 100, 24])\n",
      "torch.Size([2, 100, 24])\n"
     ]
    },
    {
     "name": "stderr",
     "output_type": "stream",
     "text": [
      "/usr/local/lib/python3.11/dist-packages/torch/nn/modules/lazy.py:180: UserWarning: Lazy modules are a new feature under heavy development so changes to the API or functionality can happen at any moment.\n",
      "  warnings.warn('Lazy modules are a new feature under heavy development '\n"
     ]
    }
   ],
   "source": [
    "ln = nn.LayerNorm(2)\n",
    "bn = nn.LazyBatchNorm1d()\n",
    "X = torch.tensor([[1, 2], [2, 3]], dtype=torch.float32)\n",
    "# Compute mean and variance from X in the training mode\n",
    "print('layer norm:', ln(X), '\\nbatch norm:', bn(X))\n",
    "\n",
    "add_norm = AddNorm(4, 0.5)\n",
    "shape = (2, 3, 4)\n",
    "print(add_norm(torch.ones(shape), torch.ones(shape)).shape)\n",
    "\n",
    "# encoder block\n",
    "X = torch.ones((2, 100, 24))\n",
    "valid_lens = torch.tensor([3, 2])\n",
    "encoder_blk = TransformerEncoderBlock(24, 48, 8, 0.5)\n",
    "encoder_blk.eval()\n",
    "print(encoder_blk(X, valid_lens).shape)\n",
    "\n",
    "# full encoder \n",
    "encoder = TransformerEncoder(200, 24, 48, 8, 2, 0.5)\n",
    "print(encoder(torch.ones((2, 100), dtype=torch.long), valid_lens).shape)"
   ]
  },
  {
   "cell_type": "code",
   "execution_count": 10,
   "metadata": {},
   "outputs": [
    {
     "name": "stderr",
     "output_type": "stream",
     "text": [
      "/usr/local/lib/python3.11/dist-packages/torch/nn/modules/lazy.py:180: UserWarning: Lazy modules are a new feature under heavy development so changes to the API or functionality can happen at any moment.\n",
      "  warnings.warn('Lazy modules are a new feature under heavy development '\n"
     ]
    },
    {
     "name": "stdout",
     "output_type": "stream",
     "text": [
      "torch.Size([2, 100, 24]) torch.Size([2, 100, 24])\n"
     ]
    }
   ],
   "source": [
    "decoder_blk = TransformerDecoderBlock(24, 48, 8, 0.5, 0)\n",
    "X = torch.ones((2, 100, 24))\n",
    "state = [encoder_blk(X, valid_lens), valid_lens, [None]]\n",
    "print(decoder_blk(X, state)[0].shape, state[0].shape)\n"
   ]
  }
 ],
 "metadata": {
  "kernelspec": {
   "display_name": "Python 3",
   "language": "python",
   "name": "python3"
  },
  "language_info": {
   "codemirror_mode": {
    "name": "ipython",
    "version": 3
   },
   "file_extension": ".py",
   "mimetype": "text/x-python",
   "name": "python",
   "nbconvert_exporter": "python",
   "pygments_lexer": "ipython3",
   "version": "3.11.5"
  }
 },
 "nbformat": 4,
 "nbformat_minor": 2
}
