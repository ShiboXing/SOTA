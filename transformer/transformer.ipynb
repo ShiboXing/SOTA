{
 "cells": [
  {
   "cell_type": "code",
   "execution_count": 3,
   "metadata": {},
   "outputs": [],
   "source": [
    "from torch import nn\n",
    "from attention import MultiHeadAttention, PositionalEncoding, DotProductAttention\n",
    "from transformer import AddNorm, TransformerEncoderBlock, TransformerEncoder, PositionWiseFFN, TransformerDecoderBlock, TransformerDecoder\n",
    "import torch\n",
    "import sys\n",
    "sys.path.append(\"~/d2l/pytorch\")\n",
    "# import d2l\n"
   ]
  },
  {
   "cell_type": "code",
   "execution_count": 4,
   "metadata": {},
   "outputs": [
    {
     "ename": "ModuleNotFoundError",
     "evalue": "No module named 'd2l'",
     "output_type": "error",
     "traceback": [
      "\u001b[0;31m---------------------------------------------------------------------------\u001b[0m",
      "\u001b[0;31mModuleNotFoundError\u001b[0m                       Traceback (most recent call last)",
      "\u001b[1;32m/home/shx26/SOTA/transformer/transformer.ipynb Cell 2\u001b[0m line \u001b[0;36m1\n\u001b[0;32m----> <a href='vscode-notebook-cell://wsl%2Bubuntu-20.04/home/shx26/SOTA/transformer/transformer.ipynb#W1sdnNjb2RlLXJlbW90ZQ%3D%3D?line=0'>1</a>\u001b[0m \u001b[39mimport\u001b[39;00m \u001b[39md2l\u001b[39;00m\n\u001b[1;32m      <a href='vscode-notebook-cell://wsl%2Bubuntu-20.04/home/shx26/SOTA/transformer/transformer.ipynb#W1sdnNjb2RlLXJlbW90ZQ%3D%3D?line=2'>3</a>\u001b[0m ln \u001b[39m=\u001b[39m nn\u001b[39m.\u001b[39mLayerNorm(\u001b[39m2\u001b[39m)\n\u001b[1;32m      <a href='vscode-notebook-cell://wsl%2Bubuntu-20.04/home/shx26/SOTA/transformer/transformer.ipynb#W1sdnNjb2RlLXJlbW90ZQ%3D%3D?line=3'>4</a>\u001b[0m bn \u001b[39m=\u001b[39m nn\u001b[39m.\u001b[39mLazyBatchNorm1d()\n",
      "\u001b[0;31mModuleNotFoundError\u001b[0m: No module named 'd2l'"
     ]
    }
   ],
   "source": [
    "ln = nn.LayerNorm(2)\n",
    "bn = nn.LazyBatchNorm1d()\n",
    "X = torch.tensor([[1, 2], [2, 3]], dtype=torch.float32)\n",
    "# Compute mean and variance from X in the training mode\n",
    "print('layer norm:', ln(X), '\\nbatch norm:', bn(X))\n",
    "\n",
    "add_norm = AddNorm(4, 0.5)\n",
    "shape = (2, 3, 4)\n",
    "print(add_norm(torch.ones(shape), torch.ones(shape)).shape)\n",
    "\n",
    "# encoder block\n",
    "X = torch.ones((2, 100, 24))\n",
    "valid_lens = torch.tensor([3, 2])\n",
    "encoder_blk = TransformerEncoderBlock(24, 48, 8, 0.5)\n",
    "encoder_blk.eval()\n",
    "print(encoder_blk(X, valid_lens).shape)\n",
    "\n",
    "# full encoder \n",
    "encoder = TransformerEncoder(200, 24, 48, 8, 2, 0.5)\n",
    "print(encoder(torch.ones((2, 100), dtype=torch.long), valid_lens).shape)"
   ]
  },
  {
   "cell_type": "code",
   "execution_count": null,
   "metadata": {},
   "outputs": [
    {
     "name": "stdout",
     "output_type": "stream",
     "text": [
      "torch.Size([2, 100, 24]) torch.Size([2, 100, 24])\n"
     ]
    }
   ],
   "source": [
    "decoder_blk = TransformerDecoderBlock(24, 48, 8, 0.5, 0)\n",
    "X = torch.ones((2, 100, 24))\n",
    "state = [encoder_blk(X, valid_lens), valid_lens, [None]]\n",
    "print(decoder_blk(X, state)[0].shape, state[0].shape)\n"
   ]
  },
  {
   "cell_type": "code",
   "execution_count": null,
   "metadata": {},
   "outputs": [],
   "source": [
    "class TransformerDecoder(d2l.AttentionDecoder):\n",
    "    def __init__(self, vocab_size, num_hiddens, ffn_num_hiddens, num_heads,\n",
    "                 num_blks, dropout):\n",
    "        super().__init__()\n",
    "        self.num_hiddens = num_hiddens\n",
    "        self.num_blks = num_blks\n",
    "        self.embedding = nn.Embedding(vocab_size, num_hiddens)\n",
    "        self.pos_encoding = d2l.PositionalEncoding(num_hiddens, dropout)\n",
    "        self.blks = nn.Sequential()\n",
    "        for i in range(num_blks):\n",
    "            self.blks.add_module(\"block\"+str(i), TransformerDecoderBlock(\n",
    "                num_hiddens, ffn_num_hiddens, num_heads, dropout, i))\n",
    "        self.dense = nn.LazyLinear(vocab_size)\n",
    "\n",
    "    def init_state(self, enc_outputs, enc_valid_lens):\n",
    "        return [enc_outputs, enc_valid_lens, [None] * self.num_blks]\n",
    "\n",
    "    def forward(self, X, state):\n",
    "        X = self.pos_encoding(self.embedding(X) * math.sqrt(self.num_hiddens))\n",
    "        self._attention_weights = [[None] * len(self.blks) for _ in range (2)]\n",
    "        for i, blk in enumerate(self.blks):\n",
    "            X, state = blk(X, state)\n",
    "            # Decoder self-attention weights\n",
    "            self._attention_weights[0][\n",
    "                i] = blk.attention1.attention.attention_weights\n",
    "            # Encoder-decoder attention weights\n",
    "            self._attention_weights[1][\n",
    "                i] = blk.attention2.attention.attention_weights\n",
    "        return self.dense(X), state\n",
    "\n",
    "    @property\n",
    "    def attention_weights(self):\n",
    "        return self._attention_weights"
   ]
  },
  {
   "cell_type": "code",
   "execution_count": null,
   "metadata": {},
   "outputs": [],
   "source": [
    "data = d2l.MTFraEng(batch_size=128)\n",
    "num_hiddens, num_blks, dropout = 256, 2, 0.2\n",
    "ffn_num_hiddens, num_heads = 64, 4\n",
    "encoder = TransformerEncoder(\n",
    "    len(data.src_vocab), num_hiddens, ffn_num_hiddens, num_heads,\n",
    "    num_blks, dropout)\n",
    "decoder = TransformerDecoder(\n",
    "    len(data.tgt_vocab), num_hiddens, ffn_num_hiddens, num_heads,\n",
    "    num_blks, dropout)\n",
    "model = d2l.Seq2Seq(encoder, decoder, tgt_pad=data.tgt_vocab['<pad>'],\n",
    "                    lr=0.001)\n",
    "trainer = d2l.Trainer(max_epochs=30, gradient_clip_val=1, num_gpus=1)\n",
    "trainer.fit(model, data)"
   ]
  }
 ],
 "metadata": {
  "kernelspec": {
   "display_name": "Python 3",
   "language": "python",
   "name": "python3"
  },
  "language_info": {
   "codemirror_mode": {
    "name": "ipython",
    "version": 3
   },
   "file_extension": ".py",
   "mimetype": "text/x-python",
   "name": "python",
   "nbconvert_exporter": "python",
   "pygments_lexer": "ipython3",
   "version": "3.11.5"
  }
 },
 "nbformat": 4,
 "nbformat_minor": 2
}
