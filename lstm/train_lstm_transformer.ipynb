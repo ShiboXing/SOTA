{
 "cells": [
  {
   "cell_type": "code",
   "execution_count": null,
   "metadata": {},
   "outputs": [],
   "source": [
    "import sys, os\n",
    "import random\n",
    "\n",
    "sys.path.append(\"..\")\n",
    "from common_utils import DATA_HOME\n",
    "import torch\n",
    "import numpy as np\n",
    "\n",
    "seed = 42\n",
    "\n",
    "g = torch.Generator()\n",
    "g.manual_seed(seed)\n",
    "np.random.seed(seed)\n",
    "torch.manual_seed(seed)\n",
    "random.seed(seed)\n",
    "\n",
    "from lstm.sales_data import Sales_Dataset\n",
    "from torch.utils.data.dataloader import DataLoader"
   ]
  },
  {
   "cell_type": "code",
   "execution_count": null,
   "metadata": {},
   "outputs": [],
   "source": [
    "SALE_HOME = os.path.join(DATA_HOME, \"sales_data\")\n",
    "\n",
    "I, H, B = 71, 34, 10\n",
    "HEAD = 6\n",
    "SEQ_LEN = 716\n",
    "\n",
    "sd = Sales_Dataset(SALE_HOME, seq_len=SEQ_LEN)\n",
    "test_set, train_set = torch.utils.data.random_split(sd, [0.1, 0.9])\n",
    "train_dl = DataLoader(train_set, shuffle=True, batch_size=B, generator=g)\n",
    "test_dl = DataLoader(test_set, shuffle=True, batch_size=B, generator=g)\n",
    "len(train_dl), len(test_dl)"
   ]
  },
  {
   "cell_type": "code",
   "execution_count": null,
   "metadata": {},
   "outputs": [],
   "source": [
    "print(len(train_dl), len(test_dl))\n",
    "# print(sd.O.describe())\n",
    "# print(sd.TS.describe())\n",
    "# print(sd.S.describe())\n",
    "print(sd[0][0].shape, sd[4][0].shape)\n",
    "# print(sd[4][1].shape)\n",
    "# print(sd[4][0], sd[4][1])"
   ]
  },
  {
   "cell_type": "markdown",
   "metadata": {},
   "source": [
    "### PyTorch Model training"
   ]
  },
  {
   "cell_type": "code",
   "execution_count": null,
   "metadata": {},
   "outputs": [],
   "source": [
    "from torch.nn import LSTM\n",
    "from torch.nn import MSELoss\n",
    "from torch import optim\n",
    "import matplotlib.pyplot as plt\n",
    "from IPython.display import clear_output\n",
    "\n",
    "model = LSTM(I, H, batch_first=True).cuda()\n",
    "\n",
    "saved_iter = 500\n",
    "resume_from = f\"sales_model_{saved_iter}_bs{B}.pth\"\n",
    "if os.path.exists(resume_from):\n",
    "    model.load_state_dict(torch.load(resume_from))\n",
    "    train_gen = enumerate(train_dl, saved_iter)\n",
    "else:\n",
    "    train_gen = enumerate(train_dl)\n",
    "test_gen = enumerate(test_dl)\n",
    "\n",
    "loss = MSELoss()\n",
    "adam = optim.Adam(model.parameters(), lr=0.001)\n",
    "tr_losses, inf_losses = [], []\n",
    "\n",
    "\n",
    "fig = plt.figure(figsize=(5, 5))\n",
    "for tr_idx, (X, y) in train_gen:\n",
    "    X = X.cuda()\n",
    "    y = y.cuda()\n",
    "\n",
    "    # Train\n",
    "    tr_l, inf_l = 0, 0\n",
    "    yhat, (_, _) = model(X)\n",
    "    l = loss(yhat[:, -16:], y)\n",
    "    # update parameters\n",
    "    adam.zero_grad()\n",
    "    l.backward()\n",
    "    adam.step()\n",
    "    tr_l += l.item()\n",
    "\n",
    "    # Validate\n",
    "    try:\n",
    "        inf_idx, (X, y) = next(test_gen)\n",
    "    except StopIteration:  # re-initialize test set if exhausted\n",
    "        test_gen = enumerate(test_dl)\n",
    "        inf_idx, (X, y) = next(test_gen)\n",
    "\n",
    "    X = X.cuda()\n",
    "    y = y.cuda()\n",
    "    yhat, (_, _) = model(X)\n",
    "    l = loss(yhat[:, -16:], y)\n",
    "    inf_l += l.item()\n",
    "    tr_losses.append(tr_l / len(train_dl))\n",
    "    inf_losses.append(inf_l / len(test_dl))\n",
    "\n",
    "    # Log and save\n",
    "    if tr_idx and tr_idx % 500 == 0:\n",
    "        clear_output(wait=True)\n",
    "        plt.plot(tr_losses, label=\"train loss\")\n",
    "        plt.plot(inf_losses, label=\"inf loss\")\n",
    "        plt.legend()\n",
    "        plt.show()\n",
    "\n",
    "        print(\n",
    "            f\"iteration: {tr_idx} train loss: {tr_l / len(train_dl)} inf loss: {inf_l / len(test_dl)}\"\n",
    "        )\n",
    "        torch.save(model.state_dict(), f\"sales_model_{tr_idx}_{B}.pth\")"
   ]
  },
  {
   "cell_type": "markdown",
   "metadata": {},
   "source": [
    "### display losses"
   ]
  },
  {
   "cell_type": "code",
   "execution_count": null,
   "metadata": {},
   "outputs": [],
   "source": [
    "plt.plot(range(len(tr_losses)), tr_losses, label=\"train loss\")\n",
    "plt.plot(range(len(inf_losses)), inf_losses, label=\"test loss\")\n",
    "plt.legend()\n",
    "plt.show()"
   ]
  },
  {
   "cell_type": "code",
   "execution_count": null,
   "metadata": {},
   "outputs": [],
   "source": []
  }
 ],
 "metadata": {
  "kernelspec": {
   "display_name": "Python 3",
   "language": "python",
   "name": "python3"
  },
  "language_info": {
   "codemirror_mode": {
    "name": "ipython",
    "version": 3
   },
   "file_extension": ".py",
   "mimetype": "text/x-python",
   "name": "python",
   "nbconvert_exporter": "python",
   "pygments_lexer": "ipython3",
   "version": "3.12.4"
  }
 },
 "nbformat": 4,
 "nbformat_minor": 2
}
