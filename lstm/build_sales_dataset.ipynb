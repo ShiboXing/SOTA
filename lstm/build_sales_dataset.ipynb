{
 "cells": [
  {
   "cell_type": "code",
   "execution_count": null,
   "metadata": {},
   "outputs": [],
   "source": [
    "import sys\n",
    "import os\n",
    "\n",
    "sys.path.append(\"..\")\n",
    "from common_utils import kaggle_download, decompress_file, DATA_HOME\n",
    "\n",
    "sales_zip = os.path.join(DATA_HOME, \"store-sales-time-series-forecasting.zip\")\n",
    "sales_data = os.path.join(DATA_HOME, \"sales_data\")\n",
    "\n",
    "kaggle_cmd = f\"kaggle competitions download -c store-sales-time-series-forecasting -p {DATA_HOME}\"\n",
    "kaggle_download(kaggle_cmd)\n",
    "decompress_file(sales_zip, out_dir=sales_data)"
   ]
  },
  {
   "cell_type": "code",
   "execution_count": null,
   "metadata": {},
   "outputs": [],
   "source": []
  }
 ],
 "metadata": {
  "kernelspec": {
   "display_name": "Python 3",
   "language": "python",
   "name": "python3"
  },
  "language_info": {
   "codemirror_mode": {
    "name": "ipython",
    "version": 3
   },
   "file_extension": ".py",
   "mimetype": "text/x-python",
   "name": "python",
   "nbconvert_exporter": "python",
   "pygments_lexer": "ipython3",
   "version": "3.12.4"
  }
 },
 "nbformat": 4,
 "nbformat_minor": 2
}
