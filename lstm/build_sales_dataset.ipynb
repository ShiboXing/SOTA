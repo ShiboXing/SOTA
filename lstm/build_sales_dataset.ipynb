{
 "cells": [
  {
   "cell_type": "code",
   "execution_count": null,
   "metadata": {},
   "outputs": [],
   "source": [
    "import sys\n",
    "sys.path.append(\"..\")\n",
    "from utils import download_file, decompress_file, DATA_HOME\n",
    "\n",
    "sales_uri = \"https://storage.googleapis.com/kaggle-competitions-data/kaggle-v2/29781/2887556/bundle/archive.zip?GoogleAccessId=web-data@kaggle-161607.iam.gserviceaccount.com&Expires=1684611799&Signature=4E45pjbdzfj5tsK1FnwzjFPet5cVMtuQYtfu1yjgq6rhXOp2GSA5ZqzmE8QgRCSUPn3aotUU1cWy6L0k8m%2BwDqfNdhpDmzHbBFvhWB%2BEmZ0PimQLuqZ4UnxgExUB%2FMu%2Fl%2B5W%2BXTFZqqIws%2BfHgGZpfhCs0StZjpMNAMa2XSONo5ClLPyG6dGi0CRsz7JcqGBxewDn2reDXmaEyOfdAL7q7%2FGiAKJlqcLDf7Wqe7l%2B7B%2FlNv04w5krxaynt8KnZ%2BM6KOjgxyqpOjOKYp1uyKQa%2FmSGyhLuR%2Br%2BVujuEmZO2iadh2KepHUuVkgm2If6%2FQmRXIQXFfGTsRBPJ2wL1ri%2FA%3D%3D&response-content-disposition=attachment%3B+filename%3Dstore-sales-time-series-forecasting.zip\"\n",
    "sales_dir = \"~/sales_data\"\n",
    "download_file(sales_uri, f\"{DATA_HOME}/sales.zip\")\n",
    "decompress_file(f\"{DATA_HOME}/sales.zip\", sales_dir)"
   ]
  },
  {
   "cell_type": "code",
   "execution_count": null,
   "metadata": {},
   "outputs": [],
   "source": []
  },
  {
   "cell_type": "code",
   "execution_count": null,
   "metadata": {},
   "outputs": [],
   "source": []
  }
 ],
 "metadata": {
  "kernelspec": {
   "display_name": "Python 3",
   "language": "python",
   "name": "python3"
  },
  "language_info": {
   "codemirror_mode": {
    "name": "ipython",
    "version": 3
   },
   "file_extension": ".py",
   "mimetype": "text/x-python",
   "name": "python",
   "nbconvert_exporter": "python",
   "pygments_lexer": "ipython3",
   "version": "3.11.3"
  }
 },
 "nbformat": 4,
 "nbformat_minor": 2
}
