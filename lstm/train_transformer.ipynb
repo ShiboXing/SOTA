{
 "cells": [
  {
   "cell_type": "code",
   "execution_count": null,
   "metadata": {},
   "outputs": [],
   "source": [
    "import sys, os\n",
    "\n",
    "sys.path.append(\"..\")\n",
    "from common_utils import DATA_HOME\n",
    "from lstm.sales_data import Sales_Dataset\n",
    "from torch.utils.data.dataloader import DataLoader\n",
    "import torch"
   ]
  },
  {
   "cell_type": "code",
   "execution_count": null,
   "metadata": {},
   "outputs": [],
   "source": [
    "SALE_HOME = os.path.join(DATA_HOME, \"sales_data\")\n",
    "\n",
    "I, H, B = 72, 34, 6\n",
    "HEAD = 6\n",
    "\n",
    "sd = Sales_Dataset(SALE_HOME, seq_len=500)\n",
    "test_set, train_set = torch.utils.data.random_split(sd, [0.2, 0.8])\n",
    "train_dl = DataLoader(train_set, shuffle=True, batch_size=B)\n",
    "test_dl = DataLoader(test_set, shuffle=True, batch_size=B)"
   ]
  },
  {
   "cell_type": "code",
   "execution_count": null,
   "metadata": {},
   "outputs": [],
   "source": [
    "print(len(train_dl), len(test_dl))\n",
    "# print(sd.O.describe())\n",
    "# print(sd.TS.describe())\n",
    "# print(sd.S.describe())\n",
    "print(sd[4][0].shape)\n",
    "# print(sd[4][1].shape)\n",
    "# print(sd[4][0], sd[4][1])"
   ]
  },
  {
   "cell_type": "markdown",
   "metadata": {},
   "source": [
    "### PyTorch Model training"
   ]
  },
  {
   "cell_type": "code",
   "execution_count": null,
   "metadata": {},
   "outputs": [],
   "source": [
    "from torch.nn import Transformer, Linear\n",
    "\n",
    "\n",
    "class MyTransformer(torch.nn.Module):\n",
    "    def __init__(self):\n",
    "        super().__init__()\n",
    "        self.trans = Transformer(d_model=I, nhead=HEAD, batch_first=True).cuda()\n",
    "        self.linear = Linear(I, H)\n",
    "\n",
    "    def forward(self, src, tgt):\n",
    "        return self.linear(self.trans(src, tgt))"
   ]
  },
  {
   "cell_type": "code",
   "execution_count": null,
   "metadata": {},
   "outputs": [],
   "source": [
    "from torch.nn import MSELoss\n",
    "from torch import optim\n",
    "import matplotlib.pyplot as plt\n",
    "from IPython.display import clear_output\n",
    "\n",
    "model = MyTransformer().cuda()\n",
    "loss = MSELoss()\n",
    "adam = optim.Adam(model.parameters(), lr=0.001)\n",
    "tr_losses, inf_losses = [], []\n",
    "\n",
    "train_gen = enumerate(train_dl)\n",
    "test_gen = enumerate(test_dl)\n",
    "\n",
    "fig = plt.figure(figsize=(5, 5))\n",
    "for tr_idx, (X, y) in train_gen:\n",
    "\n",
    "    # Train\n",
    "    tr_l, inf_l = 0, 0\n",
    "    src = X.cuda()\n",
    "    tgt = X[:, -1, :].cuda().unsqueeze(1)  # last token\n",
    "    yhat = model(src, tgt)\n",
    "    l = loss(yhat, y[:, 1, :].unsqueeze(1).cuda())\n",
    "    # update parameters\n",
    "    adam.zero_grad()\n",
    "    l.backward()\n",
    "    adam.step()\n",
    "    tr_l += l.item()\n",
    "\n",
    "    # Validate\n",
    "    try:\n",
    "        inf_idx, (X, y) = next(test_gen)\n",
    "    except StopIteration:  # re-initialize test set if exhausted\n",
    "        test_gen = enumerate(test_dl)\n",
    "        inf_idx, (X, y) = next(test_gen)\n",
    "    src = X.cuda()\n",
    "    tgt = X[:, -1, :].cuda().unsqueeze(1)\n",
    "    yhat = model(src, tgt)  # last token\n",
    "    l = loss(yhat, y[:, 1, :].unsqueeze(1).cuda())\n",
    "    inf_l += l.item()\n",
    "    tr_losses.append(tr_l / len(train_dl))\n",
    "    inf_losses.append(inf_l / len(test_dl))\n",
    "\n",
    "    # Log and save\n",
    "    if tr_idx and tr_idx % 500 == 0:\n",
    "        clear_output(wait=True)\n",
    "        plt.plot(tr_losses, label=\"train loss\")\n",
    "        plt.plot(inf_losses, label=\"inf loss\")\n",
    "        plt.legend()\n",
    "        plt.show()\n",
    "\n",
    "        print(\n",
    "            f\"iteration: {tr_idx} train loss: {tr_l / len(train_dl)} inf loss: {inf_l / len(test_dl)}\"\n",
    "        )\n",
    "        torch.save(model.state_dict(), f\"sales_model_{tr_idx}.pth\")"
   ]
  },
  {
   "cell_type": "code",
   "execution_count": null,
   "metadata": {},
   "outputs": [],
   "source": [
    "%debug"
   ]
  },
  {
   "cell_type": "markdown",
   "metadata": {},
   "source": [
    "### display losses"
   ]
  },
  {
   "cell_type": "code",
   "execution_count": null,
   "metadata": {},
   "outputs": [],
   "source": [
    "plt.plot(range(len(tr_losses)), tr_losses, label=\"train loss\")\n",
    "plt.plot(range(len(inf_losses)), inf_losses, label=\"test loss\")\n",
    "plt.legend()\n",
    "plt.show()"
   ]
  },
  {
   "cell_type": "code",
   "execution_count": null,
   "metadata": {},
   "outputs": [],
   "source": []
  }
 ],
 "metadata": {
  "kernelspec": {
   "display_name": "Python 3",
   "language": "python",
   "name": "python3"
  },
  "language_info": {
   "codemirror_mode": {
    "name": "ipython",
    "version": 3
   },
   "file_extension": ".py",
   "mimetype": "text/x-python",
   "name": "python",
   "nbconvert_exporter": "python",
   "pygments_lexer": "ipython3",
   "version": "3.12.4"
  }
 },
 "nbformat": 4,
 "nbformat_minor": 2
}
