{
 "cells": [
  {
   "cell_type": "code",
   "execution_count": null,
   "metadata": {},
   "outputs": [],
   "source": [
    "import sys\n",
    "sys.path.append(\"..\")\n",
    "from common_utils import set_data_home\n",
    "set_data_home(\"~/datasets\")\n",
    "from common_utils import DATA_HOME, join\n",
    "from lstm.sales_data import Sales_Dataset\n",
    "from torch.utils.data.dataloader import DataLoader\n",
    "import torch\n",
    "\n",
    "SALE_HOME = join(DATA_HOME, \"sales_data\")\n",
    "MODEL_HOME = join(DATA_HOME, \"sale_model\")\n"
   ]
  },
  {
   "cell_type": "code",
   "execution_count": null,
   "metadata": {},
   "outputs": [],
   "source": [
    "from torch.nn import LSTM\n",
    "\n",
    "I, H, B = 71, 34, 3\n",
    "\n",
    "sd = Sales_Dataset(SALE_HOME, seq_len=500, is_train=False)\n",
    "sd[0]\n",
    "sd[1]\n",
    "sd[2]\n",
    "dl = DataLoader(sd, batch_size=1)\n",
    "\n",
    "model = LSTM(I, H, batch_first=True).cuda()\n",
    "model.load_state_dict(torch.load(\"./sales_model_800.pth\"))\n"
   ]
  },
  {
   "cell_type": "code",
   "execution_count": null,
   "metadata": {},
   "outputs": [],
   "source": [
    "%debug"
   ]
  },
  {
   "cell_type": "code",
   "execution_count": null,
   "metadata": {},
   "outputs": [],
   "source": [
    "import pandas as pd\n",
    "ans_df = pd.DataFrame()\n",
    "f_dict = sorted(list(sd.family_set))\n",
    "\n",
    "for X, y in dl:\n",
    "    yhat, (_, _) = model(X)\n",
    "    yhat = yhat[0]\n",
    "    start_date = pd.to_datetime(\"2017-08-16\")\n",
    "    for i in range(-16, 0):\n",
    "        for j in range(yhat.shape[1]):\n",
    "            ans_df = pd.concat((ans_df, pd.DataFrame({\"store_nbr\": [int(y.item())], \"family\": [f_dict[j]], \"sale\": [yhat[i][j].item()], \"date\": [start_date]})))\n",
    "        start_date += pd.Timedelta(days=1)"
   ]
  },
  {
   "cell_type": "markdown",
   "metadata": {},
   "source": [
    "### recover the sales"
   ]
  },
  {
   "cell_type": "code",
   "execution_count": null,
   "metadata": {},
   "outputs": [],
   "source": [
    "cols = [\"store_nbr\", \"family\", \"date\"]\n",
    "ans_df.sort_values(cols, inplace=True)\n",
    "base_sales = sd.base_sales.sort_values(cols[:2]).set_index(cols[:2])\n",
    "ans_out_df = pd.DataFrame()\n",
    "\n",
    "date_lst = [] \n",
    "for i in range(16, 32):\n",
    "    date_lst.append(pd.to_datetime(f\"2017-08-{i}\"))\n",
    "    \n",
    "for i in range(0, len(ans_df), 16):\n",
    "    row = ans_df.iloc[i]\n",
    "    store_nbr, family = row[\"store_nbr\"], row[\"family\"]\n",
    "    base_s = base_sales.loc[(store_nbr, family)].sales\n",
    "    sales_hat = Sales_Dataset.log_ret_2_sales(ans_df.iloc[i:i+16].sale, base_s)\n",
    "    ans_out_df = pd.concat((ans_out_df, pd.DataFrame({\"sales\": sales_hat, \"family\": family, \"store_nbr\": store_nbr, \"date\": date_lst})))\n",
    "# ans_out_df.sales = ans_out_df.sales.round().astype(int)\n",
    "ans_out_df = ans_out_df.reset_index().set_index([\"date\", \"store_nbr\", \"family\"]).sort_index()"
   ]
  },
  {
   "cell_type": "markdown",
   "metadata": {},
   "source": [
    "### output the answer"
   ]
  },
  {
   "cell_type": "code",
   "execution_count": null,
   "metadata": {},
   "outputs": [],
   "source": [
    "test_df = pd.read_csv(join(SALE_HOME, \"test.csv\"), index_col=0)\n",
    "test_out = pd.DataFrame()\n",
    "for id, (date, store_nbr, family, onpromotion) in test_df.iterrows():\n",
    "    test_out = pd.concat((test_out, pd.DataFrame({\"sales\": ans_out_df.loc[(\n",
    "        date, store_nbr, family\n",
    "    )].sales}, index=[id])))\n",
    "test_out"
   ]
  },
  {
   "cell_type": "code",
   "execution_count": null,
   "metadata": {},
   "outputs": [],
   "source": [
    "test_out.index.name = \"id\"\n",
    "test_out.to_csv(join(MODEL_HOME, \"answer.csv\"), index=True)"
   ]
  },
  {
   "cell_type": "code",
   "execution_count": null,
   "metadata": {},
   "outputs": [],
   "source": []
  }
 ],
 "metadata": {
  "kernelspec": {
   "display_name": "Python 3",
   "language": "python",
   "name": "python3"
  },
  "language_info": {
   "codemirror_mode": {
    "name": "ipython",
    "version": 3
   },
   "file_extension": ".py",
   "mimetype": "text/x-python",
   "name": "python",
   "nbconvert_exporter": "python",
   "pygments_lexer": "ipython3",
   "version": "3.12.3"
  }
 },
 "nbformat": 4,
 "nbformat_minor": 2
}
