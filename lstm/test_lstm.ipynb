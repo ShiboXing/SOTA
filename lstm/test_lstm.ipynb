{
 "cells": [
  {
   "cell_type": "code",
   "execution_count": 1,
   "metadata": {},
   "outputs": [],
   "source": [
    "import sys\n",
    "sys.path.append(\"..\")\n",
    "from common_utils import set_data_home\n",
    "set_data_home(\"/mnt/d\")\n",
    "from common_utils import DATA_HOME, join\n",
    "from lstm.sales_data import Sales_Dataset\n",
    "from torch.utils.data.dataloader import DataLoader\n",
    "import torch\n",
    "\n",
    "SALE_HOME = join(DATA_HOME, \"sales_data\")\n",
    "MODEL_PTH = join(join(DATA_HOME, \"sale_model\"), \"sale_model.pth\")\n"
   ]
  },
  {
   "cell_type": "code",
   "execution_count": 2,
   "metadata": {},
   "outputs": [],
   "source": [
    "from torch.nn import LSTM\n",
    "from torch.nn import MSELoss\n",
    "from torch import optim\n",
    "import matplotlib.pyplot as plt\n",
    "\n",
    "\n",
    "I, H = 71, 33\n",
    "epochs = 90\n",
    "\n",
    "model = LSTM(71, 33, batch_first=True).cuda()\n",
    "model.load_state_dict(torch.load(MODEL_PTH))\n",
    "sd = Sales_Dataset(SALE_HOME, is_train=False)\n",
    "dl = DataLoader(sd, batch_size=1)"
   ]
  },
  {
   "cell_type": "code",
   "execution_count": 13,
   "metadata": {},
   "outputs": [],
   "source": [
    "import pandas as pd\n",
    "cols = [ \"store_nbr\", \"date\",\"family\"]\n",
    "ans_df = pd.DataFrame()\n",
    "f_dict = sorted(list(sd.family_set))\n",
    "h, c = torch.randn(1,1, 33, dtype=torch.float32).cuda(), torch.randn(1,1, 33, dtype=torch.float32).cuda()\n",
    "\n",
    "for X, y in dl:\n",
    "    yhat, (_, _) = model(X, (h, c))\n",
    "    yhat = yhat[0]\n",
    "    start_date = pd.to_datetime(\"2017-08-16\")\n",
    "    for i in range(-16, 0):\n",
    "        for j in range(yhat.shape[1]):\n",
    "            f_dict = pd.concat((ans_df, pd.DataFrame({\"store_nbr\": [int(y.item())], \"family\": [f_dict[j]], \"sale\": [yhat[i][j].item()], \"date\": [start_date]})))\n",
    "        start_date += pd.Timedelta(days=1)"
   ]
  },
  {
   "cell_type": "code",
   "execution_count": null,
   "metadata": {},
   "outputs": [],
   "source": []
  }
 ],
 "metadata": {
  "kernelspec": {
   "display_name": "Python 3",
   "language": "python",
   "name": "python3"
  },
  "language_info": {
   "codemirror_mode": {
    "name": "ipython",
    "version": 3
   },
   "file_extension": ".py",
   "mimetype": "text/x-python",
   "name": "python",
   "nbconvert_exporter": "python",
   "pygments_lexer": "ipython3",
   "version": "3.11.5"
  },
  "orig_nbformat": 4
 },
 "nbformat": 4,
 "nbformat_minor": 2
}
