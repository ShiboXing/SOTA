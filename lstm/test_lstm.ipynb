{
 "cells": [
  {
   "cell_type": "code",
   "execution_count": null,
   "metadata": {},
   "outputs": [],
   "source": [
    "import sys\n",
    "\n",
    "sys.path.append(\"..\")\n",
    "from common_utils import set_data_home\n",
    "\n",
    "set_data_home(\"~/datasets\")\n",
    "from common_utils import DATA_HOME, join\n",
    "from lstm.sales_data import Sales_Dataset\n",
    "import torch\n",
    "import random\n",
    "\n",
    "device = \"cuda\" if torch.cuda.is_available() else \"cpu\"\n",
    "SALE_HOME = join(DATA_HOME, \"sales_data\")\n",
    "MODEL_HOME = join(DATA_HOME, \"sale_model\")\n",
    "\n",
    "torch.manual_seed(42)\n",
    "random.seed(42)\n",
    "\n",
    "I, H, B = 71, 36, 4\n",
    "TARGET_DIM = 33\n",
    "HEAD = 4\n",
    "SEQ_LEN = 516\n",
    "INFER_DAYS = 16"
   ]
  },
  {
   "cell_type": "code",
   "execution_count": null,
   "metadata": {},
   "outputs": [],
   "source": [
    "from torch.nn import LSTM, Transformer, Linear\n",
    "from torch.nn import MSELoss\n",
    "from torch import optim\n",
    "import matplotlib.pyplot as plt\n",
    "from IPython.display import clear_output\n",
    "\n",
    "\n",
    "class Predictor(torch.nn.Module):\n",
    "\n",
    "    def __init__(self):\n",
    "        super(Predictor, self).__init__()\n",
    "        self.lstm = LSTM(I, H, num_layers=2, batch_first=True).cuda()\n",
    "        self.trans = Transformer(\n",
    "            d_model=H,\n",
    "            nhead=HEAD,\n",
    "            num_encoder_layers=3,\n",
    "            num_decoder_layers=3,\n",
    "            batch_first=True,\n",
    "        )\n",
    "        self.relu = torch.nn.ReLU()\n",
    "        self.linear = Linear(H, TARGET_DIM)\n",
    "\n",
    "    def forward(self, x1, x2):\n",
    "        h, (_, _) = self.lstm(x1)\n",
    "        h = self.trans(h, x2)\n",
    "        h = self.relu(h)\n",
    "        return self.linear(h)\n",
    "\n",
    "\n",
    "model = Predictor().cuda()"
   ]
  },
  {
   "cell_type": "code",
   "execution_count": null,
   "metadata": {},
   "outputs": [],
   "source": [
    "sd = Sales_Dataset(SALE_HOME, seq_len=SEQ_LEN, is_train=False)"
   ]
  },
  {
   "cell_type": "code",
   "execution_count": null,
   "metadata": {},
   "outputs": [],
   "source": [
    "print(sd[0][0].shape, sd[1][0].shape, sd[2][0].shape)"
   ]
  },
  {
   "cell_type": "markdown",
   "metadata": {},
   "source": [
    "### Perform Inference"
   ]
  },
  {
   "cell_type": "code",
   "execution_count": null,
   "metadata": {},
   "outputs": [],
   "source": [
    "import pandas as pd\n",
    "from datetime import timedelta\n",
    "\n",
    "model.load_state_dict(torch.load(f\"sales_model_1000_{B}.pth\"))\n",
    "\n",
    "sales = pd.read_csv(join(SALE_HOME, \"test.csv\"), index_col=0)\n",
    "sales[\"sales\"] = 0.0\n",
    "# base_sales = sd.base_sales.set_index([\"store_nbr\", \"date\"])\n",
    "\n",
    "for X1, X2, base_sales, store_id in sd:\n",
    "    X1 = X1.cuda()\n",
    "    X2 = X2.cuda()\n",
    "    base_sales = base_sales.cuda()\n",
    "    next_x = torch.empty((1, I)).cuda()\n",
    "    yhat = model(X1, X2)\n",
    "\n",
    "    # infer and update input for each store\n",
    "    for i in range(INFER_DAYS):\n",
    "        # compute actual sales\n",
    "        yhat_rets = yhat[-INFER_DAYS + i]\n",
    "        tmp_base_sales = base_sales[-INFER_DAYS + i]\n",
    "        curr_sales = sd.ret_2_sale(yhat_rets, tmp_base_sales)\n",
    "        ts = (sd.train_max_date + timedelta(days=i + 1)).strftime(\"%Y-%m-%d\")\n",
    "\n",
    "        # write to each family in the answer dataframe\n",
    "        for j, f in enumerate(sd.families):\n",
    "            sales.loc[\n",
    "                (sales.date == ts)\n",
    "                & (sales.store_nbr == store_id)\n",
    "                & (sales.family == f),\n",
    "                \"sales\",\n",
    "            ] = (\n",
    "                curr_sales[j].cpu().item()\n",
    "            )"
   ]
  },
  {
   "cell_type": "markdown",
   "metadata": {},
   "source": [
    "### output the answer"
   ]
  },
  {
   "cell_type": "code",
   "execution_count": null,
   "metadata": {},
   "outputs": [],
   "source": [
    "sales"
   ]
  },
  {
   "cell_type": "code",
   "execution_count": null,
   "metadata": {},
   "outputs": [],
   "source": [
    "sales.drop(columns=[\"store_nbr\", \"date\", \"family\", \"onpromotion\"]).sort_values(\n",
    "    \"id\"\n",
    ").sort_index().to_csv(\"answer.csv\", index=True)"
   ]
  },
  {
   "cell_type": "code",
   "execution_count": null,
   "metadata": {},
   "outputs": [],
   "source": []
  }
 ],
 "metadata": {
  "kernelspec": {
   "display_name": "Python 3",
   "language": "python",
   "name": "python3"
  },
  "language_info": {
   "codemirror_mode": {
    "name": "ipython",
    "version": 3
   },
   "file_extension": ".py",
   "mimetype": "text/x-python",
   "name": "python",
   "nbconvert_exporter": "python",
   "pygments_lexer": "ipython3",
   "version": "3.12.4"
  }
 },
 "nbformat": 4,
 "nbformat_minor": 2
}
