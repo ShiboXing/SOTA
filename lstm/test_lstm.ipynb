{
 "cells": [
  {
   "cell_type": "code",
   "execution_count": null,
   "metadata": {},
   "outputs": [],
   "source": [
    "import sys\n",
    "sys.path.append(\"..\")\n",
    "from common_utils import set_data_home\n",
    "set_data_home(\"~/datasets\")\n",
    "from common_utils import DATA_HOME, join\n",
    "from lstm.sales_data import Sales_Dataset\n",
    "from torch.utils.data.dataloader import DataLoader\n",
    "import torch\n",
    "\n",
    "device = 'cuda' if torch.cuda.is_available() else 'cpu'\n",
    "SALE_HOME = join(DATA_HOME, \"sales_data\")\n",
    "MODEL_HOME = join(DATA_HOME, \"sale_model\")"
   ]
  },
  {
   "cell_type": "code",
   "execution_count": null,
   "metadata": {},
   "outputs": [],
   "source": [
    "from torch.nn import LSTM\n",
    "\n",
    "I, H, B = 71, 34, 3\n",
    "\n",
    "sd = Sales_Dataset(SALE_HOME, seq_len=500, is_train=False, device=device)\n",
    "\n",
    "model = LSTM(I, H, batch_first=True).cuda()\n",
    "# model.load_state_dict(torch.load(\"./sales_model_600.pth\"))\n",
    "sd[0][1].shape, sd[1][1].shape, sd[2][1].shape"
   ]
  },
  {
   "cell_type": "code",
   "execution_count": null,
   "metadata": {},
   "outputs": [],
   "source": [
    "import pandas as pd\n",
    "ans_df = pd.DataFrame()\n",
    "for X, y, store_id, date in sd:\n",
    "    yhat, (_, _) = model(X.cuda())\n",
    "    sd.set_log_rets(yhat[-1, :], store_id, date)\n",
    "    print(f\"store_id: {store_id}, date: {date} infered\")\n",
    "\n",
    "sd.TR.to_csv(\"./TR.csv\", index=False)"
   ]
  },
  {
   "cell_type": "markdown",
   "metadata": {},
   "source": [
    "### Transform returns to sales"
   ]
  },
  {
   "cell_type": "code",
   "execution_count": null,
   "metadata": {},
   "outputs": [],
   "source": [
    "from datetime import timedelta\n",
    "import pandas as pd\n",
    "sales = pd.read_csv(join(SALE_HOME, \"test.csv\"), index_col=False)\n",
    "sales[\"sales\"] = 0.\n",
    "sales.sort_values([\"store_nbr\", \"family\", \"date\"], inplace=True)\n",
    "# sd.TR = pd.read_csv(join(SALE_HOME, \"TR.csv\"), index_col=False)\n",
    "sd.TR = sd.TR.reset_index().sort_values([\"store_nbr\", \"family\", \"date\"])\n",
    "base_sales = sd.base_sales\n",
    "\n",
    "for s in sd.ids:\n",
    "    for f in sd.families:\n",
    "        start_date, end_date = sd.train_max_date + timedelta(days=1), sd.test_max_date\n",
    "        prev_sale = base_sales.loc[(base_sales.store_nbr == s) & (base_sales.family == f)].sales\n",
    "        for d in pd.date_range(start_date, end_date):\n",
    "            ret = sd.TR.loc[(sd.TR.store_nbr == s) &\\\n",
    "                            (sd.TR.family == f) & \\\n",
    "                            (sd.TR.date == d)].sales\n",
    "            curr_sale = 10 ** ret.item() * prev_sale.item()\n",
    "            sales.loc[(sales.store_nbr == s) & (sales.family == f) & (sales.date == d.strftime(\"%Y-%m-%d\")), \"sales\"] = curr_sale\n",
    "        print(f\"store {s}, family {f} inferred\")\n",
    "            \n",
    "\n",
    "base_sales, sd.test_max_date - sd.train_max_date, sale"
   ]
  },
  {
   "cell_type": "markdown",
   "metadata": {},
   "source": [
    "### output the answer"
   ]
  },
  {
   "cell_type": "code",
   "execution_count": null,
   "metadata": {},
   "outputs": [],
   "source": [
    "sales.drop(columns=[\"store_nbr\", \"date\", \"family\", \"onpromotion\"]).sort_values(\"id\").to_csv(\"answer.csv\", index=False)"
   ]
  },
  {
   "cell_type": "code",
   "execution_count": null,
   "metadata": {},
   "outputs": [],
   "source": []
  }
 ],
 "metadata": {
  "kernelspec": {
   "display_name": "Python 3",
   "language": "python",
   "name": "python3"
  },
  "language_info": {
   "codemirror_mode": {
    "name": "ipython",
    "version": 3
   },
   "file_extension": ".py",
   "mimetype": "text/x-python",
   "name": "python",
   "nbconvert_exporter": "python",
   "pygments_lexer": "ipython3",
   "version": "3.12.3"
  }
 },
 "nbformat": 4,
 "nbformat_minor": 2
}
