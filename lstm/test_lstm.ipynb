{
 "cells": [
  {
   "cell_type": "code",
   "execution_count": null,
   "metadata": {},
   "outputs": [],
   "source": [
    "import sys\n",
    "\n",
    "sys.path.append(\"..\")\n",
    "from common_utils import set_data_home\n",
    "\n",
    "set_data_home(\"~/datasets\")\n",
    "from common_utils import DATA_HOME, join\n",
    "from lstm.sales_data import Sales_Dataset\n",
    "import torch\n",
    "import random\n",
    "\n",
    "device = \"cuda\" if torch.cuda.is_available() else \"cpu\"\n",
    "SALE_HOME = join(DATA_HOME, \"sales_data\")\n",
    "MODEL_HOME = join(DATA_HOME, \"sale_model\")\n",
    "\n",
    "torch.manual_seed(42)\n",
    "random.seed(42)\n",
    "\n",
    "I, H, B = 71, 33, 3\n",
    "HEAD = 6\n",
    "SEQ_LEN = 516\n",
    "INFER_DAYS = 16"
   ]
  },
  {
   "cell_type": "code",
   "execution_count": null,
   "metadata": {},
   "outputs": [],
   "source": [
    "sd = Sales_Dataset(SALE_HOME, seq_len=SEQ_LEN, is_train=False)"
   ]
  },
  {
   "cell_type": "code",
   "execution_count": null,
   "metadata": {},
   "outputs": [],
   "source": [
    "# from torch.nn import Transformer, Linear\n",
    "\n",
    "\n",
    "# class MyTransformer(torch.nn.Module):\n",
    "#     def __init__(self):\n",
    "#         super().__init__()\n",
    "#         self.trans = Transformer(d_model=I, nhead=HEAD, batch_first=True).cuda()\n",
    "#         self.linear = Linear(I, H)\n",
    "\n",
    "#     def forward(self, src, tgt):\n",
    "#         return self.linear(self.trans(src, tgt))\n",
    "print(sd[0][0].shape, sd[1][0].shape, sd[2][0].shape)"
   ]
  },
  {
   "cell_type": "markdown",
   "metadata": {},
   "source": [
    "### Perform Inference"
   ]
  },
  {
   "cell_type": "code",
   "execution_count": null,
   "metadata": {},
   "outputs": [],
   "source": [
    "import pandas as pd\n",
    "from datetime import timedelta\n",
    "from torch.nn import LSTM\n",
    "\n",
    "model = LSTM(I, H, num_layers=2, batch_first=True).cuda()\n",
    "model.load_state_dict(torch.load(f\"sales_model_1000_{B}.pth\"))\n",
    "sales = pd.read_csv(join(SALE_HOME, \"test.csv\"), index_col=0)\n",
    "sales[\"sales\"] = 0.0\n",
    "base_sales = sd.base_sales.set_index([\"store_nbr\", \"date\"])\n",
    "\n",
    "for X, store_id in sd:\n",
    "    X = X.cuda()\n",
    "    prev_sales = base_sales.loc[(store_id, sd.train_max_date)].sales\n",
    "    prev_sales = torch.tensor(prev_sales.to_numpy(), dtype=torch.float32).cuda()\n",
    "    next_x = torch.empty((1, I)).cuda()\n",
    "    yhat, (_, _) = model(X)\n",
    "\n",
    "    # infer and update input for each store\n",
    "    for i in range(INFER_DAYS):\n",
    "        # compute actual sales\n",
    "        yhat_rets = yhat[-INFER_DAYS + i]\n",
    "        curr_sales = sd.ret_2_sale(yhat_rets, prev_sales)\n",
    "        ts = (sd.train_max_date + timedelta(days=i + 1)).strftime(\"%Y-%m-%d\")\n",
    "\n",
    "        # write to each family in the answer dataframe\n",
    "        for j, f in enumerate(sd.families):\n",
    "            sales.loc[\n",
    "                (sales.date == ts)\n",
    "                & (sales.store_nbr == store_id)\n",
    "                & (sales.family == f),\n",
    "                \"sales\",\n",
    "            ] = (\n",
    "                curr_sales[j].cpu().item()\n",
    "            )"
   ]
  },
  {
   "cell_type": "markdown",
   "metadata": {},
   "source": [
    "### output the answer"
   ]
  },
  {
   "cell_type": "code",
   "execution_count": null,
   "metadata": {},
   "outputs": [],
   "source": [
    "sales"
   ]
  },
  {
   "cell_type": "code",
   "execution_count": null,
   "metadata": {},
   "outputs": [],
   "source": [
    "sales.drop(columns=[\"store_nbr\", \"date\", \"family\", \"onpromotion\"]).sort_values(\n",
    "    \"id\"\n",
    ").sort_index().to_csv(\"answer.csv\", index=True)"
   ]
  },
  {
   "cell_type": "code",
   "execution_count": null,
   "metadata": {},
   "outputs": [],
   "source": []
  }
 ],
 "metadata": {
  "kernelspec": {
   "display_name": "Python 3",
   "language": "python",
   "name": "python3"
  },
  "language_info": {
   "codemirror_mode": {
    "name": "ipython",
    "version": 3
   },
   "file_extension": ".py",
   "mimetype": "text/x-python",
   "name": "python",
   "nbconvert_exporter": "python",
   "pygments_lexer": "ipython3",
   "version": "3.12.4"
  }
 },
 "nbformat": 4,
 "nbformat_minor": 2
}
