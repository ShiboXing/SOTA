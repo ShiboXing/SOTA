{
 "cells": [
  {
   "cell_type": "code",
   "execution_count": 1,
   "metadata": {},
   "outputs": [],
   "source": [
    "import sys\n",
    "\n",
    "\n",
    "sys.path.append(\"..\")\n",
    "from common_utils import set_data_home\n",
    "\n",
    "set_data_home(\"~/datasets\")\n",
    "from common_utils import DATA_HOME, join\n",
    "from lstm.sales_data import Sales_Dataset\n",
    "import torch\n",
    "\n",
    "device = \"cuda\" if torch.cuda.is_available() else \"cpu\"\n",
    "SALE_HOME = join(DATA_HOME, \"sales_data\")\n",
    "MODEL_HOME = join(DATA_HOME, \"sale_model\")"
   ]
  },
  {
   "cell_type": "code",
   "execution_count": 2,
   "metadata": {},
   "outputs": [
    {
     "data": {
      "text/plain": [
       "(torch.Size([500, 72]), torch.Size([500, 72]), torch.Size([500, 72]))"
      ]
     },
     "execution_count": 2,
     "metadata": {},
     "output_type": "execute_result"
    }
   ],
   "source": [
    "I, H, B = 72, 72, 6\n",
    "HEAD = 6\n",
    "num_fams = 33\n",
    "\n",
    "sd = Sales_Dataset(SALE_HOME, seq_len=500, is_train=False, device=device)\n",
    "# model.load_state_dict(torch.load(\"./sales_model_600.pth\"))\n",
    "sd[0][0].shape, sd[1][0].shape, sd[2][0].shape"
   ]
  },
  {
   "cell_type": "code",
   "execution_count": 3,
   "metadata": {},
   "outputs": [],
   "source": [
    "from torch.nn import Transformer, Linear\n",
    "\n",
    "\n",
    "class MyTransformer(torch.nn.Module):\n",
    "    def __init__(self):\n",
    "        super().__init__()\n",
    "        self.trans = Transformer(d_model=I, nhead=HEAD, batch_first=True).cuda()\n",
    "        self.linear = Linear(I, H)\n",
    "\n",
    "    def forward(self, src, tgt):\n",
    "        return self.linear(self.trans(src, tgt))"
   ]
  },
  {
   "cell_type": "markdown",
   "metadata": {},
   "source": [
    "### log returns to sales"
   ]
  },
  {
   "cell_type": "code",
   "execution_count": 4,
   "metadata": {},
   "outputs": [],
   "source": [
    "def ret_2_sale(data: torch.Tensor, base_sales: torch.Tensor):\n",
    "    return 10**data * base_sales"
   ]
  },
  {
   "cell_type": "markdown",
   "metadata": {},
   "source": [
    "### Perform Inference"
   ]
  },
  {
   "cell_type": "code",
   "execution_count": 15,
   "metadata": {},
   "outputs": [],
   "source": [
    "import pandas as pd\n",
    "from datetime import timedelta\n",
    "\n",
    "INFERED_DAYS = 16\n",
    "\n",
    "model = MyTransformer().cuda()\n",
    "model.load_state_dict(torch.load(\"sales_model_5500.pth\"))\n",
    "sales = pd.read_csv(join(SALE_HOME, \"test.csv\"), index_col=0)\n",
    "sales[\"sales\"] = 0.0\n",
    "base_sales = sd.base_sales.set_index([\"store_nbr\", \"date\"])\n",
    "\n",
    "for X, store_id, lastday in sd:\n",
    "    X = X.cuda()\n",
    "    prev_sales = base_sales.loc[(store_id, lastday)].sales\n",
    "    prev_sales = torch.tensor(prev_sales.to_numpy()).cuda()\n",
    "\n",
    "    # infer and update input for each store\n",
    "    for i in range(INFERED_DAYS):\n",
    "        yhat = model(X, X[-1].unsqueeze(0))\n",
    "        X = torch.concat((X[1:], yhat))\n",
    "\n",
    "        # compute actual sales\n",
    "        yhat_rets = yhat[0][:66][\n",
    "            ::2\n",
    "        ]  # once fetched first 66 (returns, promotions), get every other value, 33 in total\n",
    "        prev_sales = ret_2_sale(yhat_rets, prev_sales)\n",
    "        ts = (lastday + timedelta(days=i + 1)).strftime(\"%Y-%m-%d\")\n",
    "\n",
    "        # write to each family in the answer dataframe\n",
    "        for j, f in enumerate(sd.families):\n",
    "            sales.loc[\n",
    "                (sales.date == ts)\n",
    "                & (sales.store_nbr == store_id)\n",
    "                & (sales.family == f),\n",
    "                \"sales\",\n",
    "            ] = (\n",
    "                prev_sales[j].cpu().item()\n",
    "            )"
   ]
  },
  {
   "cell_type": "markdown",
   "metadata": {},
   "source": [
    "### output the answer"
   ]
  },
  {
   "cell_type": "code",
   "execution_count": 16,
   "metadata": {},
   "outputs": [
    {
     "data": {
      "text/html": [
       "<div>\n",
       "<style scoped>\n",
       "    .dataframe tbody tr th:only-of-type {\n",
       "        vertical-align: middle;\n",
       "    }\n",
       "\n",
       "    .dataframe tbody tr th {\n",
       "        vertical-align: top;\n",
       "    }\n",
       "\n",
       "    .dataframe thead th {\n",
       "        text-align: right;\n",
       "    }\n",
       "</style>\n",
       "<table border=\"1\" class=\"dataframe\">\n",
       "  <thead>\n",
       "    <tr style=\"text-align: right;\">\n",
       "      <th></th>\n",
       "      <th>date</th>\n",
       "      <th>store_nbr</th>\n",
       "      <th>family</th>\n",
       "      <th>onpromotion</th>\n",
       "      <th>sales</th>\n",
       "    </tr>\n",
       "    <tr>\n",
       "      <th>id</th>\n",
       "      <th></th>\n",
       "      <th></th>\n",
       "      <th></th>\n",
       "      <th></th>\n",
       "      <th></th>\n",
       "    </tr>\n",
       "  </thead>\n",
       "  <tbody>\n",
       "    <tr>\n",
       "      <th>3000888</th>\n",
       "      <td>2017-08-16</td>\n",
       "      <td>1</td>\n",
       "      <td>AUTOMOTIVE</td>\n",
       "      <td>0</td>\n",
       "      <td>4.475492</td>\n",
       "    </tr>\n",
       "    <tr>\n",
       "      <th>3000889</th>\n",
       "      <td>2017-08-16</td>\n",
       "      <td>1</td>\n",
       "      <td>BABY CARE</td>\n",
       "      <td>0</td>\n",
       "      <td>0.000000</td>\n",
       "    </tr>\n",
       "    <tr>\n",
       "      <th>3000890</th>\n",
       "      <td>2017-08-16</td>\n",
       "      <td>1</td>\n",
       "      <td>BEAUTY</td>\n",
       "      <td>2</td>\n",
       "      <td>5.498955</td>\n",
       "    </tr>\n",
       "    <tr>\n",
       "      <th>3000891</th>\n",
       "      <td>2017-08-16</td>\n",
       "      <td>1</td>\n",
       "      <td>BEVERAGES</td>\n",
       "      <td>20</td>\n",
       "      <td>1957.293646</td>\n",
       "    </tr>\n",
       "    <tr>\n",
       "      <th>3000892</th>\n",
       "      <td>2017-08-16</td>\n",
       "      <td>1</td>\n",
       "      <td>BOOKS</td>\n",
       "      <td>0</td>\n",
       "      <td>0.000000</td>\n",
       "    </tr>\n",
       "    <tr>\n",
       "      <th>...</th>\n",
       "      <td>...</td>\n",
       "      <td>...</td>\n",
       "      <td>...</td>\n",
       "      <td>...</td>\n",
       "      <td>...</td>\n",
       "    </tr>\n",
       "    <tr>\n",
       "      <th>3029395</th>\n",
       "      <td>2017-08-31</td>\n",
       "      <td>9</td>\n",
       "      <td>POULTRY</td>\n",
       "      <td>1</td>\n",
       "      <td>308.598288</td>\n",
       "    </tr>\n",
       "    <tr>\n",
       "      <th>3029396</th>\n",
       "      <td>2017-08-31</td>\n",
       "      <td>9</td>\n",
       "      <td>PREPARED FOODS</td>\n",
       "      <td>0</td>\n",
       "      <td>137.245985</td>\n",
       "    </tr>\n",
       "    <tr>\n",
       "      <th>3029397</th>\n",
       "      <td>2017-08-31</td>\n",
       "      <td>9</td>\n",
       "      <td>PRODUCE</td>\n",
       "      <td>1</td>\n",
       "      <td>2797.975151</td>\n",
       "    </tr>\n",
       "    <tr>\n",
       "      <th>3029398</th>\n",
       "      <td>2017-08-31</td>\n",
       "      <td>9</td>\n",
       "      <td>SCHOOL AND OFFICE SUPPLIES</td>\n",
       "      <td>9</td>\n",
       "      <td>2284.910538</td>\n",
       "    </tr>\n",
       "    <tr>\n",
       "      <th>3029399</th>\n",
       "      <td>2017-08-31</td>\n",
       "      <td>9</td>\n",
       "      <td>SEAFOOD</td>\n",
       "      <td>0</td>\n",
       "      <td>155.060401</td>\n",
       "    </tr>\n",
       "  </tbody>\n",
       "</table>\n",
       "<p>28512 rows × 5 columns</p>\n",
       "</div>"
      ],
      "text/plain": [
       "               date  store_nbr                      family  onpromotion  \\\n",
       "id                                                                        \n",
       "3000888  2017-08-16          1                  AUTOMOTIVE            0   \n",
       "3000889  2017-08-16          1                   BABY CARE            0   \n",
       "3000890  2017-08-16          1                      BEAUTY            2   \n",
       "3000891  2017-08-16          1                   BEVERAGES           20   \n",
       "3000892  2017-08-16          1                       BOOKS            0   \n",
       "...             ...        ...                         ...          ...   \n",
       "3029395  2017-08-31          9                     POULTRY            1   \n",
       "3029396  2017-08-31          9              PREPARED FOODS            0   \n",
       "3029397  2017-08-31          9                     PRODUCE            1   \n",
       "3029398  2017-08-31          9  SCHOOL AND OFFICE SUPPLIES            9   \n",
       "3029399  2017-08-31          9                     SEAFOOD            0   \n",
       "\n",
       "               sales  \n",
       "id                    \n",
       "3000888     4.475492  \n",
       "3000889     0.000000  \n",
       "3000890     5.498955  \n",
       "3000891  1957.293646  \n",
       "3000892     0.000000  \n",
       "...              ...  \n",
       "3029395   308.598288  \n",
       "3029396   137.245985  \n",
       "3029397  2797.975151  \n",
       "3029398  2284.910538  \n",
       "3029399   155.060401  \n",
       "\n",
       "[28512 rows x 5 columns]"
      ]
     },
     "execution_count": 16,
     "metadata": {},
     "output_type": "execute_result"
    }
   ],
   "source": [
    "sales"
   ]
  },
  {
   "cell_type": "code",
   "execution_count": 17,
   "metadata": {},
   "outputs": [],
   "source": [
    "sales.drop(columns=[\"store_nbr\", \"date\", \"family\", \"onpromotion\"]).sort_values(\n",
    "    \"id\"\n",
    ").sort_index().to_csv(\"answer.csv\", index=True)"
   ]
  },
  {
   "cell_type": "code",
   "execution_count": null,
   "metadata": {},
   "outputs": [],
   "source": []
  }
 ],
 "metadata": {
  "kernelspec": {
   "display_name": "Python 3",
   "language": "python",
   "name": "python3"
  },
  "language_info": {
   "codemirror_mode": {
    "name": "ipython",
    "version": 3
   },
   "file_extension": ".py",
   "mimetype": "text/x-python",
   "name": "python",
   "nbconvert_exporter": "python",
   "pygments_lexer": "ipython3",
   "version": "3.12.2"
  }
 },
 "nbformat": 4,
 "nbformat_minor": 2
}
