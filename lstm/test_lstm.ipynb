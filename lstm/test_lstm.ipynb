{
 "cells": [
  {
   "cell_type": "code",
   "execution_count": null,
   "metadata": {},
   "outputs": [],
   "source": [
    "import sys\n",
    "\n",
    "sys.path.append(\"..\")\n",
    "from common_utils import set_data_home\n",
    "\n",
    "set_data_home(\"~/datasets\")\n",
    "from common_utils import DATA_HOME, join\n",
    "from lstm.sales_data import Sales_Dataset\n",
    "import torch\n",
    "\n",
    "device = \"cuda\" if torch.cuda.is_available() else \"cpu\"\n",
    "SALE_HOME = join(DATA_HOME, \"sales_data\")\n",
    "MODEL_HOME = join(DATA_HOME, \"sale_model\")"
   ]
  },
  {
   "cell_type": "code",
   "execution_count": null,
   "metadata": {},
   "outputs": [],
   "source": [
    "I, H, B = 72, 34, 6\n",
    "HEAD = 6\n",
    "\n",
    "sd = Sales_Dataset(SALE_HOME, seq_len=500, is_train=False, device=device)\n",
    "# model.load_state_dict(torch.load(\"./sales_model_600.pth\"))\n",
    "sd[0][0].shape, sd[1][0].shape, sd[2][0].shape"
   ]
  },
  {
   "cell_type": "code",
   "execution_count": null,
   "metadata": {},
   "outputs": [],
   "source": [
    "from torch.nn import Transformer, Linear\n",
    "\n",
    "\n",
    "class MyTransformer(torch.nn.Module):\n",
    "    def __init__(self):\n",
    "        super().__init__()\n",
    "        self.trans = Transformer(d_model=I, nhead=HEAD, batch_first=True).cuda()\n",
    "        self.linear = Linear(I, H)\n",
    "\n",
    "    def forward(self, src, tgt):\n",
    "        return self.linear(self.trans(src, tgt))"
   ]
  },
  {
   "cell_type": "markdown",
   "metadata": {},
   "source": [
    "### returns to sales"
   ]
  },
  {
   "cell_type": "code",
   "execution_count": null,
   "metadata": {},
   "outputs": [],
   "source": [
    "def ret_2_sale(data: torch.Tensor, base_sales: torch.Tensor):\n",
    "    for i, curr in enumerate(data):\n",
    "        base_sales = 10**curr * base_sales\n",
    "        data[i] = base_sales"
   ]
  },
  {
   "cell_type": "code",
   "execution_count": null,
   "metadata": {},
   "outputs": [],
   "source": [
    "import pandas as pd\n",
    "\n",
    "INFERED_DAYS = 16\n",
    "\n",
    "model = MyTransformer().cuda()\n",
    "sales = pd.read_csv(join(SALE_HOME, \"test.csv\"), index_col=False)\n",
    "sales[\"sales\"] = 0.0\n",
    "ans_df = pd.DataFrame()\n",
    "\n",
    "for X, store_id, lastday in sd:\n",
    "    X = X.cuda()\n",
    "    for i in range(INFERED_DAYS):\n",
    "        yhat = model(X, X)\n",
    "    print(f\"store_id: {store_id}, date: {lastday} infered\")"
   ]
  },
  {
   "cell_type": "markdown",
   "metadata": {},
   "source": [
    "### Transform returns to sales"
   ]
  },
  {
   "cell_type": "code",
   "execution_count": null,
   "metadata": {},
   "outputs": [],
   "source": [
    "from datetime import timedelta\n",
    "import pandas as pd\n",
    "\n",
    "sales.sort_values([\"store_nbr\", \"family\", \"date\"], inplace=True)\n",
    "# sd.TR = pd.read_csv(join(SALE_HOME, \"TR.csv\"), index_col=False)\n",
    "sd.TR = sd.TR.reset_index().sort_values([\"store_nbr\", \"family\", \"date\"])\n",
    "base_sales = sd.base_sales\n",
    "\n",
    "\n",
    "for s in sd.ids:\n",
    "    for f in sd.families:\n",
    "        start_date, end_date = sd.train_max_date + timedelta(days=1), sd.test_max_date\n",
    "        prev_sale = base_sales.loc[\n",
    "            (base_sales.store_nbr == s) & (base_sales.family == f)\n",
    "        ].sales\n",
    "        for d in pd.date_range(start_date, end_date):\n",
    "            ret = sd.TR.loc[\n",
    "                (sd.TR.store_nbr == s) & (sd.TR.family == f) & (sd.TR.date == d)\n",
    "            ].sales\n",
    "            curr_sale = 10 ** ret.item() * prev_sale.item()\n",
    "            sales.loc[\n",
    "                (sales.store_nbr == s)\n",
    "                & (sales.family == f)\n",
    "                & (sales.date == d.strftime(\"%Y-%m-%d\")),\n",
    "                \"sales\",\n",
    "            ] = curr_sale\n",
    "        print(f\"store {s}, family {f} inferred\")\n",
    "\n",
    "\n",
    "base_sales, sd.test_max_date - sd.train_max_date"
   ]
  },
  {
   "cell_type": "markdown",
   "metadata": {},
   "source": [
    "### output the answer"
   ]
  },
  {
   "cell_type": "code",
   "execution_count": null,
   "metadata": {},
   "outputs": [],
   "source": [
    "sales.drop(columns=[\"store_nbr\", \"date\", \"family\", \"onpromotion\"]).sort_values(\n",
    "    \"id\"\n",
    ").to_csv(\"answer.csv\", index=False)"
   ]
  },
  {
   "cell_type": "code",
   "execution_count": null,
   "metadata": {},
   "outputs": [],
   "source": []
  }
 ],
 "metadata": {
  "kernelspec": {
   "display_name": "Python 3",
   "language": "python",
   "name": "python3"
  },
  "language_info": {
   "codemirror_mode": {
    "name": "ipython",
    "version": 3
   },
   "file_extension": ".py",
   "mimetype": "text/x-python",
   "name": "python",
   "nbconvert_exporter": "python",
   "pygments_lexer": "ipython3",
   "version": "3.12.4"
  }
 },
 "nbformat": 4,
 "nbformat_minor": 2
}
