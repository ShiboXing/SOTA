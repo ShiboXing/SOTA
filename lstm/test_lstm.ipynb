{
 "cells": [
  {
   "cell_type": "code",
   "execution_count": 54,
   "metadata": {},
   "outputs": [],
   "source": [
    "import sys\n",
    "sys.path.append(\"..\")\n",
    "from common_utils import set_data_home\n",
    "set_data_home(\"/mnt/d\")\n",
    "from common_utils import DATA_HOME, join\n",
    "from lstm.sales_data import Sales_Dataset\n",
    "from torch.utils.data.dataloader import DataLoader\n",
    "import torch\n",
    "\n",
    "SALE_HOME = join(DATA_HOME, \"sales_data\")\n",
    "MODEL_HOME = join(DATA_HOME, \"sale_model\")\n",
    "MODEL_PTH = join(MODEL_HOME, \"sale_model.pth\")\n"
   ]
  },
  {
   "cell_type": "code",
   "execution_count": 2,
   "metadata": {},
   "outputs": [],
   "source": [
    "from torch.nn import LSTM\n",
    "from torch.nn import MSELoss\n",
    "from torch import optim\n",
    "import matplotlib.pyplot as plt\n",
    "\n",
    "\n",
    "I, H = 71, 33\n",
    "epochs = 90\n",
    "\n",
    "model = LSTM(71, 33, batch_first=True).cuda()\n",
    "model.load_state_dict(torch.load(MODEL_PTH))\n",
    "sd = Sales_Dataset(SALE_HOME, is_train=False)\n",
    "dl = DataLoader(sd, batch_size=1)"
   ]
  },
  {
   "cell_type": "code",
   "execution_count": 3,
   "metadata": {},
   "outputs": [],
   "source": [
    "import pandas as pd\n",
    "ans_df = pd.DataFrame()\n",
    "f_dict = sorted(list(sd.family_set))\n",
    "h, c = torch.randn(1,1, 33, dtype=torch.float32).cuda(), torch.randn(1,1, 33, dtype=torch.float32).cuda()\n",
    "\n",
    "for X, y in dl:\n",
    "    yhat, (_, _) = model(X, (h, c))\n",
    "    yhat = yhat[0]\n",
    "    start_date = pd.to_datetime(\"2017-08-16\")\n",
    "    for i in range(-16, 0):\n",
    "        for j in range(yhat.shape[1]):\n",
    "            ans_df = pd.concat((ans_df, pd.DataFrame({\"store_nbr\": [int(y.item())], \"family\": [f_dict[j]], \"sale\": [yhat[i][j].item()], \"date\": [start_date]})))\n",
    "        start_date += pd.Timedelta(days=1)"
   ]
  },
  {
   "cell_type": "markdown",
   "metadata": {},
   "source": [
    "### recover the sales"
   ]
  },
  {
   "cell_type": "code",
   "execution_count": 47,
   "metadata": {},
   "outputs": [],
   "source": [
    "cols = [\"store_nbr\", \"family\", \"date\"]\n",
    "ans_df.sort_values(cols, inplace=True)\n",
    "base_sales = sd.base_sales.sort_values(cols[:2]).set_index(cols[:2])\n",
    "ans_out_df = pd.DataFrame()\n",
    "\n",
    "date_lst = [] \n",
    "for i in range(16, 32):\n",
    "    date_lst.append(pd.to_datetime(f\"2017-08-{i}\"))\n",
    "    \n",
    "for i in range(0, len(ans_df), 16):\n",
    "    row = ans_df.iloc[i]\n",
    "    store_nbr, family = row[\"store_nbr\"], row[\"family\"]\n",
    "    base_s = base_sales.loc[(store_nbr, family)].sales\n",
    "    sales_hat = Sales_Dataset.log_ret_2_sales(ans_df.iloc[i:i+16].sale, base_s)\n",
    "    ans_out_df = pd.concat((ans_out_df, pd.DataFrame({\"sales\": sales_hat, \"family\": family, \"store_nbr\": store_nbr, \"date\": date_lst})))\n",
    "# ans_out_df.sales = ans_out_df.sales.round().astype(int)\n",
    "ans_out_df = ans_out_df.reset_index().set_index([\"date\", \"store_nbr\", \"family\"]).sort_index()"
   ]
  },
  {
   "cell_type": "markdown",
   "metadata": {},
   "source": [
    "### output the answer"
   ]
  },
  {
   "cell_type": "code",
   "execution_count": 51,
   "metadata": {},
   "outputs": [
    {
     "data": {
      "text/html": [
       "<div>\n",
       "<style scoped>\n",
       "    .dataframe tbody tr th:only-of-type {\n",
       "        vertical-align: middle;\n",
       "    }\n",
       "\n",
       "    .dataframe tbody tr th {\n",
       "        vertical-align: top;\n",
       "    }\n",
       "\n",
       "    .dataframe thead th {\n",
       "        text-align: right;\n",
       "    }\n",
       "</style>\n",
       "<table border=\"1\" class=\"dataframe\">\n",
       "  <thead>\n",
       "    <tr style=\"text-align: right;\">\n",
       "      <th></th>\n",
       "      <th>sales</th>\n",
       "    </tr>\n",
       "  </thead>\n",
       "  <tbody>\n",
       "    <tr>\n",
       "      <th>3000888</th>\n",
       "      <td>3.483087</td>\n",
       "    </tr>\n",
       "    <tr>\n",
       "      <th>3000889</th>\n",
       "      <td>0.000000</td>\n",
       "    </tr>\n",
       "    <tr>\n",
       "      <th>3000890</th>\n",
       "      <td>3.834394</td>\n",
       "    </tr>\n",
       "    <tr>\n",
       "      <th>3000891</th>\n",
       "      <td>1396.264388</td>\n",
       "    </tr>\n",
       "    <tr>\n",
       "      <th>3000892</th>\n",
       "      <td>0.000000</td>\n",
       "    </tr>\n",
       "    <tr>\n",
       "      <th>...</th>\n",
       "      <td>...</td>\n",
       "    </tr>\n",
       "    <tr>\n",
       "      <th>3029395</th>\n",
       "      <td>617.017298</td>\n",
       "    </tr>\n",
       "    <tr>\n",
       "      <th>3029396</th>\n",
       "      <td>193.074860</td>\n",
       "    </tr>\n",
       "    <tr>\n",
       "      <th>3029397</th>\n",
       "      <td>558.420662</td>\n",
       "    </tr>\n",
       "    <tr>\n",
       "      <th>3029398</th>\n",
       "      <td>7949.364318</td>\n",
       "    </tr>\n",
       "    <tr>\n",
       "      <th>3029399</th>\n",
       "      <td>41.610561</td>\n",
       "    </tr>\n",
       "  </tbody>\n",
       "</table>\n",
       "<p>28512 rows × 1 columns</p>\n",
       "</div>"
      ],
      "text/plain": [
       "               sales\n",
       "3000888     3.483087\n",
       "3000889     0.000000\n",
       "3000890     3.834394\n",
       "3000891  1396.264388\n",
       "3000892     0.000000\n",
       "...              ...\n",
       "3029395   617.017298\n",
       "3029396   193.074860\n",
       "3029397   558.420662\n",
       "3029398  7949.364318\n",
       "3029399    41.610561\n",
       "\n",
       "[28512 rows x 1 columns]"
      ]
     },
     "execution_count": 51,
     "metadata": {},
     "output_type": "execute_result"
    }
   ],
   "source": [
    "test_df = pd.read_csv(join(SALE_HOME, \"test.csv\"), index_col=0)\n",
    "test_out = pd.DataFrame()\n",
    "for id, (date, store_nbr, family, onpromotion) in test_df.iterrows():\n",
    "    test_out = pd.concat((test_out, pd.DataFrame({\"sales\": ans_out_df.loc[(\n",
    "        date, store_nbr, family\n",
    "    )].sales}, index=[id])))\n",
    "test_out"
   ]
  },
  {
   "cell_type": "code",
   "execution_count": 56,
   "metadata": {},
   "outputs": [],
   "source": [
    "test_out.index.name = \"id\"\n",
    "test_out.to_csv(join(MODEL_HOME, \"answer.csv\"), index=True)"
   ]
  },
  {
   "cell_type": "code",
   "execution_count": null,
   "metadata": {},
   "outputs": [],
   "source": []
  }
 ],
 "metadata": {
  "kernelspec": {
   "display_name": "Python 3",
   "language": "python",
   "name": "python3"
  },
  "language_info": {
   "codemirror_mode": {
    "name": "ipython",
    "version": 3
   },
   "file_extension": ".py",
   "mimetype": "text/x-python",
   "name": "python",
   "nbconvert_exporter": "python",
   "pygments_lexer": "ipython3",
   "version": "3.11.5"
  },
  "orig_nbformat": 4
 },
 "nbformat": 4,
 "nbformat_minor": 2
}
