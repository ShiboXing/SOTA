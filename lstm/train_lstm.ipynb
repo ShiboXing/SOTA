{
 "cells": [
  {
   "cell_type": "code",
   "execution_count": 1,
   "metadata": {},
   "outputs": [
    {
     "data": {
      "text/plain": [
       "90936"
      ]
     },
     "execution_count": 1,
     "metadata": {},
     "output_type": "execute_result"
    }
   ],
   "source": [
    "import sys\n",
    "sys.path.append(\"..\")\n",
    "import torch\n",
    "from utils import DATA_HOME\n",
    "from lstm.sales_data import Sales_Dataset\n",
    "\n",
    "sd = Sales_Dataset(f\"{DATA_HOME}\\sales_data\")\n",
    "len(sd)"
   ]
  },
  {
   "cell_type": "code",
   "execution_count": 15,
   "metadata": {},
   "outputs": [
    {
     "name": "stdout",
     "output_type": "stream",
     "text": [
      "33 0 1\n"
     ]
    },
    {
     "name": "stderr",
     "output_type": "stream",
     "text": [
      "c:\\Users\\sxing\\SOTA\\lstm\\..\\lstm\\sales_data.py:53: UserWarning: Boolean Series key will be reindexed to match DataFrame index.\n",
      "  ts = self.TS[(self.TS.date == date) & (self.TR.store_nbr == store_nbr)]\n"
     ]
    },
    {
     "data": {
      "text/plain": [
       "(        id        date  store_nbr    family     sales  onpromotion\n",
       " 3135  3135  2013-01-02         47 -0.840168 -0.414244    -0.265827\n",
       " 3136  3136  2013-01-02         47  0.315063 -0.430636    -0.265827\n",
       " 3137  3137  2013-01-02         47  1.575315 -0.409773    -0.265827\n",
       " 3138  3138  2013-01-02         47  0.840168  4.211570    -0.265827\n",
       " 3139  3139  2013-01-02         47 -1.155231 -0.430636    -0.265827\n",
       " 3140  3140  2013-01-02         47  0.420084  1.622217    -0.265827\n",
       " 3141  3141  2013-01-02         47 -0.105021 -0.430636    -0.265827\n",
       " 3142  3142  2013-01-02         47  0.945189  4.211570    -0.265827\n",
       " 3143  3143  2013-01-02         47 -1.680336  1.788300    -0.265827\n",
       " 3144  3144  2013-01-02         47  1.680336  1.128175    -0.265827\n",
       " 3145  3145  2013-01-02         47  0.630126  0.520124    -0.265827\n",
       " 3146  3146  2013-01-02         47 -1.050210  0.348160    -0.265827\n",
       " 3147  3147  2013-01-02         47 -0.420084  4.211570    -0.265827\n",
       " 3148  3148  2013-01-02         47 -0.945189 -0.324831    -0.265827\n",
       " 3149  3149  2013-01-02         47 -1.260252 -0.429146    -0.265827\n",
       " 3150  3150  2013-01-02         47 -0.315063 -0.430636    -0.265827\n",
       " 3151  3151  2013-01-02         47  1.260252 -0.430636    -0.265827\n",
       " 3152  3152  2013-01-02         47  0.735147 -0.430636    -0.265827\n",
       " 3153  3153  2013-01-02         47 -0.210042 -0.430636    -0.265827\n",
       " 3154  3154  2013-01-02         47 -1.470294 -0.430636    -0.265827\n",
       " 3155  3155  2013-01-02         47 -0.735147 -0.418715    -0.265827\n",
       " 3156  3156  2013-01-02         47  1.365273 -0.429146    -0.265827\n",
       " 3157  3157  2013-01-02         47  0.000000 -0.292046    -0.265827\n",
       " 3158  3158  2013-01-02         47  0.210042 -0.430636    -0.265827\n",
       " 3159  3159  2013-01-02         47  1.470294  1.273176    -0.265827\n",
       " 3160  3160  2013-01-02         47 -0.630126  0.962719    -0.265827\n",
       " 3161  3161  2013-01-02         47  0.105021 -0.430636    -0.265827\n",
       " 3162  3162  2013-01-02         47  0.525105 -0.430636    -0.265827\n",
       " 3163  3163  2013-01-02         47 -1.575315  1.120746    -0.265827\n",
       " 3164  3164  2013-01-02         47 -0.525105 -0.069950    -0.265827\n",
       " 3165  3165  2013-01-02         47  1.155231 -0.430636    -0.265827\n",
       " 3166  3166  2013-01-02         47 -1.365273 -0.430636    -0.265827\n",
       " 3167  3167  2013-01-02         47  1.050210 -0.192920    -0.265827,\n",
       " Empty DataFrame\n",
       " Columns: [date, store_nbr, transactions]\n",
       " Index: [],\n",
       "          date  dcoilwtico\n",
       " 1  2013-01-02       93.14)"
      ]
     },
     "execution_count": 15,
     "metadata": {},
     "output_type": "execute_result"
    }
   ],
   "source": [
    "tr, ts, o = sd[100]\n",
    "print(len(tr), len(ts),  len(o))\n",
    "# len(sd.S), len(set(tr.family))\n",
    "tr, len(sd.S)\n",
    "series = sd.S.city\n",
    "series.min(), series.max(), series.mean(), series.std(), series.median()\n",
    "tr, ts, o"
   ]
  },
  {
   "cell_type": "code",
   "execution_count": 14,
   "metadata": {},
   "outputs": [
    {
     "name": "stderr",
     "output_type": "stream",
     "text": [
      "c:\\Users\\sxing\\SOTA\\lstm\\..\\lstm\\sales_data.py:53: UserWarning: Boolean Series key will be reindexed to match DataFrame index.\n",
      "  ts = self.TS[(self.TS.date == date) & (self.TR.store_nbr == store_nbr)]\n",
      "c:\\Users\\sxing\\SOTA\\lstm\\..\\lstm\\sales_data.py:53: UserWarning: Boolean Series key will be reindexed to match DataFrame index.\n",
      "  ts = self.TS[(self.TS.date == date) & (self.TR.store_nbr == store_nbr)]\n",
      "c:\\Users\\sxing\\SOTA\\lstm\\..\\lstm\\sales_data.py:53: UserWarning: Boolean Series key will be reindexed to match DataFrame index.\n",
      "  ts = self.TS[(self.TS.date == date) & (self.TR.store_nbr == store_nbr)]\n",
      "c:\\Users\\sxing\\SOTA\\lstm\\..\\lstm\\sales_data.py:53: UserWarning: Boolean Series key will be reindexed to match DataFrame index.\n",
      "  ts = self.TS[(self.TS.date == date) & (self.TR.store_nbr == store_nbr)]\n",
      "c:\\Users\\sxing\\SOTA\\lstm\\..\\lstm\\sales_data.py:53: UserWarning: Boolean Series key will be reindexed to match DataFrame index.\n",
      "  ts = self.TS[(self.TS.date == date) & (self.TR.store_nbr == store_nbr)]\n",
      "c:\\Users\\sxing\\SOTA\\lstm\\..\\lstm\\sales_data.py:53: UserWarning: Boolean Series key will be reindexed to match DataFrame index.\n",
      "  ts = self.TS[(self.TS.date == date) & (self.TR.store_nbr == store_nbr)]\n",
      "c:\\Users\\sxing\\SOTA\\lstm\\..\\lstm\\sales_data.py:53: UserWarning: Boolean Series key will be reindexed to match DataFrame index.\n",
      "  ts = self.TS[(self.TS.date == date) & (self.TR.store_nbr == store_nbr)]\n",
      "c:\\Users\\sxing\\SOTA\\lstm\\..\\lstm\\sales_data.py:53: UserWarning: Boolean Series key will be reindexed to match DataFrame index.\n",
      "  ts = self.TS[(self.TS.date == date) & (self.TR.store_nbr == store_nbr)]\n",
      "c:\\Users\\sxing\\SOTA\\lstm\\..\\lstm\\sales_data.py:53: UserWarning: Boolean Series key will be reindexed to match DataFrame index.\n",
      "  ts = self.TS[(self.TS.date == date) & (self.TR.store_nbr == store_nbr)]\n"
     ]
    },
    {
     "name": "stdout",
     "output_type": "stream",
     "text": [
      "4 90936 4.398697985396323e-05\n"
     ]
    },
    {
     "name": "stderr",
     "output_type": "stream",
     "text": [
      "c:\\Users\\sxing\\SOTA\\lstm\\..\\lstm\\sales_data.py:53: UserWarning: Boolean Series key will be reindexed to match DataFrame index.\n",
      "  ts = self.TS[(self.TS.date == date) & (self.TR.store_nbr == store_nbr)]\n"
     ]
    }
   ],
   "source": [
    "valid_cnt = 0\n",
    "from torch.utils.data import DataLoader as DL\n",
    "for id in [100, 203, 345, 345, 13255, 13245, 34562, 62615, 32823, 66969]:\n",
    "    tr, ts, o = sd[id]\n",
    "    valid_cnt += len(ts)\n",
    "    if id == 20:\n",
    "        break\n",
    "print(valid_cnt, len(sd), valid_cnt / float(len(sd)))"
   ]
  },
  {
   "cell_type": "code",
   "execution_count": null,
   "metadata": {},
   "outputs": [],
   "source": []
  }
 ],
 "metadata": {
  "kernelspec": {
   "display_name": "Python 3",
   "language": "python",
   "name": "python3"
  },
  "language_info": {
   "codemirror_mode": {
    "name": "ipython",
    "version": 3
   },
   "file_extension": ".py",
   "mimetype": "text/x-python",
   "name": "python",
   "nbconvert_exporter": "python",
   "pygments_lexer": "ipython3",
   "version": "3.11.3"
  }
 },
 "nbformat": 4,
 "nbformat_minor": 2
}
