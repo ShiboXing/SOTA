{
 "cells": [
  {
   "cell_type": "code",
   "execution_count": null,
   "metadata": {},
   "outputs": [],
   "source": [
    "import sys, os\n",
    "sys.path.append(\"..\")\n",
    "from common_utils import DATA_HOME\n",
    "from lstm.sales_data import Sales_Dataset\n",
    "from torch.utils.data.dataloader import DataLoader\n",
    "import torch"
   ]
  },
  {
   "cell_type": "code",
   "execution_count": null,
   "metadata": {},
   "outputs": [],
   "source": [
    "SALE_HOME = os.path.join(DATA_HOME, \"sales_data\")\n",
    "\n",
    "I, H, B = 71, 34, 3\n",
    "\n",
    "sd = Sales_Dataset(SALE_HOME, seq_len=500)\n",
    "test_set, train_set = torch.utils.data.random_split(sd, [0.2, 0.8])\n",
    "train_dl = DataLoader(train_set, shuffle=True, batch_size=B)\n",
    "test_dl = DataLoader(test_set, shuffle=True, batch_size=B)\n",
    "len(train_dl), len(test_dl)\n",
    "\n",
    "# # print(sd.O.describe())\n",
    "# # print(sd.TR.describe())\n",
    "# # print(sd.TS.describe())\n",
    "# # print(sd.S.describe())\n",
    "# print(sd[4][0].shape)\n",
    "# print(sd[4][1].shape)\n",
    "# # print(sd[4][0], sd[4][1])\n"
   ]
  },
  {
   "cell_type": "markdown",
   "metadata": {},
   "source": [
    "### PyTorch Model training"
   ]
  },
  {
   "cell_type": "code",
   "execution_count": null,
   "metadata": {},
   "outputs": [],
   "source": [
    "from torch.nn import LSTM\n",
    "from torch.nn import MSELoss\n",
    "from torch import optim\n",
    "import matplotlib.pyplot as plt\n",
    "\n",
    "model = LSTM(I, H, batch_first=True).cuda()\n",
    "loss = MSELoss()\n",
    "adam = optim.Adam(model.parameters(), lr=0.001)\n",
    "h, c = torch.randn(1, B, H, dtype=torch.float32).cuda(), torch.randn(1, B, H, dtype=torch.float32).cuda()\n",
    "tr_losses, inf_losses = [], []\n",
    "\n",
    "train_gen = enumerate(train_dl)\n",
    "test_gen = enumerate(test_dl)\n",
    "\n",
    "for tr_idx, (X, y) in train_gen:\n",
    "    tr_l, inf_l = 0, 0\n",
    "    yhat, (_, _) = model(X)\n",
    "    l = loss(yhat, y.cuda())\n",
    "\n",
    "    adam.zero_grad()\n",
    "    l.backward()\n",
    "    adam.step()\n",
    "    tr_l += l.item()\n",
    "\n",
    "    try:\n",
    "        inf_idx, (X, y) = next(test_gen)\n",
    "    except StopIteration:\n",
    "        test = enumerate(test_dl)\n",
    "        inf_idx, (X, y) = next(test_gen)\n",
    "    yhat, (_, _) = model(X)\n",
    "    l = loss(yhat, y.cuda())\n",
    "    inf_l += l.item()\n",
    "    tr_losses.append(tr_l / len(train_dl))\n",
    "    inf_losses.append(inf_l / len(test_dl))\n",
    "    if tr_idx and tr_idx % 100 == 0:\n",
    "        print(f\"iteration: {tr_idx} train loss: {tr_l / len(train_dl)} inf loss: {inf_l / len(test_dl)}\")\n",
    "        torch.save(model.state_dict(), f\"sales_model_{tr_idx}.pth\")\n"
   ]
  },
  {
   "cell_type": "markdown",
   "metadata": {},
   "source": [
    "### display losses"
   ]
  },
  {
   "cell_type": "code",
   "execution_count": null,
   "metadata": {},
   "outputs": [],
   "source": [
    "plt.plot(range(len(tr_losses)), tr_losses, label=\"train loss\")\n",
    "plt.plot(range(len(inf_losses)), inf_losses, label=\"test loss\")\n",
    "plt.legend()\n",
    "plt.show()\n"
   ]
  },
  {
   "cell_type": "code",
   "execution_count": null,
   "metadata": {},
   "outputs": [],
   "source": []
  }
 ],
 "metadata": {
  "kernelspec": {
   "display_name": "Python 3",
   "language": "python",
   "name": "python3"
  },
  "language_info": {
   "codemirror_mode": {
    "name": "ipython",
    "version": 3
   },
   "file_extension": ".py",
   "mimetype": "text/x-python",
   "name": "python",
   "nbconvert_exporter": "python",
   "pygments_lexer": "ipython3",
   "version": "3.12.3"
  }
 },
 "nbformat": 4,
 "nbformat_minor": 2
}
