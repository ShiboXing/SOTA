{
 "cells": [
  {
   "cell_type": "code",
   "execution_count": null,
   "metadata": {},
   "outputs": [],
   "source": [
    "import sys\n",
    "sys.path.append(\"..\")\n",
    "from common_utils import set_data_home\n",
    "set_data_home(\"/mnt/d\")\n",
    "from common_utils import DATA_HOME, join\n",
    "from lstm.sales_data import Sales_Dataset\n",
    "from torch.utils.data.dataloader import DataLoader\n",
    "import torch"
   ]
  },
  {
   "cell_type": "code",
   "execution_count": null,
   "metadata": {},
   "outputs": [],
   "source": [
    "SALE_HOME = join(DATA_HOME, \"sales_data\")\n",
    "MODEL_PTH = join(join(DATA_HOME, \"sale_model\"), \"sale_model.pth\")\n",
    "\n",
    "sd = Sales_Dataset(SALE_HOME)\n",
    "test_set, train_set = torch.utils.data.random_split(sd, [0.2, 0.8])\n",
    "train_dl = DataLoader(train_set, shuffle=True, batch_size=1)\n",
    "test_dl = DataLoader(test_set, shuffle=True, batch_size=1)\n",
    "len(train_dl), len(test_dl)\n",
    "\n",
    "# print(sd.O.describe())\n",
    "# print(sd.TR.describe())\n",
    "# print(sd.TS.describe())\n",
    "# print(sd.S.describe())\n",
    "# print(sd[4][0].shape)\n",
    "# print(sd[4][1].shape)\n",
    "# print(sd[4][0], sd[4][1])"
   ]
  },
  {
   "cell_type": "code",
   "execution_count": null,
   "metadata": {},
   "outputs": [],
   "source": [
    "from torch.nn import LSTM\n",
    "from torch.nn import MSELoss\n",
    "from torch import optim\n",
    "import matplotlib.pyplot as plt\n",
    "\n",
    "I, H = 71, 33\n",
    "epochs = 100\n",
    "\n",
    "model = LSTM(71, 33, batch_first=True).cuda()\n",
    "loss = MSELoss()\n",
    "# param yhat, y: 3d tensors\n",
    "# def loss(yhat, y):\n",
    "#     slen = yhat.shape[0] * yhat.shape[1] * yhat.shape[2]\n",
    "#     return (((torch.log(yhat+1) - torch.log(y+1)) ** 2).sum() / slen) ** 0.5\n",
    "\n",
    "adam = optim.Adam(model.parameters(), lr=0.001)\n",
    "h, c = torch.randn(1,1, 33, dtype=torch.float32).cuda(), torch.randn(1,1, 33, dtype=torch.float32).cuda()\n",
    "tr_losses, inf_losses = [], []\n",
    "\n",
    "for _ in range(epochs):\n",
    "    tr_l, inf_l = 0, 0\n",
    "    for X, y in train_dl:\n",
    "        yhat, (_, _) = model(X, (h, c))\n",
    "        l = loss(yhat, y.cuda())\n",
    "\n",
    "        adam.zero_grad()\n",
    "        l.backward()\n",
    "        adam.step()\n",
    "        tr_l += l.item()\n",
    "\n",
    "    for X, y in test_dl:\n",
    "        yhat, (_, _) = model(X, (h, c))\n",
    "        l = loss(yhat, y.cuda())\n",
    "        inf_l += l.item()\n",
    "        \n",
    "    tr_losses.append(tr_l / len(train_dl))\n",
    "    inf_losses.append(inf_l / len(test_dl))\n"
   ]
  },
  {
   "cell_type": "markdown",
   "metadata": {},
   "source": [
    "### display losses"
   ]
  },
  {
   "cell_type": "code",
   "execution_count": null,
   "metadata": {},
   "outputs": [],
   "source": [
    "plt.plot(range(len(tr_losses)), tr_losses, label=\"train loss\")\n",
    "plt.plot(range(epochs), inf_losses, label=\"test loss\")\n",
    "plt.legend()\n",
    "plt.show()\n"
   ]
  },
  {
   "cell_type": "markdown",
   "metadata": {},
   "source": [
    "### save the model"
   ]
  },
  {
   "cell_type": "code",
   "execution_count": null,
   "metadata": {},
   "outputs": [],
   "source": [
    "torch.save(model.state_dict(), MODEL_PTH)\n"
   ]
  },
  {
   "cell_type": "code",
   "execution_count": null,
   "metadata": {},
   "outputs": [],
   "source": []
  }
 ],
 "metadata": {
  "kernelspec": {
   "display_name": "Python 3",
   "language": "python",
   "name": "python3"
  },
  "language_info": {
   "codemirror_mode": {
    "name": "ipython",
    "version": 3
   },
   "file_extension": ".py",
   "mimetype": "text/x-python",
   "name": "python",
   "nbconvert_exporter": "python",
   "pygments_lexer": "ipython3",
   "version": "3.11.5"
  }
 },
 "nbformat": 4,
 "nbformat_minor": 2
}
