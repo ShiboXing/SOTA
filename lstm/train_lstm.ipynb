{
 "cells": [
  {
   "cell_type": "code",
   "execution_count": 1,
   "metadata": {},
   "outputs": [
    {
     "data": {
      "text/plain": [
       "90936"
      ]
     },
     "execution_count": 1,
     "metadata": {},
     "output_type": "execute_result"
    }
   ],
   "source": [
    "import sys\n",
    "sys.path.append(\"..\")\n",
    "import torch\n",
    "from utils import DATA_HOME\n",
    "from lstm.sales_data import Sales_Dataset\n",
    "\n",
    "sd = Sales_Dataset(f\"{DATA_HOME}\\sales_data\")\n",
    "len(sd)"
   ]
  },
  {
   "cell_type": "code",
   "execution_count": 2,
   "metadata": {},
   "outputs": [
    {
     "name": "stdout",
     "output_type": "stream",
     "text": [
      "33 0 1\n"
     ]
    },
    {
     "name": "stderr",
     "output_type": "stream",
     "text": [
      "c:\\Users\\sxing\\SOTA\\lstm\\..\\lstm\\sales_data.py:67: UserWarning: Boolean Series key will be reindexed to match DataFrame index.\n",
      "  ts = self.TS[(self.TS.date == date) & (self.TR.store_nbr == store_nbr)]\n"
     ]
    },
    {
     "data": {
      "text/plain": [
       "(-2.6420114798940335,\n",
       " 0.8845813576056518,\n",
       " -1.0000000000000002,\n",
       " 1.0000000000000002,\n",
       " -1.5504470301917501)"
      ]
     },
     "execution_count": 2,
     "metadata": {},
     "output_type": "execute_result"
    }
   ],
   "source": [
    "tr, ts, o = sd[200]\n",
    "print(len(tr), len(ts),  len(o))\n",
    "# len(sd.S), len(set(tr.family))\n",
    "tr, len(sd.S)\n",
    "series = sd.S.city\n",
    "series.min(), series.max(), series.mean(), series.std(), series.median()"
   ]
  },
  {
   "cell_type": "code",
   "execution_count": 5,
   "metadata": {},
   "outputs": [
    {
     "data": {
      "text/plain": [
       "(            id        date  store_nbr    family     sales  onpromotion\n",
       " 356407  356407  2013-07-20          1 -2.680336 -0.464346    -1.265827\n",
       " 358189  358189  2013-07-21          1 -2.680336 -0.831635    -1.265827\n",
       " 359971  359971  2013-07-22          1 -2.680336  0.962354    -1.265827\n",
       " 361753  361753  2013-07-23          1 -2.680336  0.191719    -1.265827\n",
       " 363535  363535  2013-07-24          1 -2.680336  0.171981    -1.265827\n",
       " ...        ...         ...        ...       ...       ...          ...\n",
       " 525697  525697  2013-10-23          1 -2.680336  0.414498    -1.265827\n",
       " 527479  527479  2013-10-24          1 -2.680336 -0.479939    -1.265827\n",
       " 529261  529261  2013-10-25          1 -2.680336  0.028826    -1.265827\n",
       " 531043  531043  2013-10-26          1 -2.680336 -0.060392    -1.265827\n",
       " 532825  532825  2013-10-27          1 -2.680336 -0.704340    -1.265827\n",
       " \n",
       " [100 rows x 6 columns],\n",
       "           id        date  store_nbr    family     sales  onpromotion\n",
       " 7          7  2013-01-01          1 -2.680336       NaN    -1.265827\n",
       " 1789    1789  2013-01-02          1 -2.680336  9.268704    -1.265827\n",
       " 3571    3571  2013-01-03          1 -2.680336 -0.237370    -1.265827\n",
       " 5353    5353  2013-01-04          1 -2.680336 -0.010823    -1.265827\n",
       " 7135    7135  2013-01-05          1 -2.680336 -0.019534    -1.265827\n",
       " 8917    8917  2013-01-06          1 -2.680336 -1.148926    -1.265827\n",
       " 10699  10699  2013-01-07          1 -2.680336  1.170876    -1.265827\n",
       " 12481  12481  2013-01-08          1 -2.680336 -0.002415    -1.265827\n",
       " 14263  14263  2013-01-09          1 -2.680336  0.091224    -1.265827\n",
       " 16045  16045  2013-01-10          1 -2.680336 -0.282508    -1.265827,\n",
       " 1.1044538930770844,\n",
       " 1.4643834155277257e-06)"
      ]
     },
     "execution_count": 5,
     "metadata": {},
     "output_type": "execute_result"
    }
   ],
   "source": [
    "import numpy as np\n",
    "\n",
    "tr = sd.TR\n",
    "# tr.sales += 1.0\n",
    "# promo = sd.TR.onpromotion[sd.TR.onpromotion != 0]\n",
    "# promo.std(), promo.mean(), promo.min(), promo.max()\n",
    "# tr.sales.mean(), tr.sales.std(), tr.sales.min(), tr.sales.max()\n",
    "sd.TR.sort_values([\"store_nbr\", \"family\", \"date\"], inplace=True)\n",
    "# print(tr)\n",
    "# ts[ts.date == \"201-11-05\"], len(set(sd.TR.store_nbr)\n",
    "tr.iloc[200:300], tr.iloc[:10], tr.sales.std(), tr.sales.mean(),\n"
   ]
  },
  {
   "cell_type": "code",
   "execution_count": 3,
   "metadata": {},
   "outputs": [
    {
     "data": {
      "text/plain": [
       "(            id        date  store_nbr      family  sales  onpromotion\n",
       " 356400  356400  2013-07-20          1  AUTOMOTIVE    1.0            0\n",
       " 358182  358182  2013-07-21          1  AUTOMOTIVE    1.0            0\n",
       " 359964  359964  2013-07-22          1  AUTOMOTIVE    2.0            0\n",
       " 361746  361746  2013-07-23          1  AUTOMOTIVE    3.0            0\n",
       " 363528  363528  2013-07-24          1  AUTOMOTIVE    7.0            0\n",
       " ...        ...         ...        ...         ...    ...          ...\n",
       " 525690  525690  2013-10-23          1  AUTOMOTIVE    1.0            0\n",
       " 527472  527472  2013-10-24          1  AUTOMOTIVE    2.0            0\n",
       " 529254  529254  2013-10-25          1  AUTOMOTIVE    2.0            0\n",
       " 531036  531036  2013-10-26          1  AUTOMOTIVE    1.0            0\n",
       " 532818  532818  2013-10-27          1  AUTOMOTIVE    0.0            0\n",
       " \n",
       " [100 rows x 6 columns],\n",
       "           id        date  store_nbr      family  sales  onpromotion\n",
       " 0          0  2013-01-01          1  AUTOMOTIVE    0.0            0\n",
       " 1782    1782  2013-01-02          1  AUTOMOTIVE    2.0            0\n",
       " 3564    3564  2013-01-03          1  AUTOMOTIVE    3.0            0\n",
       " 5346    5346  2013-01-04          1  AUTOMOTIVE    3.0            0\n",
       " 7128    7128  2013-01-05          1  AUTOMOTIVE    5.0            0\n",
       " 8910    8910  2013-01-06          1  AUTOMOTIVE    2.0            0\n",
       " 10692  10692  2013-01-07          1  AUTOMOTIVE    0.0            0\n",
       " 12474  12474  2013-01-08          1  AUTOMOTIVE    2.0            0\n",
       " 14256  14256  2013-01-09          1  AUTOMOTIVE    2.0            0\n",
       " 16038  16038  2013-01-10          1  AUTOMOTIVE    2.0            0)"
      ]
     },
     "execution_count": 3,
     "metadata": {},
     "output_type": "execute_result"
    }
   ],
   "source": [
    "import pandas as pd\n",
    "OG_TR = pd.read_csv(f\"{DATA_HOME}/sales_data/train.csv\", index_col=False)\n",
    "OG_TS = pd.read_csv(f\"{DATA_HOME}/sales_data/transactions.csv\", index_col=False) \n",
    "OG_TR.sort_values([\"store_nbr\", \"family\", \"date\"], inplace=True)\n",
    "# OG_TR.sales = np.log(OG_TR.sales / OG_TR.sales.shift(1))\n",
    "OG_TR[200:300], OG_TR[:10],"
   ]
  },
  {
   "cell_type": "code",
   "execution_count": null,
   "metadata": {},
   "outputs": [],
   "source": []
  }
 ],
 "metadata": {
  "kernelspec": {
   "display_name": "Python 3",
   "language": "python",
   "name": "python3"
  },
  "language_info": {
   "codemirror_mode": {
    "name": "ipython",
    "version": 3
   },
   "file_extension": ".py",
   "mimetype": "text/x-python",
   "name": "python",
   "nbconvert_exporter": "python",
   "pygments_lexer": "ipython3",
   "version": "3.11.3"
  }
 },
 "nbformat": 4,
 "nbformat_minor": 2
}
