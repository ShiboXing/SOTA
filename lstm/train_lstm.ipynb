{
 "cells": [
  {
   "cell_type": "code",
   "execution_count": 4,
   "metadata": {},
   "outputs": [
    {
     "data": {
      "text/plain": [
       "90936"
      ]
     },
     "execution_count": 4,
     "metadata": {},
     "output_type": "execute_result"
    }
   ],
   "source": [
    "import sys\n",
    "sys.path.append(\"..\")\n",
    "import torch\n",
    "from utils import DATA_HOME\n",
    "from lstm.sales_data import Sales_Dataset\n",
    "\n",
    "sd = Sales_Dataset(f\"{DATA_HOME}\\sales_data\")\n",
    "len(sd)"
   ]
  },
  {
   "cell_type": "code",
   "execution_count": 7,
   "metadata": {},
   "outputs": [
    {
     "data": {
      "text/plain": [
       "(-1.475271542023305,\n",
       " 1.4564158031788652,\n",
       " 1.0279842820603301e-16,\n",
       " 1.0,\n",
       " 0.5138123652240177)"
      ]
     },
     "execution_count": 7,
     "metadata": {},
     "output_type": "execute_result"
    }
   ],
   "source": [
    "tr, ts, h, o = sd[3]\n",
    "len(tr), len(ts), len(h), len(o)\n",
    "# len(sd.S), len(set(tr.family))\n",
    "tr, len(sd.S)\n",
    "series = sd.S.city\n",
    "series.min(), series.max(), series.mean(), series.std(), series.median()\n"
   ]
  },
  {
   "cell_type": "code",
   "execution_count": null,
   "metadata": {},
   "outputs": [],
   "source": []
  }
 ],
 "metadata": {
  "kernelspec": {
   "display_name": "Python 3",
   "language": "python",
   "name": "python3"
  },
  "language_info": {
   "codemirror_mode": {
    "name": "ipython",
    "version": 3
   },
   "file_extension": ".py",
   "mimetype": "text/x-python",
   "name": "python",
   "nbconvert_exporter": "python",
   "pygments_lexer": "ipython3",
   "version": "3.11.3"
  }
 },
 "nbformat": 4,
 "nbformat_minor": 2
}
