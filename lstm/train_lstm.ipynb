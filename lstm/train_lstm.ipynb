{
 "cells": [
  {
   "cell_type": "code",
   "execution_count": null,
   "metadata": {},
   "outputs": [],
   "source": [
    "import sys\n",
    "sys.path.append(\"..\")\n",
    "import torch\n",
    "from utils import DATA_HOME\n",
    "from lstm.sales_data import Sales_Dataset\n",
    "\n",
    "sd = Sales_Dataset(f\"{DATA_HOME}\\sales_data\")\n",
    "len(sd)"
   ]
  },
  {
   "cell_type": "code",
   "execution_count": null,
   "metadata": {},
   "outputs": [],
   "source": [
    "import numpy as np\n",
    "\n",
    "tr = sd.TR\n",
    "# tr.sales += 1.0\n",
    "# promo = sd.TR.onpromotion[sd.TR.onpromotion != 0]\n",
    "# promo.std(), promo.mean(), promo.min(), promo.max()\n",
    "# tr.sales.mean(), tr.sales.std(), tr.sales.min(), tr.sales.max()\n",
    "sd.TR.sort_values([\"store_nbr\", \"family\", \"date\"], inplace=True)\n",
    "# print(tr)\n",
    "# ts[ts.date == \"201-11-05\"], len(set(sd.TR.store_nbr)\n",
    "tr.iloc[200:300], tr.iloc[:10], tr.sales.std(), tr.sales.mean(),\n"
   ]
  },
  {
   "cell_type": "code",
   "execution_count": null,
   "metadata": {},
   "outputs": [],
   "source": [
    "import pandas as pd\n",
    "OG_TR = pd.read_csv(f\"{DATA_HOME}/sales_data/train.csv\", index_col=False)\n",
    "OG_TS = pd.read_csv(f\"{DATA_HOME}/sales_data/transactions.csv\", index_col=False) \n",
    "OG_TR.sort_values([\"store_nbr\", \"family\", \"date\"], inplace=True)\n",
    "# OG_TR.sales = np.log(OG_TR.sales / OG_TR.sales.shift(1))\n",
    "OG_TR[200:300], OG_TR[:10],"
   ]
  },
  {
   "cell_type": "code",
   "execution_count": null,
   "metadata": {},
   "outputs": [],
   "source": []
  }
 ],
 "metadata": {
  "kernelspec": {
   "display_name": "Python 3",
   "language": "python",
   "name": "python3"
  },
  "language_info": {
   "codemirror_mode": {
    "name": "ipython",
    "version": 3
   },
   "file_extension": ".py",
   "mimetype": "text/x-python",
   "name": "python",
   "nbconvert_exporter": "python",
   "pygments_lexer": "ipython3",
   "version": "3.11.3"
  }
 },
 "nbformat": 4,
 "nbformat_minor": 2
}
