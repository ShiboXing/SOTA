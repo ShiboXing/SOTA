{
 "cells": [
  {
   "cell_type": "code",
   "execution_count": 1,
   "metadata": {},
   "outputs": [],
   "source": [
    "import sys\n",
    "sys.path.append(\"..\")\n",
    "import torch\n",
    "from utils import DATA_HOME\n",
    "from lstm.sales_data import Sales_Dataset\n",
    "\n",
    "sd = Sales_Dataset(f\"{DATA_HOME}\\sales_data\")"
   ]
  },
  {
   "cell_type": "code",
   "execution_count": 2,
   "metadata": {},
   "outputs": [
    {
     "data": {
      "text/plain": [
       "(            id        date  store_nbr                      family    sales   \n",
       " 190674  190674  2013-04-18          1                  AUTOMOTIVE    0.000  \\\n",
       " 190675  190675  2013-04-18          1                   BABY CARE    0.000   \n",
       " 190676  190676  2013-04-18          1                      BEAUTY    1.000   \n",
       " 190677  190677  2013-04-18          1                   BEVERAGES  785.000   \n",
       " 190678  190678  2013-04-18          1                       BOOKS    0.000   \n",
       " ...        ...         ...        ...                         ...      ...   \n",
       " 192451  192451  2013-04-18          9                     POULTRY  414.885   \n",
       " 192452  192452  2013-04-18          9              PREPARED FOODS   73.000   \n",
       " 192453  192453  2013-04-18          9                     PRODUCE    0.000   \n",
       " 192454  192454  2013-04-18          9  SCHOOL AND OFFICE SUPPLIES    0.000   \n",
       " 192455  192455  2013-04-18          9                     SEAFOOD   35.752   \n",
       " \n",
       "         onpromotion  \n",
       " 190674            0  \n",
       " 190675            0  \n",
       " 190676            0  \n",
       " 190677            0  \n",
       " 190678            0  \n",
       " ...             ...  \n",
       " 192451            0  \n",
       " 192452            0  \n",
       " 192453            0  \n",
       " 192454            0  \n",
       " 192455            0  \n",
       " \n",
       " [1782 rows x 6 columns],\n",
       " Empty DataFrame\n",
       " Columns: [date, type, locale, locale_name, description, transferred]\n",
       " Index: [],\n",
       " Empty DataFrame\n",
       " Columns: [date, type, locale, locale_name, description, transferred]\n",
       " Index: [],\n",
       "           date  dcoilwtico\n",
       " 77  2013-04-18       87.83)"
      ]
     },
     "execution_count": 2,
     "metadata": {},
     "output_type": "execute_result"
    }
   ],
   "source": [
    "tr, ts, h, o = sd[10]\n",
    "len(tr), len(ts), len(h), len(o)"
   ]
  },
  {
   "cell_type": "code",
   "execution_count": null,
   "metadata": {},
   "outputs": [],
   "source": []
  }
 ],
 "metadata": {
  "kernelspec": {
   "display_name": "Python 3",
   "language": "python",
   "name": "python3"
  },
  "language_info": {
   "codemirror_mode": {
    "name": "ipython",
    "version": 3
   },
   "file_extension": ".py",
   "mimetype": "text/x-python",
   "name": "python",
   "nbconvert_exporter": "python",
   "pygments_lexer": "ipython3",
   "version": "3.11.3"
  }
 },
 "nbformat": 4,
 "nbformat_minor": 2
}
