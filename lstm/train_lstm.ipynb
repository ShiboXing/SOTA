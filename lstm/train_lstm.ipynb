{
 "cells": [
  {
   "cell_type": "code",
   "execution_count": 2,
   "metadata": {},
   "outputs": [
    {
     "name": "stderr",
     "output_type": "stream",
     "text": [
      "C:\\Users\\sxing\\AppData\\Local\\Packages\\PythonSoftwareFoundation.Python.3.11_qbz5n2kfra8p0\\LocalCache\\local-packages\\Python311\\site-packages\\pandas\\core\\arraylike.py:396: RuntimeWarning: divide by zero encountered in log\n",
      "  result = getattr(ufunc, method)(*inputs, **kwargs)\n",
      "C:\\Users\\sxing\\AppData\\Local\\Packages\\PythonSoftwareFoundation.Python.3.11_qbz5n2kfra8p0\\LocalCache\\local-packages\\Python311\\site-packages\\pandas\\core\\arraylike.py:396: RuntimeWarning: divide by zero encountered in log\n",
      "  result = getattr(ufunc, method)(*inputs, **kwargs)\n"
     ]
    },
    {
     "data": {
      "text/plain": [
       "90936"
      ]
     },
     "execution_count": 2,
     "metadata": {},
     "output_type": "execute_result"
    }
   ],
   "source": [
    "import sys\n",
    "sys.path.append(\"..\")\n",
    "import torch\n",
    "from common_utils import DATA_HOME\n",
    "from lstm.sales_data import Sales_Dataset\n",
    "\n",
    "sd = Sales_Dataset(f\"{DATA_HOME}\\sales_data\")\n",
    "len(sd)"
   ]
  },
  {
   "cell_type": "code",
   "execution_count": 7,
   "metadata": {},
   "outputs": [
    {
     "data": {
      "text/plain": [
       "(                 id     store_nbr        family         sales   onpromotion\n",
       " count  3.000888e+06  3.000888e+06  3.000888e+06  3.000888e+06  3.000888e+06\n",
       " mean   1.500444e+06  2.750000e+01  1.342528e-17  3.579558e-02  4.254511e-02\n",
       " std    8.662819e+05  1.558579e+01  1.000000e+00  5.267061e-01  4.635425e-01\n",
       " min    0.000000e+00  1.000000e+00 -1.680336e+00 -8.273643e+00 -5.505332e+00\n",
       " 25%    7.502218e+05  1.400000e+01 -8.401681e-01 -1.177830e-01  0.000000e+00\n",
       " 50%    1.500444e+06  2.750000e+01  0.000000e+00  0.000000e+00  0.000000e+00\n",
       " 75%    2.250665e+06  4.100000e+01  8.401681e-01  1.892420e-01  0.000000e+00\n",
       " max    3.000887e+06  5.400000e+01  1.680336e+00  8.635093e+00  5.529429e+00,\n",
       "           store_nbr  transactions\n",
       " count  83488.000000  83488.000000\n",
       " mean      26.939237     -0.000012\n",
       " std       15.608204      0.196840\n",
       " min        1.000000     -6.256390\n",
       " 25%       13.000000     -0.090384\n",
       " 50%       27.000000     -0.002441\n",
       " 75%       40.000000      0.096003\n",
       " max       54.000000      5.759427,\n",
       "             city    cluster       type\n",
       " count  54.000000  54.000000  54.000000\n",
       " mean    0.408650  -0.105842  -0.144040\n",
       " std     1.095153   0.958035   1.102139\n",
       " min    -1.655032  -1.632993  -1.414214\n",
       " 25%    -0.709299  -1.020621  -1.414214\n",
       " 50%     0.630488  -0.102062   0.000000\n",
       " 75%     1.497410   0.816497   0.707107\n",
       " max     1.655032   1.632993   1.414214,\n",
       "         dcoilwtico\n",
       " count  1218.000000\n",
       " mean     -0.000221\n",
       " std       0.021552\n",
       " min      -0.090514\n",
       " 25%      -0.010776\n",
       " 50%       0.000000\n",
       " 75%       0.009405\n",
       " max       0.112892)"
      ]
     },
     "execution_count": 7,
     "metadata": {},
     "output_type": "execute_result"
    }
   ],
   "source": [
    "sd.TR.describe(), sd.TS.describe(), sd.S.describe(), sd.O.describe()"
   ]
  },
  {
   "cell_type": "code",
   "execution_count": null,
   "metadata": {},
   "outputs": [],
   "source": [
    "import pandas as pd\n",
    "OG_TR = pd.read_csv(f\"{DATA_HOME}/sales_data/train.csv\", index_col=False)\n",
    "OG_TS = pd.read_csv(f\"{DATA_HOME}/sales_data/transactions.csv\", index_col=False) \n",
    "OG_TR.sort_values([\"store_nbr\", \"family\", \"date\"], inplace=True)\n",
    "# OG_TR.sales = np.log(OG_TR.sales / OG_TR.sales.shift(1))\n",
    "OG_TR[200:300], OG_TR[:10], OG_TR[:]"
   ]
  },
  {
   "cell_type": "code",
   "execution_count": null,
   "metadata": {},
   "outputs": [],
   "source": []
  }
 ],
 "metadata": {
  "kernelspec": {
   "display_name": "Python 3",
   "language": "python",
   "name": "python3"
  },
  "language_info": {
   "codemirror_mode": {
    "name": "ipython",
    "version": 3
   },
   "file_extension": ".py",
   "mimetype": "text/x-python",
   "name": "python",
   "nbconvert_exporter": "python",
   "pygments_lexer": "ipython3",
   "version": "3.11.3"
  }
 },
 "nbformat": 4,
 "nbformat_minor": 2
}
