{
 "cells": [
  {
   "cell_type": "code",
   "execution_count": 1,
   "metadata": {},
   "outputs": [],
   "source": [
    "import sys, os\n",
    "sys.path.append(\"..\")\n",
    "from common_utils import DATA_HOME\n",
    "from lstm.sales_data import Sales_Dataset\n",
    "from torch.utils.data.dataloader import DataLoader\n",
    "import torch"
   ]
  },
  {
   "cell_type": "code",
   "execution_count": 2,
   "metadata": {},
   "outputs": [
    {
     "data": {
      "text/plain": [
       "(17107, 4277)"
      ]
     },
     "execution_count": 2,
     "metadata": {},
     "output_type": "execute_result"
    }
   ],
   "source": [
    "SALE_HOME = os.path.join(DATA_HOME, \"sales_data\")\n",
    "\n",
    "I, H, B = 71, 34, 3\n",
    "\n",
    "sd = Sales_Dataset(SALE_HOME, seq_len=500)\n",
    "test_set, train_set = torch.utils.data.random_split(sd, [0.2, 0.8])\n",
    "train_dl = DataLoader(train_set, shuffle=True, batch_size=B)\n",
    "test_dl = DataLoader(test_set, shuffle=True, batch_size=B)\n",
    "len(train_dl), len(test_dl)\n",
    "\n",
    "# # print(sd.O.describe())\n",
    "# # print(sd.TR.describe())\n",
    "# # print(sd.TS.describe())\n",
    "# # print(sd.S.describe())\n",
    "# print(sd[4][0].shape)\n",
    "# print(sd[4][1].shape)\n",
    "# # print(sd[4][0], sd[4][1])\n"
   ]
  },
  {
   "cell_type": "markdown",
   "metadata": {},
   "source": [
    "### PyTorch Model training"
   ]
  },
  {
   "cell_type": "code",
   "execution_count": 3,
   "metadata": {},
   "outputs": [
    {
     "name": "stdout",
     "output_type": "stream",
     "text": [
      "iteration: 100 train loss: 4.791060858162503e-06 inf loss: 1.9026518230380257e-05\n",
      "iteration: 200 train loss: 4.670148217894789e-06 inf loss: 1.870141893116592e-05\n",
      "iteration: 300 train loss: 3.613832975009493e-06 inf loss: 1.7568979456738552e-05\n",
      "iteration: 400 train loss: 4.660489944947026e-06 inf loss: 1.2709768974588719e-05\n",
      "iteration: 500 train loss: 3.994695401076035e-06 inf loss: 1.916911227418241e-05\n",
      "iteration: 600 train loss: 4.251345625373589e-06 inf loss: 9.953533206722964e-06\n",
      "iteration: 700 train loss: 4.381447910266024e-06 inf loss: 1.7813078733367957e-05\n",
      "iteration: 800 train loss: 3.82407244525494e-06 inf loss: 1.3594474466654751e-05\n",
      "iteration: 900 train loss: 2.329859530033092e-06 inf loss: 1.4380350454627896e-05\n",
      "iteration: 1000 train loss: 3.433919114261533e-06 inf loss: 1.4610778429755156e-05\n",
      "iteration: 1100 train loss: 3.868455380095071e-06 inf loss: 1.6324445065254638e-05\n",
      "iteration: 1200 train loss: 4.124427487014393e-06 inf loss: 1.411639138279269e-05\n",
      "iteration: 1300 train loss: 3.038720624816336e-06 inf loss: 1.156045115660194e-05\n",
      "iteration: 1400 train loss: 2.7050999405717573e-06 inf loss: 1.6325007734773648e-05\n",
      "iteration: 1500 train loss: 3.2514105943736783e-06 inf loss: 1.212379222081202e-05\n",
      "iteration: 1600 train loss: 2.8668021904200643e-06 inf loss: 1.5588640567435264e-05\n"
     ]
    }
   ],
   "source": [
    "from torch.nn import LSTM\n",
    "from torch.nn import MSELoss\n",
    "from torch import optim\n",
    "import matplotlib.pyplot as plt\n",
    "\n",
    "model = LSTM(I, H, batch_first=True).cuda()\n",
    "loss = MSELoss()\n",
    "adam = optim.Adam(model.parameters(), lr=0.001)\n",
    "h, c = torch.randn(1, B, H, dtype=torch.float32).cuda(), torch.randn(1, B, H, dtype=torch.float32).cuda()\n",
    "tr_losses, inf_losses = [], []\n",
    "\n",
    "train_gen = enumerate(train_dl)\n",
    "test_gen = enumerate(test_dl)\n",
    "\n",
    "for tr_idx, (X, y) in train_gen:\n",
    "    tr_l, inf_l = 0, 0\n",
    "    yhat, (_, _) = model(X)\n",
    "    l = loss(yhat, y.cuda())\n",
    "\n",
    "    adam.zero_grad()\n",
    "    l.backward()\n",
    "    adam.step()\n",
    "    tr_l += l.item()\n",
    "\n",
    "    try:\n",
    "        inf_idx, (X, y) = next(test_gen)\n",
    "    except StopIteration:\n",
    "        test = enumerate(test_dl)\n",
    "        inf_idx, (X, y) = next(test_gen)\n",
    "    yhat, (_, _) = model(X)\n",
    "    l = loss(yhat, y.cuda())\n",
    "    inf_l += l.item()\n",
    "    tr_losses.append(tr_l / len(train_dl))\n",
    "    inf_losses.append(inf_l / len(test_dl))\n",
    "    if tr_idx and tr_idx % 100 == 0:\n",
    "        print(f\"iteration: {tr_idx} train loss: {tr_l / len(train_dl)} inf loss: {inf_l / len(test_dl)}\")\n",
    "        torch.save(model.state_dict(), f\"sales_model_{tr_idx}.pth\")\n"
   ]
  },
  {
   "cell_type": "markdown",
   "metadata": {},
   "source": [
    "### display losses"
   ]
  },
  {
   "cell_type": "code",
   "execution_count": null,
   "metadata": {},
   "outputs": [],
   "source": [
    "plt.plot(range(len(tr_losses)), tr_losses, label=\"train loss\")\n",
    "plt.plot(range(len(inf_losses)), inf_losses, label=\"test loss\")\n",
    "plt.legend()\n",
    "plt.show()\n"
   ]
  },
  {
   "cell_type": "markdown",
   "metadata": {},
   "source": [
    "### Custom Model training"
   ]
  },
  {
   "cell_type": "code",
   "execution_count": null,
   "metadata": {},
   "outputs": [],
   "source": [
    "from mylstm import MyLSTM\n",
    "from torch.nn import MSELoss\n",
    "from torch import optim\n",
    "import matplotlib.pyplot as plt\n",
    "\n",
    "I, H = 71, 33\n",
    "epochs = 5\n",
    "\n",
    "model = MyLSTM(71, 33).cuda()\n",
    "loss = MSELoss()\n",
    "# param yhat, y: 3d tensors\n",
    "# def loss(yhat, y):\n",
    "#     slen = yhat.shape[0] * yhat.shape[1] * yhat.shape[2]\n",
    "#     return (((torch.log(yhat+1) - torch.log(y+1)) ** 2).sum() / slen) ** 0.5\n",
    "\n",
    "adam = optim.Adam(model.parameters(), lr=0.001)\n",
    "h, c = torch.randn(1, 1, 33, dtype=torch.float32).cuda(), torch.randn(1,1, 33, dtype=torch.float32).cuda()\n",
    "tr_losses, inf_losses = [], []\n",
    "\n",
    "train_gen = enumerate(train_dl)\n",
    "test_gen = enumerate(test_dl)\n",
    "\n",
    "for tr_idx, (X, y) in train_gen:\n",
    "    tr_l, inf_l = 0, 0\n",
    "    yhat, (_, _) = model(X, (h, c))\n",
    "    l = loss(yhat, y.cuda())\n",
    "\n",
    "    adam.zero_grad()\n",
    "    l.backward()\n",
    "    adam.step()\n",
    "    tr_l += l.item()\n",
    "\n",
    "    try:\n",
    "        inf_idx, (X, y) = next(test_gen)\n",
    "    except StopIteration:\n",
    "        test = enumerate(test_dl)\n",
    "        inf_idx, (X, y) = next(test_gen)\n",
    "    yhat, (_, _) = model(X, (h, c))\n",
    "    l = loss(yhat, y.cuda())\n",
    "    inf_l += l.item()\n",
    "    tr_losses.append(tr_l / len(train_dl))\n",
    "    inf_losses.append(inf_l / len(test_dl))\n",
    "    if tr_idx and tr_idx % 1000 == 0:\n",
    "        print(f\"iteration: {tr_idx} train loss: {tr_l /len(train_dl)} inf loss: {inf_l / len(test_dl)}\")\n"
   ]
  },
  {
   "cell_type": "code",
   "execution_count": null,
   "metadata": {},
   "outputs": [],
   "source": [
    "plt.plot(range(len(tr_losses)), tr_losses, label=\"train loss\")\n",
    "plt.plot(range(epochs), inf_losses, label=\"test loss\")\n",
    "plt.legend()\n",
    "plt.show()\n"
   ]
  },
  {
   "cell_type": "code",
   "execution_count": null,
   "metadata": {},
   "outputs": [],
   "source": []
  }
 ],
 "metadata": {
  "kernelspec": {
   "display_name": "Python 3",
   "language": "python",
   "name": "python3"
  },
  "language_info": {
   "codemirror_mode": {
    "name": "ipython",
    "version": 3
   },
   "file_extension": ".py",
   "mimetype": "text/x-python",
   "name": "python",
   "nbconvert_exporter": "python",
   "pygments_lexer": "ipython3",
   "version": "3.12.3"
  }
 },
 "nbformat": 4,
 "nbformat_minor": 2
}
