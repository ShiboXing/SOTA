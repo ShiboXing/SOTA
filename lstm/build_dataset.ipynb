{
 "cells": [
  {
   "cell_type": "code",
   "execution_count": 2,
   "metadata": {},
   "outputs": [
    {
     "name": "stdout",
     "output_type": "stream",
     "text": [
      "download path exists:  C:\\Users\\sxing/sales.zip\n"
     ]
    }
   ],
   "source": [
    "import sys\n",
    "sys.path.append(\"..\")\n",
    "from utils import download_file, decompress_file, DATA_HOME\n",
    "\n",
    "sales_uri = \"https://storage.googleapis.com/kaggle-competitions-data/kaggle-v2/29781/2887556/bundle/archive.zip?GoogleAccessId=web-data@kaggle-161607.iam.gserviceaccount.com&Expires=1684611799&Signature=4E45pjbdzfj5tsK1FnwzjFPet5cVMtuQYtfu1yjgq6rhXOp2GSA5ZqzmE8QgRCSUPn3aotUU1cWy6L0k8m%2BwDqfNdhpDmzHbBFvhWB%2BEmZ0PimQLuqZ4UnxgExUB%2FMu%2Fl%2B5W%2BXTFZqqIws%2BfHgGZpfhCs0StZjpMNAMa2XSONo5ClLPyG6dGi0CRsz7JcqGBxewDn2reDXmaEyOfdAL7q7%2FGiAKJlqcLDf7Wqe7l%2B7B%2FlNv04w5krxaynt8KnZ%2BM6KOjgxyqpOjOKYp1uyKQa%2FmSGyhLuR%2Br%2BVujuEmZO2iadh2KepHUuVkgm2If6%2FQmRXIQXFfGTsRBPJ2wL1ri%2FA%3D%3D&response-content-disposition=attachment%3B+filename%3Dstore-sales-time-series-forecasting.zip\"\n",
    "sales_dir = \"~/sales_data\"\n",
    "download_file(sales_uri, f\"{DATA_HOME}/sales.zip\")\n",
    "decompress_file(f\"{DATA_HOME}/sales.zip\", sales_dir)"
   ]
  },
  {
   "cell_type": "code",
   "execution_count": null,
   "metadata": {},
   "outputs": [
    {
     "name": "stdout",
     "output_type": "stream",
     "text": [
      "> \u001b[1;32mc:\\program files\\windowsapps\\pythonsoftwarefoundation.python.3.11_3.11.1008.0_x64__qbz5n2kfra8p0\\lib\\subprocess.py\u001b[0m(571)\u001b[0;36mrun\u001b[1;34m()\u001b[0m\n",
      "\u001b[1;32m    569 \u001b[1;33m        \u001b[0mretcode\u001b[0m \u001b[1;33m=\u001b[0m \u001b[0mprocess\u001b[0m\u001b[1;33m.\u001b[0m\u001b[0mpoll\u001b[0m\u001b[1;33m(\u001b[0m\u001b[1;33m)\u001b[0m\u001b[1;33m\u001b[0m\u001b[1;33m\u001b[0m\u001b[0m\n",
      "\u001b[0m\u001b[1;32m    570 \u001b[1;33m        \u001b[1;32mif\u001b[0m \u001b[0mcheck\u001b[0m \u001b[1;32mand\u001b[0m \u001b[0mretcode\u001b[0m\u001b[1;33m:\u001b[0m\u001b[1;33m\u001b[0m\u001b[1;33m\u001b[0m\u001b[0m\n",
      "\u001b[0m\u001b[1;32m--> 571 \u001b[1;33m            raise CalledProcessError(retcode, process.args,\n",
      "\u001b[0m\u001b[1;32m    572 \u001b[1;33m                                     output=stdout, stderr=stderr)\n",
      "\u001b[0m\u001b[1;32m    573 \u001b[1;33m    \u001b[1;32mreturn\u001b[0m \u001b[0mCompletedProcess\u001b[0m\u001b[1;33m(\u001b[0m\u001b[0mprocess\u001b[0m\u001b[1;33m.\u001b[0m\u001b[0margs\u001b[0m\u001b[1;33m,\u001b[0m \u001b[0mretcode\u001b[0m\u001b[1;33m,\u001b[0m \u001b[0mstdout\u001b[0m\u001b[1;33m,\u001b[0m \u001b[0mstderr\u001b[0m\u001b[1;33m)\u001b[0m\u001b[1;33m\u001b[0m\u001b[1;33m\u001b[0m\u001b[0m\n",
      "\u001b[0m\n",
      "None\n",
      "None\n",
      "None\n",
      "1\n",
      "1\n",
      "*** NameError: name 'i' is not defined\n",
      "> \u001b[1;32mc:\\users\\sxing\\sota\\utils\\__init__.py\u001b[0m(12)\u001b[0;36mdownload_file\u001b[1;34m()\u001b[0m\n",
      "\u001b[1;32m     10 \u001b[1;33m        \u001b[0msp\u001b[0m\u001b[1;33m.\u001b[0m\u001b[0mrun\u001b[0m\u001b[1;33m(\u001b[0m\u001b[1;34mf\"curl '{uri}' -o '{out_file}'\"\u001b[0m\u001b[1;33m,\u001b[0m \u001b[0mshell\u001b[0m\u001b[1;33m=\u001b[0m\u001b[1;32mTrue\u001b[0m\u001b[1;33m,\u001b[0m \u001b[0mcheck\u001b[0m\u001b[1;33m=\u001b[0m\u001b[1;32mTrue\u001b[0m\u001b[1;33m)\u001b[0m\u001b[1;33m\u001b[0m\u001b[1;33m\u001b[0m\u001b[0m\n",
      "\u001b[0m\u001b[1;32m     11 \u001b[1;33m    \u001b[1;32melse\u001b[0m\u001b[1;33m:\u001b[0m\u001b[1;33m\u001b[0m\u001b[1;33m\u001b[0m\u001b[0m\n",
      "\u001b[0m\u001b[1;32m---> 12 \u001b[1;33m        \u001b[0msp\u001b[0m\u001b[1;33m.\u001b[0m\u001b[0mrun\u001b[0m\u001b[1;33m(\u001b[0m\u001b[1;34mf\"Invoke-WebRequest -Uri '{uri}' -OutFile '{out_file}'\"\u001b[0m\u001b[1;33m,\u001b[0m \u001b[0mshell\u001b[0m\u001b[1;33m=\u001b[0m\u001b[1;32mTrue\u001b[0m\u001b[1;33m,\u001b[0m \u001b[0mcheck\u001b[0m\u001b[1;33m=\u001b[0m\u001b[1;32mTrue\u001b[0m\u001b[1;33m)\u001b[0m\u001b[1;33m\u001b[0m\u001b[1;33m\u001b[0m\u001b[0m\n",
      "\u001b[0m\u001b[1;32m     13 \u001b[1;33m\u001b[1;33m\u001b[0m\u001b[0m\n",
      "\u001b[0m\u001b[1;32m     14 \u001b[1;33m\u001b[1;32mdef\u001b[0m \u001b[0mdecompress_file\u001b[0m\u001b[1;33m(\u001b[0m\u001b[0mpth\u001b[0m\u001b[1;33m)\u001b[0m\u001b[1;33m:\u001b[0m\u001b[1;33m\u001b[0m\u001b[1;33m\u001b[0m\u001b[0m\n",
      "\u001b[0m\n",
      "*** subprocess.CalledProcessError: Command 'Invoke-WebRequest -Uri 'https://storage.googleapis.com/kaggle-competitions-data/kaggle-v2/29781/2887556/bundle/archive.zip?GoogleAccessId=web-data@kaggle-161607.iam.gserviceaccount.com&Expires=1684611799&Signature=4E45pjbdzfj5tsK1FnwzjFPet5cVMtuQYtfu1yjgq6rhXOp2GSA5ZqzmE8QgRCSUPn3aotUU1cWy6L0k8m%2BwDqfNdhpDmzHbBFvhWB%2BEmZ0PimQLuqZ4UnxgExUB%2FMu%2Fl%2B5W%2BXTFZqqIws%2BfHgGZpfhCs0StZjpMNAMa2XSONo5ClLPyG6dGi0CRsz7JcqGBxewDn2reDXmaEyOfdAL7q7%2FGiAKJlqcLDf7Wqe7l%2B7B%2FlNv04w5krxaynt8KnZ%2BM6KOjgxyqpOjOKYp1uyKQa%2FmSGyhLuR%2Br%2BVujuEmZO2iadh2KepHUuVkgm2If6%2FQmRXIQXFfGTsRBPJ2wL1ri%2FA%3D%3D&response-content-disposition=attachment%3B+filename%3Dstore-sales-time-series-forecasting.zip' -OutFile 'C:\\Users\\sxing/sales.zip'' returned non-zero exit status 1.\n",
      "*** subprocess.CalledProcessError: Command 'Invoke-WebRequest -Uri 'https://storage.googleapis.com/kaggle-competitions-data/kaggle-v2/29781/2887556/bundle/archive.zip?GoogleAccessId=web-data@kaggle-161607.iam.gserviceaccount.com&Expires=1684611799&Signature=4E45pjbdzfj5tsK1FnwzjFPet5cVMtuQYtfu1yjgq6rhXOp2GSA5ZqzmE8QgRCSUPn3aotUU1cWy6L0k8m%2BwDqfNdhpDmzHbBFvhWB%2BEmZ0PimQLuqZ4UnxgExUB%2FMu%2Fl%2B5W%2BXTFZqqIws%2BfHgGZpfhCs0StZjpMNAMa2XSONo5ClLPyG6dGi0CRsz7JcqGBxewDn2reDXmaEyOfdAL7q7%2FGiAKJlqcLDf7Wqe7l%2B7B%2FlNv04w5krxaynt8KnZ%2BM6KOjgxyqpOjOKYp1uyKQa%2FmSGyhLuR%2Br%2BVujuEmZO2iadh2KepHUuVkgm2If6%2FQmRXIQXFfGTsRBPJ2wL1ri%2FA%3D%3D&response-content-disposition=attachment%3B+filename%3Dstore-sales-time-series-forecasting.zip' -OutFile 'C:\\Users\\sxing/sales.zip'' returned non-zero exit status 1.\n"
     ]
    }
   ],
   "source": []
  },
  {
   "cell_type": "code",
   "execution_count": null,
   "metadata": {},
   "outputs": [],
   "source": []
  }
 ],
 "metadata": {
  "kernelspec": {
   "display_name": "Python 3",
   "language": "python",
   "name": "python3"
  },
  "language_info": {
   "codemirror_mode": {
    "name": "ipython",
    "version": 3
   },
   "file_extension": ".py",
   "mimetype": "text/x-python",
   "name": "python",
   "nbconvert_exporter": "python",
   "pygments_lexer": "ipython3",
   "version": "3.11.3"
  },
  "orig_nbformat": 4
 },
 "nbformat": 4,
 "nbformat_minor": 2
}
