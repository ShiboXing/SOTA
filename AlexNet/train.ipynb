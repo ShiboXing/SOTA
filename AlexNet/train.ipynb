{
 "cells": [
  {
   "cell_type": "code",
   "execution_count": null,
   "metadata": {},
   "outputs": [],
   "source": [
    "import torch, torchvision\n",
    "from torchvision.datasets import MNIST\n",
    "import torchvision.transforms as transforms\n",
    "import torch.utils\n",
    "from alexnet import AlexNet\n",
    "import torch.nn as nn\n",
    "from torch.optim import Adam\n"
   ]
  },
  {
   "cell_type": "code",
   "execution_count": null,
   "metadata": {},
   "outputs": [],
   "source": [
    "W = 67 # minimum width for input to pass through alexnet\n",
    "transform = transforms.Compose([\n",
    "    transforms.Resize((W, W)), # the original mnist image size is 28*28, alexnet input size is 227*227\n",
    "    transforms.ToTensor(),\n",
    "    transforms.Normalize((0.5, ), (0.5, ))\n",
    "])\n",
    "\n",
    "train = MNIST(root='./data', train=True, download=True, transform=transform)\n",
    "test = MNIST(root='./data', train=False, download=True, transform=transform)"
   ]
  },
  {
   "cell_type": "code",
   "execution_count": null,
   "metadata": {},
   "outputs": [],
   "source": [
    "batch_size = 64\n",
    "\n",
    "def transform_y(batch):\n",
    "    imgs = []\n",
    "    labels = []\n",
    "    for idx in range(len(batch)):\n",
    "        img = batch[idx][0]\n",
    "        imgs.append(img)\n",
    "        label_onehot = torch.zeros(10)\n",
    "        label_onehot[batch[idx][1]] = 1\n",
    "        labels.append(label_onehot.unsqueeze(0))\n",
    "\n",
    "    imgs, labels = torch.concat(imgs, 0), torch.concat(labels, 0)\n",
    "    return imgs.unsqueeze(1), labels\n",
    "\n",
    "train_loader = torch.utils.data.DataLoader(train, batch_size, shuffle=True, collate_fn=transform_y)\n",
    "test_loader = torch.utils.data.DataLoader(test, batch_size, shuffle=False, collate_fn=transform_y)\n",
    "\n",
    "model = AlexNet(10, 1)"
   ]
  },
  {
   "cell_type": "code",
   "execution_count": null,
   "metadata": {},
   "outputs": [],
   "source": [
    "learning_rate = 0.01\n",
    "num_epochs = 10\n",
    "device = 'cuda' if torch.cuda.is_available() else 'cpu'\n",
    "\n",
    "criterion = nn.CrossEntropyLoss()\n",
    "optimizer = Adam(model.parameters(), lr=learning_rate)"
   ]
  },
  {
   "cell_type": "code",
   "execution_count": null,
   "metadata": {},
   "outputs": [],
   "source": [
    "model = model.to(device)\n",
    "\n",
    "for epoch in range(num_epochs):\n",
    "    for idx, (images, labels) in enumerate(train_loader):\n",
    "        images = images.to(device)\n",
    "        labels = labels.to(device)\n",
    "\n",
    "        # forward pass\n",
    "        outputs = model(images)\n",
    "        print(labels.shape, outputs.shape, images.shape)\n",
    "        # print(outputs[0], labels)\n",
    "        break\n",
    "        loss = criterion(outputs, labels)\n",
    "\n",
    "        # backward and optimize \n",
    "        optimizer.zero_grad()\n",
    "        loss.backward()\n",
    "        optimizer.step()\n",
    "    break\n",
    "\n",
    "    print(\"epoch:\" + str(epoch) + \"loss:\" + str(loss))\n",
    "\n"
   ]
  },
  {
   "cell_type": "code",
   "execution_count": null,
   "metadata": {},
   "outputs": [],
   "source": [
    "%debug"
   ]
  },
  {
   "cell_type": "code",
   "execution_count": null,
   "metadata": {},
   "outputs": [],
   "source": []
  }
 ],
 "metadata": {
  "kernelspec": {
   "display_name": "lxl",
   "language": "python",
   "name": "python3"
  },
  "language_info": {
   "codemirror_mode": {
    "name": "ipython",
    "version": 3
   },
   "file_extension": ".py",
   "mimetype": "text/x-python",
   "name": "python",
   "nbconvert_exporter": "python",
   "pygments_lexer": "ipython3",
   "version": "3.12.2"
  }
 },
 "nbformat": 4,
 "nbformat_minor": 2
}
