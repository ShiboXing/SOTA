{
 "cells": [
  {
   "cell_type": "code",
   "execution_count": null,
   "metadata": {},
   "outputs": [],
   "source": [
    "import torch, torchvision\n",
    "from torchvision.datasets import MNIST\n",
    "import torchvision.transforms as transforms\n",
    "import torch.utils\n",
    "from alexnet import AlexNet\n",
    "import torch.nn as nn\n",
    "from torch.optim import Adam"
   ]
  },
  {
   "cell_type": "code",
   "execution_count": null,
   "metadata": {},
   "outputs": [],
   "source": [
    "W = 227  # minimum width for input to pass through alexnet\n",
    "transform = transforms.Compose(\n",
    "    [\n",
    "        transforms.Resize(\n",
    "            (W, W)\n",
    "        ),  # the original mnist image size is 28*28, alexnet input size is 227*227\n",
    "        transforms.ToTensor(),\n",
    "        transforms.Normalize((0.5,), (0.5,)),\n",
    "    ]\n",
    ")\n",
    "\n",
    "train = MNIST(root=\"./data\", train=True, download=True, transform=transform)\n",
    "test = MNIST(root=\"./data\", train=False, download=True, transform=transform)"
   ]
  },
  {
   "cell_type": "code",
   "execution_count": null,
   "metadata": {},
   "outputs": [],
   "source": [
    "batch_size = 64\n",
    "\n",
    "train_loader = torch.utils.data.DataLoader(train, batch_size, shuffle=True)\n",
    "test_loader = torch.utils.data.DataLoader(test, batch_size, shuffle=False)\n",
    "\n",
    "model = AlexNet(10, 1)"
   ]
  },
  {
   "cell_type": "code",
   "execution_count": null,
   "metadata": {},
   "outputs": [],
   "source": [
    "learning_rate = 0.01\n",
    "num_epochs = 10\n",
    "device = \"cuda\" if torch.cuda.is_available() else \"cpu\"\n",
    "\n",
    "criterion = nn.CrossEntropyLoss()\n",
    "optimizer = Adam(model.parameters(), lr=learning_rate)"
   ]
  },
  {
   "cell_type": "code",
   "execution_count": null,
   "metadata": {},
   "outputs": [],
   "source": [
    "train_losses = []\n",
    "test_losses = []\n",
    "test_gen = enumerate(test_loader)\n",
    "\n",
    "model = model.to(device)\n",
    "for epoch in range(num_epochs):\n",
    "    for idx, (train_imgs, train_labels) in enumerate(train_loader):\n",
    "        train_imgs = train_imgs.to(device)\n",
    "        train_labels = train_labels.to(device)\n",
    "\n",
    "        # forward pass\n",
    "        train_outputs = model(train_imgs)\n",
    "        # print(labels.shape, outputs.shape, images.shape)\n",
    "        train_loss = criterion(train_outputs, train_labels)\n",
    "        train_losses.append(train_loss.item())\n",
    "        # backward and optimize\n",
    "        optimizer.zero_grad()\n",
    "        train_loss.backward()\n",
    "        optimizer.step()\n",
    "\n",
    "        # get test loss\n",
    "        try:\n",
    "            _, (test_imgs, test_labels) = next(test_gen)\n",
    "        except StopIteration:\n",
    "            test_gen = enumerate(test_loader)\n",
    "            _, (test_imgs, test_labels) = next(test_gen)\n",
    "\n",
    "        test_imgs = test_imgs.to(device)\n",
    "        test_labels = test_labels.to(device)\n",
    "\n",
    "        test_outputs = model(test_imgs)\n",
    "        test_loss = criterion(test_outputs, test_labels)\n",
    "        test_losses.append(test_loss.item())\n",
    "\n",
    "    print(f\"epoch: {epoch} train_loss: {train_loss} test_loss: {test_loss}\")"
   ]
  },
  {
   "cell_type": "code",
   "execution_count": null,
   "metadata": {},
   "outputs": [],
   "source": [
    "import matplotlib.pyplot as plt\n",
    "\n",
    "# plt.bar(range(len(train_losses)), train_losses, color='skyblue')\n",
    "\n",
    "plt.bar(range(len(train_losses[400:1500])), train_losses[400:1500], color=\"skyblue\")\n",
    "plt.xlabel(\"Iteration\")\n",
    "plt.ylabel(\"Loss\")\n",
    "plt.title(\"Loss per Iteration\")\n",
    "plt.show()"
   ]
  },
  {
   "cell_type": "code",
   "execution_count": null,
   "metadata": {},
   "outputs": [],
   "source": []
  }
 ],
 "metadata": {
  "kernelspec": {
   "display_name": "lxl",
   "language": "python",
   "name": "python3"
  },
  "language_info": {
   "codemirror_mode": {
    "name": "ipython",
    "version": 3
   },
   "file_extension": ".py",
   "mimetype": "text/x-python",
   "name": "python",
   "nbconvert_exporter": "python",
   "pygments_lexer": "ipython3",
   "version": "3.12.3"
  }
 },
 "nbformat": 4,
 "nbformat_minor": 2
}
