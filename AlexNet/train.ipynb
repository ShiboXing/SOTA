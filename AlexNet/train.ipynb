{
 "cells": [
  {
   "cell_type": "code",
   "execution_count": 1,
   "metadata": {},
   "outputs": [],
   "source": [
    "import torch, torchvision\n",
    "from torchvision.datasets import MNIST\n",
    "import torchvision.transforms as transforms\n",
    "import torch.utils\n",
    "from alexnet import AlexNet\n",
    "import torch.nn as nn\n",
    "from torch.optim import Adam\n"
   ]
  },
  {
   "cell_type": "code",
   "execution_count": 2,
   "metadata": {},
   "outputs": [],
   "source": [
    "W = 227 # minimum width for input to pass through alexnet\n",
    "transform = transforms.Compose([\n",
    "    transforms.Resize((W, W)), # the original mnist image size is 28*28, alexnet input size is 227*227\n",
    "    transforms.ToTensor(),\n",
    "    transforms.Normalize((0.5, ), (0.5, ))\n",
    "])\n",
    "\n",
    "train = MNIST(root='./data', train=True, download=True, transform=transform)\n",
    "test = MNIST(root='./data', train=False, download=True, transform=transform)"
   ]
  },
  {
   "cell_type": "code",
   "execution_count": 3,
   "metadata": {},
   "outputs": [
    {
     "name": "stderr",
     "output_type": "stream",
     "text": [
      "/home/anyxling/lxl/lib/python3.12/site-packages/torch/nn/modules/lazy.py:181: UserWarning: Lazy modules are a new feature under heavy development so changes to the API or functionality can happen at any moment.\n",
      "  warnings.warn('Lazy modules are a new feature under heavy development '\n"
     ]
    }
   ],
   "source": [
    "batch_size = 64\n",
    "\n",
    "train_loader = torch.utils.data.DataLoader(train, batch_size, shuffle=True)\n",
    "test_loader = torch.utils.data.DataLoader(test, batch_size, shuffle=False)\n",
    "\n",
    "model = AlexNet(10, 1)"
   ]
  },
  {
   "cell_type": "code",
   "execution_count": 4,
   "metadata": {},
   "outputs": [],
   "source": [
    "learning_rate = 0.01\n",
    "num_epochs = 10\n",
    "device = 'cuda' if torch.cuda.is_available() else 'cpu'\n",
    "\n",
    "criterion = nn.CrossEntropyLoss()\n",
    "optimizer = Adam(model.parameters(), lr=learning_rate)"
   ]
  },
  {
   "cell_type": "code",
   "execution_count": 5,
   "metadata": {},
   "outputs": [
    {
     "name": "stdout",
     "output_type": "stream",
     "text": [
      "epoch: 0 train_loss: 3.3645641803741455 test_loss: 4.770510196685791\n",
      "epoch: 1 train_loss: 3.9921975135803223 test_loss: 3.426241397857666\n",
      "epoch: 2 train_loss: 10.581636428833008 test_loss: 8.775585174560547\n",
      "epoch: 3 train_loss: 4.648289680480957 test_loss: 8.019824981689453\n",
      "epoch: 4 train_loss: 2.276257038116455 test_loss: 2.1105992794036865\n",
      "epoch: 5 train_loss: 1.860971212387085 test_loss: 1.9561965465545654\n",
      "epoch: 6 train_loss: 1.512784719467163 test_loss: 1.3941758871078491\n",
      "epoch: 7 train_loss: 2.4289839267730713 test_loss: 2.1694300174713135\n",
      "epoch: 8 train_loss: 1.5638619661331177 test_loss: 1.020110845565796\n",
      "epoch: 9 train_loss: 1.0894169807434082 test_loss: 1.2416300773620605\n"
     ]
    }
   ],
   "source": [
    "train_losses = []\n",
    "test_losses = []\n",
    "test_gen = enumerate(test_loader)\n",
    "\n",
    "model = model.to(device)\n",
    "for epoch in range(num_epochs):\n",
    "    for idx, (train_imgs, train_labels) in enumerate(train_loader):\n",
    "        train_imgs = train_imgs.to(device)\n",
    "        train_labels = train_labels.to(device)\n",
    "\n",
    "        # forward pass\n",
    "        train_outputs = model(train_imgs)\n",
    "        # print(labels.shape, outputs.shape, images.shape)\n",
    "        train_loss = criterion(train_outputs, train_labels)\n",
    "        train_losses.append(train_loss.item())\n",
    "        # backward and optimize \n",
    "        optimizer.zero_grad()\n",
    "        train_loss.backward()\n",
    "        optimizer.step()\n",
    "\n",
    "        # get test loss\n",
    "        try:\n",
    "            _, (test_imgs, test_labels) = next(test_gen)\n",
    "        except StopIteration:\n",
    "            test_gen = enumerate(test_loader) \n",
    "            _, (test_imgs, test_labels) = next(test_gen)\n",
    "\n",
    "        test_imgs = test_imgs.to(device)\n",
    "        test_labels = test_labels.to(device)\n",
    "        \n",
    "        test_outputs = model(test_imgs)\n",
    "        test_loss = criterion(test_outputs, test_labels)\n",
    "        test_losses.append(test_loss.item())\n",
    "\n",
    "    print(f\"epoch: {epoch} train_loss: {train_loss} test_loss: {test_loss}\")\n",
    "\n"
   ]
  },
  {
   "cell_type": "code",
   "execution_count": 11,
   "metadata": {},
   "outputs": [
    {
     "data": {
      "image/png": "[encoded data removed]",
      "text/plain": [
       "<Figure size 640x480 with 1 Axes>"
      ]
     },
     "metadata": {},
     "output_type": "display_data"
    }
   ],
   "source": [
    "import matplotlib.pyplot as plt\n",
    "# plt.bar(range(len(train_losses)), train_losses, color='skyblue')\n",
    "\n",
    "plt.bar(range(len(train_losses[400:1500])), train_losses[400:1500], color='skyblue')\n",
    "plt.xlabel('Iteration')\n",
    "plt.ylabel('Loss')\n",
    "plt.title('Loss per Iteration')\n",
    "plt.show()"
   ]
  },
  {
   "cell_type": "code",
   "execution_count": null,
   "metadata": {},
   "outputs": [],
   "source": []
  }
 ],
 "metadata": {
  "kernelspec": {
   "display_name": "lxl",
   "language": "python",
   "name": "python3"
  },
  "language_info": {
   "codemirror_mode": {
    "name": "ipython",
    "version": 3
   },
   "file_extension": ".py",
   "mimetype": "text/x-python",
   "name": "python",
   "nbconvert_exporter": "python",
   "pygments_lexer": "ipython3",
   "version": "3.12.2"
  }
 },
 "nbformat": 4,
 "nbformat_minor": 2
}
